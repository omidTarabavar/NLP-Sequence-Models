{
 "cells": [
  {
   "cell_type": "markdown",
   "id": "3531c13c",
   "metadata": {},
   "source": [
    "# Assignment 1:  Sentiment with Deep Neural Networks\n",
    "\n",
    "Welcome to the first assignment of course 3. **This is a practice assignment**, which means that the grade you receive won't count towards your final grade of the course. **However you can still submit your solutions and receive a grade along with feedback from the grader.** Before getting started take some time to read the following tips: \n",
    "\n",
    "#### TIPS FOR SUCCESSFUL GRADING OF YOUR ASSIGNMENT:\n",
    "\n",
    "- All cells are frozen except for the ones where you need to submit your solutions.\n",
    "\n",
    "- You can add new cells to experiment but these will be omitted by the grader, so don't rely on newly created cells to host your solution code, use the provided places for this.\n",
    "\n",
    "- You can add the comment # grade-up-to-here in any graded cell to signal the grader that it must only evaluate up to that point. This is helpful if you want to check if you are on the right track even if you are not done with the whole assignment. Be sure to remember to delete the comment afterwards!\n",
    "\n",
    "- To submit your notebook, save it and then click on the blue submit button at the beginning of the page.\n",
    "\n",
    "\n",
    "In this assignment, you will explore sentiment analysis using deep neural networks. "
   ]
  },
  {
   "cell_type": "markdown",
   "id": "5f6473fc",
   "metadata": {},
   "source": [
    "## Table of Contents\n",
    "- [1 - Import the Libraries](#1)\n",
    "- [2 - Importing the Data](#2)\n",
    "    - [2.1 - Load and split the Data](#2-1)\n",
    "    - [2.2 - Build the Vocabulary](#2-2)\n",
    "        - [Exercise 1 - build_vocabulary](#ex-1)\n",
    "    - [2.3 - Convert a Tweet to a Tensor](#2-3)\n",
    "        - [Exercise 2 - max_len](#ex-2)\n",
    "        - [Exercise 3 - padded_sequences](#ex-3)\n",
    "- [3 - Define the structure of the neural network layers](#3)\n",
    "    - [3.1 - ReLU](#3-1)\n",
    "        - [Exercise 4 - relu](#ex-4)\n",
    "    - [3.2 - Sigmoid](#3.2)\n",
    "        - [Exercise 5 - sigmoid](#ex-5)\n",
    "    - [3.3 - Dense class](#3-3)\n",
    "        - [Exercise 6 - Dense](#ex-6)\n",
    "    - [3.3 - Model](#3-4)\n",
    "        - [Exercise 7 - create_model](#ex-7)\n",
    "- [4 - Evaluate the model](#4)\n",
    "    - [4.1 Predict on Data](#4-1)\n",
    "- [5 - Test With Your Own Input](#5)\n",
    "    - [5.1 Create the Prediction Function](#5-1)\n",
    "        - [Exercise 8 - graded_very_positive_tweet](#ex-8)\n",
    "- [6 - Word Embeddings](#6)"
   ]
  },
  {
   "cell_type": "markdown",
   "id": "bd2428bf",
   "metadata": {},
   "source": [
    "In course 1, you implemented Logistic regression and Naive Bayes for sentiment analysis. Even though the two models performed very well on the dataset of tweets, they fail to catch any meaning beyond the meaning of words. For this you can use neural networks. In this assignment, you will write a program that uses a simple deep neural network to identify sentiment in text. By completing this assignment, you will: \n",
    "\n",
    "- Understand how you can design a neural network using tensorflow\n",
    "- Build and train a model\n",
    "- Use a binary cross-entropy loss function\n",
    "- Compute the accuracy of your model\n",
    "- Predict using your own input\n",
    "\n",
    "As you can tell, this model follows a similar structure to the one you previously implemented in the second course of this specialization. \n",
    "- Indeed most of the deep nets you will be implementing will have a similar structure. The only thing that changes is the model architecture, the inputs, and the outputs. In this assignment, you will first create the neural network layers from scratch using `numpy` to better understand what is going on. After this you will use the library `tensorflow` for building and training the model."
   ]
  },
  {
   "cell_type": "markdown",
   "id": "9ee4dd3f",
   "metadata": {},
   "source": [
    "<a name=\"1\"></a>\n",
    "## 1 - Import the Libraries\n",
    "\n",
    "Run the next cell to import the Python packages you'll need for this assignment.\n",
    "\n",
    "Note the `from utils import ...` line. This line imports the functions that were specifically written for this assignment. If you want to look at what these functions are, go to `File -> Open...` and open the `utils.py` file to have a look."
   ]
  },
  {
   "cell_type": "code",
   "execution_count": 1,
   "id": "06d551ca",
   "metadata": {
    "deletable": false,
    "editable": false,
    "tags": [
     "graded"
    ]
   },
   "outputs": [
    {
     "name": "stderr",
     "output_type": "stream",
     "text": [
      "[nltk_data] Downloading package twitter_samples to\n",
      "[nltk_data]     /usr/local/share/nltk_data...\n",
      "[nltk_data]   Package twitter_samples is already up-to-date!\n",
      "[nltk_data] Downloading package stopwords to\n",
      "[nltk_data]     /usr/local/share/nltk_data...\n",
      "[nltk_data]   Package stopwords is already up-to-date!\n",
      "[nltk_data] Downloading package averaged_perceptron_tagger to\n",
      "[nltk_data]     /usr/local/share/nltk_data...\n",
      "[nltk_data]   Package averaged_perceptron_tagger is already up-to-\n",
      "[nltk_data]       date!\n",
      "[nltk_data] Downloading package wordnet to\n",
      "[nltk_data]     /usr/local/share/nltk_data...\n",
      "[nltk_data]   Package wordnet is already up-to-date!\n"
     ]
    }
   ],
   "source": [
    "import os\n",
    "os.environ['TF_CPP_MIN_LOG_LEVEL'] = '3'\n",
    "\n",
    "import numpy as np\n",
    "import tensorflow as tf\n",
    "import matplotlib.pyplot as plt\n",
    "from sklearn.decomposition import PCA\n",
    "\n",
    "from utils import load_tweets, process_tweet\n",
    "\n",
    "%matplotlib inline"
   ]
  },
  {
   "cell_type": "code",
   "execution_count": 2,
   "id": "de4ac254",
   "metadata": {
    "deletable": false,
    "editable": false
   },
   "outputs": [],
   "source": [
    "import w1_unittest"
   ]
  },
  {
   "cell_type": "markdown",
   "id": "8dbe1be4",
   "metadata": {},
   "source": [
    "<a name=\"2\"></a>\n",
    "## 2 - Import the Data\n",
    "\n",
    "<a name=\"2-1\"></a>\n",
    "### 2.1 - Load and split the Data\n",
    "\n",
    "- Import the positive and negative tweets\n",
    "- Have a look at some examples of the tweets\n",
    "- Split the data into the training and validation sets\n",
    "- Create labels for the data"
   ]
  },
  {
   "cell_type": "code",
   "execution_count": 3,
   "id": "57670f95",
   "metadata": {
    "deletable": false,
    "editable": false,
    "tags": [
     "graded"
    ]
   },
   "outputs": [
    {
     "name": "stdout",
     "output_type": "stream",
     "text": [
      "The number of positive tweets: 5000\n",
      "The number of negative tweets: 5000\n"
     ]
    }
   ],
   "source": [
    "# Load positive and negative tweets\n",
    "all_positive_tweets, all_negative_tweets = load_tweets()\n",
    "\n",
    "# View the total number of positive and negative tweets.\n",
    "print(f\"The number of positive tweets: {len(all_positive_tweets)}\")\n",
    "print(f\"The number of negative tweets: {len(all_negative_tweets)}\")"
   ]
  },
  {
   "cell_type": "code",
   "execution_count": 4,
   "id": "e8f6d1eb",
   "metadata": {},
   "outputs": [
    {
     "data": {
      "text/plain": [
       "(['#FollowFriday @France_Inte @PKuchly57 @Milipol_Paris for being top engaged members in my community this week :)',\n",
       "  '@Lamb2ja Hey James! How odd :/ Please call our Contact Centre on 02392441234 and we will be able to assist you :) Many thanks!'],\n",
       " ['hopeless for tmr :(',\n",
       "  \"Everything in the kids section of IKEA is so cute. Shame I'm nearly 19 in 2 months :(\"])"
      ]
     },
     "execution_count": 4,
     "metadata": {},
     "output_type": "execute_result"
    }
   ],
   "source": [
    "all_positive_tweets[:2], all_negative_tweets[:2]"
   ]
  },
  {
   "cell_type": "markdown",
   "id": "e7b47d9d",
   "metadata": {},
   "source": [
    "Now you can have a look at some examples of tweets. "
   ]
  },
  {
   "cell_type": "code",
   "execution_count": 5,
   "id": "676f8aca",
   "metadata": {
    "deletable": false,
    "editable": false,
    "tags": [
     "graded"
    ]
   },
   "outputs": [
    {
     "name": "stdout",
     "output_type": "stream",
     "text": [
      "Positive tweet example:\n",
      "yeaaaah yippppy!!!  my accnt verified rqst has succeed got a blue tick mark on my fb profile :) in 15 days\n",
      "\n",
      "Negative tweet example:\n",
      "Dang starting next week I have \"work\" :(\n"
     ]
    }
   ],
   "source": [
    "# Change the tweet number to any number between 0 and 4999 to see a different pair of tweets.\n",
    "tweet_number = 4\n",
    "print('Positive tweet example:')\n",
    "print(all_positive_tweets[tweet_number])\n",
    "print('\\nNegative tweet example:')\n",
    "print(all_negative_tweets[tweet_number])"
   ]
  },
  {
   "cell_type": "markdown",
   "id": "2d07832d",
   "metadata": {},
   "source": [
    "Here you will process the tweets. This part of the code has been implemented for you.  The processing includes:\n",
    "\n",
    "- tokenizing the sentence (splitting to words)\n",
    "- removing stock market tickers like $GE\n",
    "- removing old style retweet text \"RT\"\n",
    "- removing hyperlinks\n",
    "- removing hashtags\n",
    "- lowercasing\n",
    "- removing stopwords and punctuation\n",
    "- stemming\n",
    "\n",
    "Some of these things are general steps you would do when processing any text, some others are very \"tweet-specific\". The details of the process_tweet function are available in utils.py file"
   ]
  },
  {
   "cell_type": "code",
   "execution_count": 6,
   "id": "a64dc904",
   "metadata": {
    "deletable": false,
    "editable": false,
    "tags": [
     "graded"
    ]
   },
   "outputs": [],
   "source": [
    "# Process all the tweets: tokenize the string, remove tickers, handles, punctuation and stopwords, stem the words\n",
    "all_positive_tweets_processed = [process_tweet(tweet) for tweet in all_positive_tweets]\n",
    "all_negative_tweets_processed = [process_tweet(tweet) for tweet in all_negative_tweets]"
   ]
  },
  {
   "cell_type": "markdown",
   "id": "a7f60d28",
   "metadata": {},
   "source": [
    "Now you can have a look at some examples of how the tweets look like after being processed."
   ]
  },
  {
   "cell_type": "code",
   "execution_count": 7,
   "id": "eab3b775",
   "metadata": {
    "deletable": false,
    "editable": false,
    "tags": [
     "graded"
    ]
   },
   "outputs": [
    {
     "name": "stdout",
     "output_type": "stream",
     "text": [
      "Positive processed tweet example:\n",
      "['yeaaah', 'yipppy', 'accnt', 'verify', 'rqst', 'succeed', 'get', 'blue', 'tick', 'mark', 'fb', 'profile', ':)', '15', 'day']\n",
      "\n",
      "Negative processed tweet example:\n",
      "['dang', 'start', 'next', 'week', 'work', ':(']\n"
     ]
    }
   ],
   "source": [
    "# Change the tweet number to any number between 0 and 4999 to see a different pair of tweets.\n",
    "tweet_number = 4\n",
    "print('Positive processed tweet example:')\n",
    "print(all_positive_tweets_processed[tweet_number])\n",
    "print('\\nNegative processed tweet example:')\n",
    "print(all_negative_tweets_processed[tweet_number])"
   ]
  },
  {
   "cell_type": "markdown",
   "id": "4766db90",
   "metadata": {},
   "source": [
    "Next, you split the tweets into the training and validation datasets. For this example you can use 80 % of the data for training and 20 % of the data for validation."
   ]
  },
  {
   "cell_type": "code",
   "execution_count": 8,
   "id": "ed51b361",
   "metadata": {
    "deletable": false,
    "editable": false,
    "tags": [
     "graded"
    ]
   },
   "outputs": [
    {
     "name": "stdout",
     "output_type": "stream",
     "text": [
      "There are 8000 sentences for training.\n",
      "There are 8000 labels for training.\n",
      "\n",
      "There are 2000 sentences for validation.\n",
      "There are 2000 labels for validation.\n"
     ]
    }
   ],
   "source": [
    "# Split positive set into validation and training\n",
    "val_pos = all_positive_tweets_processed[4000:]\n",
    "train_pos = all_positive_tweets_processed[:4000]\n",
    "# Split negative set into validation and training\n",
    "val_neg = all_negative_tweets_processed[4000:]\n",
    "train_neg = all_negative_tweets_processed[:4000]\n",
    "\n",
    "train_x = train_pos + train_neg \n",
    "val_x  = val_pos + val_neg\n",
    "\n",
    "# Set the labels for the training and validation set (1 for positive, 0 for negative)\n",
    "train_y = [[1] for _ in train_pos] + [[0] for _ in train_neg]\n",
    "val_y  = [[1] for _ in val_pos] + [[0] for _ in val_neg]\n",
    "\n",
    "print(f\"There are {len(train_x)} sentences for training.\")\n",
    "print(f\"There are {len(train_y)} labels for training.\\n\")\n",
    "print(f\"There are {len(val_x)} sentences for validation.\")\n",
    "print(f\"There are {len(val_y)} labels for validation.\")"
   ]
  },
  {
   "cell_type": "markdown",
   "id": "5eff3b5f",
   "metadata": {},
   "source": [
    "<a name=\"2-2\"></a>\n",
    "### 2.2 - Build the Vocabulary\n",
    "\n",
    "Now build the vocabulary.\n",
    "- Map each word in each tweet to an integer (an \"index\"). \n",
    "- Note that you will build the vocabulary based on the training data. \n",
    "- To do so, you will assign an index to every word by iterating over your training set.\n",
    "\n",
    "The vocabulary will also include some special tokens\n",
    "- `''`: padding\n",
    "- `'[UNK]'`: a token representing any word that is not in the vocabulary."
   ]
  },
  {
   "cell_type": "markdown",
   "id": "db38f3bf",
   "metadata": {},
   "source": [
    "<a name=\"ex-1\"></a>\n",
    "### Exercise 1 - build_vocabulary\n",
    "Build the vocabulary from all of the tweets in the training set."
   ]
  },
  {
   "cell_type": "code",
   "execution_count": 16,
   "id": "6b92a065",
   "metadata": {
    "deletable": false,
    "tags": [
     "graded"
    ]
   },
   "outputs": [
    {
     "name": "stdout",
     "output_type": "stream",
     "text": [
      "Vocabulary contains 9535 words\n",
      "\n",
      "{'': 0, '[UNK]': 1, '(-:': 2, '(:': 3, '):': 4, '--->': 5, '-->': 6, '->': 7, '.\\n.': 8, '.\\n.\\n.': 9, '. .': 10, '. . .': 11, '. ..': 12, '. ...': 13, '..': 14, '...': 15, '0': 16, '0-100': 17, '0-2': 18, '0.001': 19, '0.7': 20, '00': 21, '000': 22, '00128835': 23, '009': 24, '00962778381': 25, '01282': 26, '01482': 27, '01:15': 28, '01:16': 29, '02079': 30, '02392441234': 31, '0272 3306': 32, '0330 333 7234': 33, '0345': 34, '05.15': 35, '07:02': 36, '07:17': 37, '07:24': 38, '07:25': 39, '07:32': 40, '07:34': 41, '08': 42, '0878 0388': 43, '08962464174': 44, '0ne': 45, '1': 46, '1,300': 47, '1,500': 48, '1-0': 49, '1.300': 50, '1.8': 51, '1/2': 52, '1/5': 53, '10': 54, '10,000': 55, '10-20': 56, '10.3': 57, '10.30': 58, '10/10': 59, '100': 60, '1000': 61, '100reasonstovisitmombasa': 62, '101': 63, '1033': 64, '10:16': 65, '10:17': 66, '10:30': 67, '10:59': 68, '10am': 69, '10th': 70, '11': 71, '11.00': 72, '1100d': 73, '111': 74, '1190': 75, '11:00': 76, '11:11': 77, '11:15': 78, '11:25': 79, '11am': 80, '11pm': 81, '12': 82, '12.00': 83, '120': 84, '12000': 85, '121st': 86, '123': 87, '12pm': 88, '12th': 89, '13': 90, '13.99': 91, '132': 92, '13glodyysbro': 93, '13m': 94, '13th': 95, '14': 96, '1400': 97, '144p': 98, '14518344': 99, '15': 100, '15-24': 101, '15.90': 102, '150': 103, '150-160': 104, '15000': 105, '156': 106, '15ml': 107, '15th': 108, '16': 109, '16.20': 110, '16/17': 111, '1645': 112, '17': 113, '17th': 114, '18': 115, '18.99': 116, '18c': 117, '18th': 118, '19': 119, '1900': 120, '190cr': 121, '1948': 122, '1982': 123, '19:30': 124, '19th': 125, '1:30': 126, '1d': 127, '1dfor': 128, '1hr': 129, '1k': 130, '1ly': 131, '1month': 132, '1nonly': 133, '1pm': 134, '1st': 135, '1tb': 136, '2': 137, '2-0': 138, '2-3': 139, '2-4': 140, '2.0': 141, '2.25': 142, '2/2': 143, '2/3': 144, '2/4': 145, '20': 146, '200': 147, '200.000': 148, '2009': 149, '2013': 150, '2015': 151, '2015kenya': 152, '2016': 153, '2017': 154, '20mins': 155, '20th': 156, '21': 157, '21pics': 158, '21st': 159, '22': 160, '22.05': 161, '221b': 162, '22pics': 163, '22stans': 164, '23': 165, '23rd': 166, '24': 167, '24/25': 168, '24/7': 169, '24th': 170, '25': 171, '2500k': 172, '25x30': 173, '26': 174, '26th': 175, '26weeks': 176, '27': 177, '27july': 178, '28': 179, '28th': 180, '29th': 181, '2:30': 182, '2am': 183, '2ban': 184, '2cope': 185, '2emt': 186, '2fm': 187, '2hours': 188, '2hrs': 189, '2ish': 190, '2k': 191, '2k15': 192, '2nd': 193, '2ne1': 194, '2nite': 195, '2supply': 196, '2weeks': 197, '2weeksdontmissittoomuch': 198, '3': 199, '3-0': 200, '3.4': 201, '3.5': 202, '3/10': 203, '30': 204, '30.000': 205, '300': 206, '3000': 207, '30july': 208, '30th': 209, '31': 210, '316': 211, '317': 212, '318': 213, '319': 214, '31st': 215, '320': 216, '321': 217, '322': 218, '323': 219, '324': 220, '32429': 221, '325': 222, '325.000': 223, '326': 224, '327': 225, '328': 226, '329': 227, '33': 228, '330': 229, '331': 230, '332': 231, '333': 232, '333505': 233, '334': 234, '335': 235, '336': 236, '337': 237, '338': 238, '339': 239, '34': 240, '340': 241, '341': 242, '342': 243, '343': 244, '344': 245, '345': 246, '346': 247, '347': 248, '348': 249, '349': 250, '35': 251, '350': 252, '39': 253, '3:02': 254, '3:03': 255, '3:30': 256, '3:33': 257, '3a2ad': 258, '3am': 259, '3d': 260, '3g': 261, '3k': 262, '3points': 263, '3rd': 264, '3weeks': 265, '3wks': 266, '4': 267, '4-5': 268, '4-6': 269, '4.4+': 270, '4/5': 271, '40': 272, '4000': 273, '404': 274, '40mm': 275, '42': 276, '423': 277, '43': 278, '430': 279, '444': 280, '45': 281, '452096': 282, '452b': 283, '454': 284, '45gameplay': 285, '468': 286, '47': 287, '477': 288, '479': 289, '48': 290, '482': 291, '48id': 292, '490': 293, '4:13': 294, '4:15': 295, '4:18': 296, '4:20': 297, '4am': 298, '4aspot': 299, '4like': 300, '4me': 301, '4my': 302, '4th': 303, '4thwin': 304, '4yrs': 305, '5': 306, '50': 307, '50.000': 308, '500': 309, '506': 310, '50cents': 311, '50europe': 312, '50notifications': 313, '50p': 314, '51': 315, '510': 316, '547': 317, '565': 318, '58543': 319, '5878e503': 320, '59': 321, '590': 322, '5:08': 323, '5:30': 324, '5am': 325, '5ever': 326, '5h': 327, '5min': 328, '5minute': 329, '5pm': 330, '5sos': 331, '5words': 332, '6': 333, '6-5': 334, '60': 335, '600': 336, '609': 337, '61': 338, '62': 339, '626-430-8715': 340, '63': 341, '64': 342, '640': 343, '642': 344, '645k': 345, '65': 346, '677': 347, '68': 348, '697': 349, '6:01': 350, '6:15': 351, '6:30': 352, '6g': 353, '6gb': 354, '6pm': 355, '6th': 356, '6yrs': 357, '7': 358, '7-3': 359, '7.30-': 360, '7/29': 361, '70': 362, '700': 363, '70685': 364, '72': 365, '73': 366, '737bigatingconcert': 367, '737gold': 368, '74': 369, '748292': 370, '75x': 371, '76': 372, '765': 373, '76x': 374, '777x': 375, '78x': 376, '797': 377, '79x': 378, '7:40': 379, '7am': 380, '7df89150': 381, '7df9e60a': 382, '7elw': 383, '7th': 384, '8': 385, '8)': 386, '8.40': 387, '80': 388, '805': 389, '80x': 390, '823': 391, '838': 392, '85552': 393, '87': 394, '87.7': 395, '873': 396, '874': 397, '877': 398, '886': 399, '89.9': 400, '891': 401, '8p': 402, '8th': 403, '9': 404, '9-11': 405, '9/11': 406, '90210': 407, '91': 408, '911': 409, '95': 410, '975-580-': 411, '98': 412, '98fm': 413, '9:00': 414, '9:15': 415, '9:25': 416, '9:30': 417, '9:48': 418, '9am': 419, '9bis': 420, '9dg': 421, '9muses': 422, '9pm': 423, \":'(\": 424, \":')\": 425, \":'D\": 426, ':(': 427, ':)': 428, ':-(': 429, ':-)': 430, ':-D': 431, ':/': 432, '::': 433, ':D': 434, ':P': 435, ':\\\\': 436, ':p': 437, ':|': 438, ';(': 439, ';)': 440, ';-)': 441, ';p': 442, ';}': 443, '<---': 444, '</3': 445, '<3': 446, '=:': 447, '=D': 448, '>:(': 449, '>:)': 450, '>:-(': 451, '>:D': 452, '@artofsleepingin': 453, '@commonculture': 454, '@connorfranta': 455, '@juliettemaughan': 456, '@the': 457, '@vauk': 458, 'D:': 459, 'D;': 460, '_15': 461, '_5_final_final_final': 462, '__': 463, '___': 464, 'a4': 465, 'a5': 466, 'a6': 467, 'a7la': 468, 'a9': 469, 'aa': 470, 'aaa': 471, 'aaaaaaaaah': 472, 'aaaahhh': 473, 'aaaand': 474, 'aaages': 475, 'aaahh': 476, 'aaahhh': 477, 'aah': 478, 'aahhh': 479, 'aaj': 480, 'aameen': 481, 'aapke': 482, 'aaron': 483, 'aarww': 484, 'aayegi': 485, 'ab': 486, 'abandon': 487, 'abby': 488, 'abby.can': 489, 'abbymill': 490, 'abes': 491, 'abhi': 492, 'abi': 493, 'abit': 494, 'able': 495, 'abligaverins': 496, 'aboard': 497, 'abouty': 498, 'abroad': 499, 'abrupt': 500, 'abs': 501, 'abscess': 502, 'absent': 503, 'absolute': 504, 'absolutely': 505, 'abstinence': 506, 'abt': 507, 'abu': 508, 'abusive': 509, 'abuti': 510, 'ac': 511, 'academic': 512, 'acads': 513, 'acc': 514, 'accent': 515, 'accept': 516, 'accepted': 517, 'access': 518, 'accessory': 519, 'accident': 520, 'accidentally': 521, 'accnt': 522, 'accommodate': 523, 'accord': 524, 'account': 525, 'accs': 526, 'accumulate': 527, 'accurate': 528, 'ace': 529, 'acha': 530, 'ache': 531, 'achebe': 532, 'achi': 533, 'achieve': 534, 'acid': 535, 'ack': 536, 'acne': 537, 'acorn': 538, 'acoustic': 539, 'across': 540, 'act': 541, 'action': 542, 'activation': 543, 'active': 544, 'activity': 545, 'actor': 546, 'actress': 547, 'actual': 548, 'actually': 549, 'actuallythough': 550, 'ad': 551, 'ada': 552, 'adam': 553, 'add': 554, 'addict': 555, 'addicted-to-analsex': 556, 'addiction': 557, 'addictive': 558, 'addition': 559, 'addme': 560, 'addmeonbbm': 561, 'addmeonsnapchat': 562, 'address': 563, 'addressing': 564, 'adf': 565, 'adidas': 566, 'adios': 567, 'adis': 568, 'aditya': 569, 'admin': 570, 'admin_myung': 571, 'adolf': 572, 'adorable': 573, 'adore': 574, 'adrian': 575, 'adu': 576, 'adult': 577, 'advaddict': 578, 'advance': 579, 'advanced': 580, 'adventure': 581, 'advert': 582, 'advice': 583, 'advisory': 584, 'ae': 585, 'aerial': 586, 'af': 587, 'afang': 588, 'aff': 589, 'affaraid': 590, 'affect': 591, 'affiliate': 592, 'afford': 593, 'afghanistn': 594, 'aflblueshawks': 595, 'afraid': 596, 'africa': 597, 'afridi': 598, 'afropunk': 599, 'aftenoon': 600, 'after-work': 601, 'afterall': 602, 'afternon': 603, 'afternoon': 604, 'afterschool': 605, 'afterwards': 606, 'aftie': 607, 'agaaain': 608, 'again.ensoi': 609, 'agains': 610, 'agayhippiehippy': 611, 'age': 612, 'agency': 613, 'agent': 614, 'agesss': 615, 'agh': 616, 'agile': 617, 'agnes': 618, 'agnezmo': 619, 'ago': 620, 'agonising': 621, 'agover': 622, 'agree': 623, 'agrees': 624, 'ah': 625, 'aha': 626, 'ahah': 627, 'ahaha': 628, 'ahahah': 629, 'ahead': 630, 'ahh': 631, 'ahhh': 632, 'ahouré': 633, 'ahs': 634, 'ai': 635, 'aich': 636, 'aidzin': 637, 'aigooo': 638, 'aim': 639, \"ain't\": 640, 'aing': 641, 'aint': 642, 'air': 643, 'airdroid': 644, 'airecs': 645, 'airfields': 646, 'airforce': 647, 'airline': 648, 'airport': 649, 'aishhh': 650, 'aisyah': 651, 'aisyhhh': 652, 'aj': 653, 'aja': 654, 'akana': 655, 'aki': 656, 'ako': 657, 'akon': 658, 'akong': 659, 'akooo': 660, 'akshaymostlovedsuperstarever': 661, 'aku': 662, 'akua': 663, 'al': 664, 'al_master_band': 665, 'alansmithpart': 666, 'alarm': 667, 'albeit': 668, 'alberta': 669, 'album': 670, 'alchemist': 671, 'alcohol': 672, 'aldub': 673, 'aleks': 674, 'alert': 675, 'alex': 676, \"alex's\": 677, 'alhamdulillah': 678, 'alhamdullilah': 679, 'alice': 680, 'alien': 681, 'alienthought': 682, 'aling': 683, 'alison': 684, 'alive': 685, 'alix': 686, 'all-clear': 687, 'all-time': 688, 'allah': 689, 'allergic': 690, 'allgoodthingske': 691, 'alliteration': 692, 'alll': 693, 'allow': 694, 'allowance': 695, 'alls': 696, 'alma': 697, 'almost': 698, 'alone': 699, 'along': 700, 'alot': 701, 'alreaddyyy': 702, 'already': 703, 'alright': 704, 'also': 705, 'alter': 706, 'alternative': 707, 'alternatively': 708, 'although': 709, 'aluminiumfree': 710, 'alumnus': 711, 'alunageorge': 712, 'alvadhaau': 713, 'always': 714, 'amargolonnard': 715, 'amassiveoverdoseofships': 716, 'amat': 717, 'amateur': 718, 'amaze': 719, 'amazed': 720, 'amazing': 721, 'amazingly': 722, 'amazon': 723, 'amber': 724, 'ambrose': 725, 'ambs': 726, 'ameen': 727, 'amelia': 728, 'amen': 729, 'america': 730, 'american': 731, 'americano': 732, 'ami': 733, 'amie': 734, 'amiibo': 735, 'amin': 736, 'aminn': 737, 'aminormalyet': 738, 'amm': 739, 'amnotness': 740, 'among': 741, 'amount': 742, 'ampsha': 743, 'amsterdam': 744, 'amtired': 745, 'amusement': 746, 'amy': 747, 'amyjackson': 748, 'an': 749, 'anal': 750, 'analyze': 751, 'anarchy': 752, 'anatomy': 753, 'andals': 754, 'andaming': 755, 'andar': 756, 'andre': 757, 'andrew': 758, 'android': 759, 'andy': 760, 'anesthesia': 761, 'ang': 762, 'angeke': 763, 'angel': 764, 'angelica': 765, 'angelo': 766, \"angelo's\": 767, 'anger': 768, 'anghel': 769, 'angie': 770, 'angle.nelson': 771, 'angry': 772, 'animal': 773, 'animated': 774, 'animation': 775, 'animator': 776, 'anime': 777, 'ankle': 778, 'ann': 779, 'anna': 780, 'anne': 781, 'anniversary': 782, 'annnd': 783, 'announce': 784, 'announcement': 785, 'annoy': 786, 'annoyed': 787, 'annoying': 788, 'annoyingbaby': 789, 'annual': 790, 'annyeong': 791, 'ano': 792, 'anon': 793, 'anonymous': 794, 'anot': 795, 'another': 796, 'anshe': 797, 'answer': 798, 'ant': 799, 'anta': 800, 'antagonistic': 801, 'anthem': 802, 'anti-christ': 803, 'anticipation': 804, 'antonio': 805, 'anushka': 806, 'anxiety': 807, 'anxious': 808, 'anyare': 809, 'anybody': 810, 'anymore': 811, 'anymoreee': 812, 'anyone': 813, 'anyones': 814, 'anyonneee': 815, 'anythin': 816, 'anything': 817, 'anything.surely': 818, 'anytime': 819, 'anyway': 820, 'anywayhedidanicejob': 821, 'anyways': 822, 'anywhere': 823, 'anz': 824, 'aos': 825, 'ap': 826, 'apart': 827, 'apartement': 828, 'apartment': 829, 'apb': 830, 'ape': 831, 'apexis': 832, 'apink': 833, 'aplomb': 834, \"apma's\": 835, 'apologist': 836, 'apologize': 837, 'apology': 838, 'app': 839, 'appa': 840, 'apparently': 841, 'appeal': 842, 'appear': 843, 'appearance': 844, 'appeasement': 845, 'appendicitis': 846, 'appendix': 847, 'apple': 848, 'application': 849, 'apply': 850, 'appointment': 851, 'appreciate': 852, 'appreciated': 853, 'approach': 854, 'appropriate': 855, 'approval': 856, 'approve': 857, 'approximately': 858, 'apps': 859, 'april': 860, 'apt': 861, 'aragalang': 862, 'araw': 863, 'arbeloa': 864, 'arc': 865, 'arch': 866, 'archdbanterbury': 867, 'architecture': 868, 'arctic': 869, 'area': 870, 'aready': 871, 'arent': 872, 'argh': 873, 'argos': 874, 'argue': 875, 'ariana': 876, 'arianator': 877, 'ariel': 878, 'arini': 879, 'ark': 880, 'arm': 881, 'arma': 882, 'armor': 883, 'arnd': 884, 'arond': 885, 'around': 886, 'arrange': 887, 'arre': 888, 'arrest': 889, 'arrival': 890, 'arrive': 891, 'arsenal': 892, 'art': 893, 'article': 894, 'artist': 895, 'artistic': 896, 'artworkbylie': 897, 'arummzz': 898, 'as': 899, 'asap': 900, 'asf': 901, 'ash': 902, 'ashamed': 903, 'ashraf': 904, 'ashton': 905, 'ashwathy': 906, 'asia': 907, 'asian': 908, 'aside': 909, 'ask': 910, 'askaman': 911, 'askfinnick': 912, 'askies': 913, 'askip': 914, 'askurban': 915, 'asleep': 916, 'aspect': 917, 'aspetti': 918, 'assassin': 919, 'assessment': 920, 'asshole': 921, 'assia': 922, 'assignment': 923, 'assingnment': 924, 'assist': 925, 'associate': 926, 'association': 927, 'assume': 928, 'assure': 929, 'asthma': 930, 'astonvilla': 931, 'aswell': 932, 'atchya': 933, 'ate': 934, 'athabasca': 935, \"athena's\": 936, 'athlete': 937, 'atk': 938, 'atl': 939, 'atlantis': 940, 'atlas': 941, 'atleast': 942, 'atm': 943, 'atp': 944, 'atrocity': 945, 'attach': 946, 'attack': 947, 'attempt': 948, 'attend': 949, 'attender': 950, 'attention': 951, 'attentive': 952, 'attitude': 953, \"attitude's\": 954, 'attraction': 955, 'atty': 956, 'au': 957, 'audience': 958, 'audition': 959, 'audraesar': 960, 'aug': 961, 'auguri': 962, 'august': 963, 'aunt': 964, 'aunty': 965, 'aur': 966, 'aurini': 967, 'aus': 968, 'ausfailia': 969, 'auspost': 970, 'austerlitz': 971, 'austin': 972, 'australia': 973, \"australia's\": 974, 'author': 975, 'auto-focus': 976, 'auto-followback': 977, 'autofollow': 978, 'auvssscr': 979, 'av': 980, 'avail': 981, 'available': 982, 'avalible': 983, 'average': 984, 'avert': 985, 'avi': 986, 'avoid': 987, 'avoplex': 988, 'avril': 989, 'aw': 990, 'await': 991, 'awak': 992, 'awake': 993, 'awami': 994, 'award': 995, 'awareness': 996, 'away': 997, 'awe': 998, 'awell': 999, 'awesome': 1000, 'awesomeee': 1001, 'awful': 1002, 'awh': 1003, 'awhile': 1004, 'awkward': 1005, 'awsme': 1006, 'awuna': 1007, 'awusasho': 1008, 'awuuu': 1009, 'aww': 1010, 'awwhh': 1011, 'awww': 1012, 'axio': 1013, 'ay': 1014, 'ayala': 1015, 'ayemso': 1016, 'ayex': 1017, 'az': 1018, 'aztec': 1019, 'azz-sets': 1020, 'b': 1021, \"b'coz\": 1022, 'b-but': 1023, 'b2aa': 1024, 'b2b': 1025, 'b2c': 1026, 'b4': 1027, 'ba': 1028, 'baao': 1029, 'baareeq': 1030, 'baat': 1031, 'babe': 1032, 'babes': 1033, 'baby': 1034, 'babygirl': 1035, 'babysit': 1036, 'babyyy': 1037, 'bachpan': 1038, 'back': 1039, 'backflip': 1040, 'background': 1041, 'backkk': 1042, 'backstory': 1043, 'backup': 1044, 'bacon': 1045, 'bad': 1046, 'badass': 1047, 'badge': 1048, 'badlife': 1049, 'badly': 1050, 'bae': 1051, 'baechu': 1052, 'baechyyy': 1053, 'baek': 1054, 'baekhyun': 1055, 'bag': 1056, 'baggage': 1057, 'bagi': 1058, 'bahari': 1059, 'bahay': 1060, 'bahayan': 1061, 'bailey': 1062, 'bajrangibhaijaanhighestweek': 1063, 'bakal': 1064, 'bakar': 1065, 'bakewell': 1066, 'bakit': 1067, 'bakwas': 1068, 'balance': 1069, 'bald': 1070, 'bale': 1071, 'bali': 1072, 'balik': 1073, 'balkan': 1074, 'ball': 1075, 'ballad': 1076, 'baller': 1077, 'balloon': 1078, 'balm': 1079, 'baloch': 1080, 'baloney': 1081, 'bam': 1082, 'ban': 1083, 'banana': 1084, 'banate': 1085, 'band': 1086, 'banda': 1087, 'bandana': 1088, 'bandi': 1089, 'bandung': 1090, 'bandz': 1091, 'bang': 1092, 'bangalore': 1093, 'bank': 1094, 'banter': 1095, 'bantime': 1096, 'baon': 1097, 'bap': 1098, 'bapak': 1099, 'bapu': 1100, 'bar': 1101, 'barbell': 1102, 'barcelona': 1103, 'barcode': 1104, 'bare': 1105, 'barefooted': 1106, 'barely': 1107, 'bark': 1108, 'barkada': 1109, 'barkin': 1110, 'barkkkiiideee': 1111, 'barney': 1112, 'barnstaple': 1113, \"barrista's\": 1114, 'barsostay': 1115, 'bartender': 1116, 'basara': 1117, 'base': 1118, 'basemaps': 1119, 'basename': 1120, 'basic': 1121, 'basically': 1122, 'basil': 1123, 'basis': 1124, 'basket': 1125, 'basketball': 1126, 'bass': 1127, 'bastard': 1128, 'bat': 1129, 'batalladelosgallos': 1130, 'batb': 1131, 'batch': 1132, 'bath': 1133, 'bathtub': 1134, 'batman': 1135, 'battery': 1136, 'bawi': 1137, 'bay': 1138, 'bayan': 1139, 'baymax': 1140, 'bayonetta': 1141, 'baz': 1142, 'bb': 1143, 'bb17': 1144, 'bbb': 1145, 'bblf': 1146, 'bbm': 1147, 'bbmadeinmanila': 1148, 'bbmme': 1149, 'bbmpin': 1150, 'bby': 1151, 'bbygurl': 1152, 'bbz': 1153, 'bc': 1154, 'bcause': 1155, 'bcoz': 1156, 'bcs': 1157, 'bcus': 1158, 'bcuz': 1159, 'bcz': 1160, 'bday': 1161, 'bdays': 1162, 'bdayt': 1163, \"be's\": 1164, 'bea': 1165, 'beach': 1166, \"beach's\": 1167, 'beanatividad': 1168, 'bear': 1169, 'beard': 1170, 'beardy': 1171, 'beast': 1172, 'beastmode': 1173, 'beat': 1174, 'beato': 1175, 'beatport': 1176, 'beautiful': 1177, 'beautifull': 1178, 'beautifully-crafted': 1179, 'beauts': 1180, 'beauty': 1181, 'beb': 1182, 'bebe': 1183, 'bebeee': 1184, 'bebii': 1185, 'bechos': 1186, 'become': 1187, 'bed': 1188, 'bee': 1189, 'beeepin': 1190, 'beer': 1191, 'beety': 1192, 'beforehand': 1193, 'beg': 1194, 'begin': 1195, 'beginner': 1196, 'beginning': 1197, 'beh': 1198, 'behave': 1199, 'beheaviour': 1200, 'behind': 1201, 'beijing': 1202, 'bein': 1203, 'being': 1204, 'beiruting': 1205, 'beks': 1206, 'belated': 1207, 'belfast': 1208, 'belgium': 1209, 'belieber': 1210, 'beliebers': 1211, 'believe': 1212, 'beli̇eve': 1213, 'bell': 1214, 'bellamy': 1215, 'belle': 1216, 'belly': 1217, 'bellybutton': 1218, 'belt': 1219, 'beme': 1220, 'bemeapp': 1221, 'bemecode': 1222, 'ben': 1223, 'benadryl': 1224, 'benchers': 1225, 'benchmark': 1226, 'bend': 1227, 'benedictervention': 1228, 'benefit': 1229, 'bengali': 1230, 'benny': 1231, 'benson': 1232, 'benteke': 1233, 'benzema': 1234, 'beograd': 1235, 'beonknockknock': 1236, 'berangkaat': 1237, 'bergerac': 1238, 'berigaud': 1239, 'besi': 1240, 'beside': 1241, 'besides': 1242, 'besok': 1243, 'besst': 1244, 'best': 1245, 'besteverdoctorwhoepisode': 1246, 'bestfriend': 1247, 'bestfriends': 1248, 'bestoftheday': 1249, 'bestweekend': 1250, 'bet': 1251, 'beta': 1252, 'beth': 1253, 'bethesda': 1254, 'better': 1255, 'bettor': 1256, 'beware': 1257, 'beyond': 1258, 'beyt': 1259, 'bf': 1260, 'bff': 1261, \"bff's\": 1262, 'bffs': 1263, 'bfr': 1264, 'bg': 1265, 'bgtau': 1266, 'bh3s': 1267, 'bhai': 1268, 'bhaiya': 1269, 'bheyps': 1270, 'bhi': 1271, 'bhk': 1272, 'bhook': 1273, 'bi': 1274, 'bi-polar': 1275, 'bi0': 1276, 'bianca': 1277, 'bias': 1278, 'bible': 1279, 'biblethump': 1280, 'bideford': 1281, 'bien': 1282, 'bierce': 1283, 'big': 1284, 'bigbang': 1285, 'bigot': 1286, 'bigtime': 1287, 'bike': 1288, 'biker': 1289, 'bikini': 1290, 'bilal': 1291, 'bilbao': 1292, 'bill': 1293, 'billie': 1294, 'billion': 1295, 'billionaire': 1296, 'billy': 1297, 'bindingofissac': 1298, 'bing': 1299, 'binge': 1300, 'bio': 1301, 'biodiversity': 1302, 'biomass': 1303, 'biome': 1304, 'biooo': 1305, 'biphobic': 1306, 'bips': 1307, 'bir': 1308, 'bird': 1309, 'birmingham': 1310, 'birth': 1311, 'birthdaaayyy': 1312, 'birthday': 1313, 'birthdaygirl': 1314, 'birthdaymonth': 1315, 'birthdaypresent': 1316, 'bis': 1317, 'bisexuality': 1318, 'bish': 1319, 'bishes': 1320, 'bison': 1321, 'bissmillah': 1322, 'bit': 1323, 'bitch': 1324, 'bitchface': 1325, 'bite': 1326, 'bitin': 1327, 'bitsy@bitdefender.com': 1328, 'bitter': 1329, 'bitterness': 1330, 'bittersweetness': 1331, 'bitty': 1332, 'biz': 1333, 'bjp': 1334, 'black': 1335, 'blackberry': 1336, 'blackcountryfair': 1337, 'blackfly': 1338, 'blacklivesmatter': 1339, 'blaine': 1340, \"blaine's\": 1341, 'blame': 1342, 'blamehoney': 1343, 'blameshoghicp': 1344, 'blaming': 1345, 'bland': 1346, 'blarney': 1347, 'blast': 1348, 'bldg': 1349, 'bleak': 1350, 'bleed': 1351, 'blend': 1352, 'bless': 1353, 'blessing': 1354, 'blew': 1355, 'blight': 1356, 'blinkin': 1357, 'block': 1358, 'blockchain': 1359, 'blockjam': 1360, 'blog': 1361, 'blogged': 1362, 'blogiversary': 1363, 'blois': 1364, 'blonde': 1365, 'blood': 1366, 'bloodline': 1367, 'bloody': 1368, 'blooper': 1369, 'blow': 1370, 'blowjob': 1371, 'blue': 1372, 'bluejays': 1373, 'blurry': 1374, 'blush': 1375, 'bna': 1376, 'bnf': 1377, 'bnte': 1378, 'bo3': 1379, 'boah': 1380, 'board': 1381, 'boat': 1382, 'boaz': 1383, 'bob': 1384, 'bobble': 1385, 'bodo': 1386, 'body': 1387, 'boggling': 1388, 'bogus': 1389, 'bohat': 1390, 'bohol': 1391, 'boi': 1392, 'boii': 1393, 'bollinger': 1394, 'bollywood': 1395, 'bom': 1396, 'bomb': 1397, 'bonasio': 1398, 'bond': 1399, 'bone': 1400, 'boner': 1401, 'bonilla': 1402, 'bonus': 1403, 'boo': 1404, 'boob': 1405, 'boobs': 1406, 'boohoo': 1407, 'book': 1408, 'bookmark': 1409, 'bookstore': 1410, 'boom': 1411, 'boong': 1412, 'booo': 1413, 'booore': 1414, 'booset': 1415, 'boot': 1416, 'booty': 1417, 'border': 1418, 'bore': 1419, 'bored': 1420, 'boreddd': 1421, 'boredom': 1422, 'boring': 1423, 'born': 1424, 'borrow': 1425, 'bos': 1426, 'bosen': 1427, 'boss': 1428, 'bot': 1429, 'botanical': 1430, 'botany': 1431, 'bother': 1432, 'bottle': 1433, 'bottom': 1434, 'boughy': 1435, 'bout': 1436, 'bow': 1437, 'bowel': 1438, 'bowl': 1439, 'bowwowchicawowwow': 1440, 'box': 1441, 'boy': 1442, 'boyfriend': 1443, 'boyirl': 1444, 'bp': 1445, 'bps': 1446, 'bra': 1447, 'brace': 1448, 'bracelet': 1449, 'brad': 1450, 'brag': 1451, 'braid': 1452, 'brain': 1453, 'braindots': 1454, 'brake': 1455, 'brambhatt': 1456, 'branch': 1457, 'brand': 1458, 'brandi': 1459, 'branding': 1460, 'brasileirao': 1461, 'brave': 1462, 'bravo': 1463, 'brawl': 1464, 'brb': 1465, 'breach': 1466, 'bread': 1467, 'break': 1468, 'breakdown': 1469, 'breakfast': 1470, 'breaking': 1471, 'breaktym': 1472, 'breakup': 1473, 'breath': 1474, 'breathe': 1475, 'breathing': 1476, 'breconbeacons': 1477, 'brendon': 1478, 'brewproject': 1479, 'bri': 1480, 'brian': 1481, 'brianaaa': 1482, 'brianazabrocki': 1483, 'bride': 1484, 'bridesmaid': 1485, 'brief': 1486, 'briefly': 1487, 'brienne': 1488, 'bright': 1489, 'brighten': 1490, 'brighton': 1491, 'brijresidency': 1492, 'briliant': 1493, 'brill': 1494, 'brilliant': 1495, 'brilliantly': 1496, 'bring': 1497, 'bringmethehorizon': 1498, 'brisbane': 1499, 'bristol': 1500, 'bristolart': 1501, 'britain': 1502, 'brk': 1503, 'bro': 1504, 'broadcast': 1505, 'broke': 1506, 'broken': 1507, 'broker': 1508, 'brolly': 1509, 'brooke': 1510, 'brooklyn': 1511, 'bros': 1512, 'brotheeerrr': 1513, 'brother': 1514, 'brotherhood': 1515, 'brow': 1516, 'brown': 1517, 'browse': 1518, 'browser': 1519, 'bruce': 1520, 'bruh': 1521, 'bruhhh': 1522, 'bruise': 1523, 'brum': 1524, 'bruno': 1525, 'brush': 1526, 'bruuh': 1527, 'bt': 1528, 'btob': 1529, 'bts': 1530, 'btu': 1531, 'btw': 1532, 'btwn': 1533, 'bubba': 1534, 'bubble': 1535, 'buckinghampalace': 1536, 'buckling': 1537, 'bud': 1538, 'budapestgp': 1539, 'buddy': 1540, 'buddyyy': 1541, 'budge': 1542, 'budget': 1543, 'bueno': 1544, 'buff': 1545, 'buffer': 1546, 'buffering': 1547, 'bug': 1548, 'bugatti': 1549, 'bugbounty': 1550, 'bugger': 1551, 'build': 1552, 'building': 1553, 'bulat': 1554, 'bulet': 1555, 'bulldog': 1556, 'bulletin': 1557, 'bully': 1558, 'bullying': 1559, 'bum': 1560, 'bummer': 1561, 'bump': 1562, 'bun': 1563, 'bunch': 1564, 'bundle': 1565, 'bungie': 1566, 'bunnys': 1567, 'bunso': 1568, 'bunta': 1569, 'burberry': 1570, 'burdensome': 1571, 'burek': 1572, 'burfday': 1573, 'burger': 1574, 'burketeer': 1575, 'burn': 1576, 'burnout': 1577, 'burnt': 1578, 'burst': 1579, 'bury': 1580, 'bus': 1581, 'buset': 1582, 'bush': 1583, 'business': 1584, 'busy': 1585, 'buti': 1586, 'butter': 1587, 'butterfly': 1588, 'button': 1589, 'buttonhole': 1590, 'buttsex': 1591, 'buttt': 1592, 'buuut': 1593, 'buy': 1594, 'buyer': 1595, 'buynotanapologyonitunes': 1596, 'buzz': 1597, 'bv': 1598, 'bye': 1599, 'c': 1600, 'c64': 1601, 'ca': 1602, 'caaannnttt': 1603, 'cabincrew': 1604, 'cable': 1605, 'cactus': 1606, 'caesarspalace': 1607, 'cafe': 1608, 'cag': 1609, 'cage': 1610, 'cajun': 1611, 'cajunchicken': 1612, 'cake': 1613, 'cakehamper': 1614, 'cala': 1615, 'cali': 1616, 'calibraksaep': 1617, 'calibraska': 1618, 'calibraskaep': 1619, 'califor': 1620, 'california': 1621, \"california's\": 1622, 'call': 1623, \"callie's\": 1624, 'callinganimalabusehotlineasap': 1625, 'calm': 1626, 'calum': 1627, 'cam': 1628, 'camara': 1629, 'cambridge': 1630, 'camera': 1631, 'camillus': 1632, 'camp': 1633, 'campaign': 1634, 'campsite': 1635, 'campus': 1636, 'camsex': 1637, 'can': 1638, \"can't\": 1639, 'canadian': 1640, 'canal': 1641, 'canaria': 1642, 'canarios': 1643, 'cancel': 1644, 'candle': 1645, 'candy': 1646, 'cannot': 1647, 'canon': 1648, 'canopy': 1649, 'cant': 1650, 'cantik': 1651, 'canvas': 1652, 'capcom': 1653, 'capeee': 1654, 'capture': 1655, 'car': 1656, 'cara': 1657, 'caradelevingne': 1658, 'caramello': 1659, 'card': 1660, 'cardi': 1661, 'cardio': 1662, 'care': 1663, 'career': 1664, 'careful': 1665, 'carefully': 1666, 'caribbean': 1667, 'caring': 1668, 'carlton': 1669, 'carly': 1670, 'carmel': 1671, 'carmen': 1672, 'carnival': 1673, 'caro': 1674, 'carol': 1675, 'caroline': 1676, 'carpet': 1677, 'carriage': 1678, 'carriageway': 1679, 'carrie': 1680, 'carrot': 1681, 'carry': 1682, 'cart': 1683, 'cartoon': 1684, 'carva': 1685, 'case': 1686, 'cash': 1687, 'casillas': 1688, 'cast': 1689, 'castle': 1690, 'cat': 1691, 'catamis': 1692, 'catch': 1693, 'catchy': 1694, 'cathos': 1695, \"cathy's\": 1696, 'catspjs': 1697, 'caught': 1698, 'cauliflower': 1699, 'cause': 1700, 'cayton': 1701, 'cb': 1702, 'cc': 1703, 'cd': 1704, 'ce': 1705, 'celebrate': 1706, 'celebratio': 1707, 'celebration': 1708, 'celebrity': 1709, 'cell': 1710, 'cement': 1711, 'center': 1712, 'central': 1713, 'centralise': 1714, 'centre': 1715, 'centrifugal': 1716, 'century': 1717, 'ceo': 1718, 'cerbchan': 1719, 'cereal': 1720, 'certain': 1721, 'certainly': 1722, 'certainty': 1723, 'certification': 1724, 'chaddi': 1725, 'chaerin': 1726, 'chain': 1727, 'chainsaw': 1728, 'chair': 1729, 'chal': 1730, 'chalet': 1731, 'challo': 1732, 'chalna': 1733, 'chaloniklo': 1734, 'chalut': 1735, 'champagne': 1736, 'champion': 1737, 'chan': 1738, 'chance': 1739, 'chandauli': 1740, 'chanel': 1741, 'chang': 1742, 'change': 1743, 'chanhun': 1744, 'channel': 1745, 'chant': 1746, 'chaos': 1747, 'chaotic': 1748, 'chap': 1749, 'chapter': 1750, 'character': 1751, 'charade': 1752, 'charcoal': 1753, 'charge': 1754, 'charger': 1755, 'charismatic': 1756, 'charity': 1757, 'charles': 1758, 'charli': 1759, 'charlotte': 1760, 'charm': 1761, 'chart': 1762, 'chase': 1763, 'chat': 1764, 'chateau': 1765, 'chati': 1766, 'chau': 1767, 'cheap': 1768, 'cheat': 1769, 'cheatday': 1770, 'check': 1771, 'check-up': 1772, 'checkout': 1773, 'cheek': 1774, 'cheeky': 1775, 'cheer': 1776, 'cheerio': 1777, 'cheese': 1778, 'cheesydelights': 1779, 'cheetah': 1780, 'chef': 1781, 'chek': 1782, 'chel': 1783, 'chelny': 1784, 'chelsea': 1785, 'cheltenham': 1786, 'chem': 1787, 'chemical': 1788, 'chenab': 1789, 'cherish': 1790, 'cherry': 1791, 'cheshire': 1792, 'chesties': 1793, 'cheung': 1794, 'chew': 1795, 'chibi': 1796, 'chick': 1797, 'chick-fil-a': 1798, 'chicken': 1799, 'chickmt': 1800, 'chicsirific': 1801, 'chikka': 1802, 'child': 1803, 'childhood': 1804, 'chill': 1805, 'chillin': 1806, \"chillin'with\": 1807, 'chilton': 1808, 'chin': 1809, 'china': 1810, 'chinua': 1811, 'chip': 1812, 'chipotle': 1813, 'chiquitos': 1814, 'chloe': 1815, 'chocolate': 1816, 'chocolatey': 1817, 'choice': 1818, 'choiceinternationalartist': 1819, 'choir': 1820, 'choke': 1821, 'choker': 1822, 'chokkie': 1823, 'choma': 1824, 'choo': 1825, 'choose': 1826, 'chopped': 1827, 'choppy': 1828, 'choregrapher': 1829, 'choreo': 1830, 'choreographing': 1831, 'chorong': 1832, 'choroo': 1833, 'chris': 1834, 'christ': 1835, 'christen': 1836, 'christian': 1837, 'christina': 1838, 'christmas': 1839, 'christophe': 1840, 'christopher': 1841, 'christy': 1842, 'chrome': 1843, 'chrompet': 1844, 'chronic': 1845, 'chronicle': 1846, 'chswiyfxcskcalum': 1847, 'chu': 1848, 'chuckin': 1849, 'chuckle': 1850, 'chum': 1851, 'church': 1852, 'churro': 1853, 'chute': 1854, 'chwang': 1855, 'chweet': 1856, 'chweina': 1857, 'ciao': 1858, \"ciara's\": 1859, 'cider': 1860, 'cigar': 1861, 'cikaaa': 1862, 'cilic': 1863, 'cimbom': 1864, 'cinema': 1865, \"cinema's\": 1866, 'cinepambata': 1867, 'cintiq': 1868, 'circle': 1869, 'circuit': 1870, 'circuscircus': 1871, 'citizen': 1872, 'city': 1873, 'civ': 1874, 'civil': 1875, 'cjradacomateada': 1876, 'cl': 1877, 'claim': 1878, 'clan': 1879, 'clandestins': 1880, 'clap': 1881, 'clapham': 1882, 'clark': 1883, 'clarke': 1884, 'clash': 1885, 'class': 1886, 'classic': 1887, 'classicassures': 1888, 'classmate': 1889, 'classy': 1890, 'claw': 1891, 'clean': 1892, 'cleanse': 1893, 'clear': 1894, 'clearly': 1895, 'cliche': 1896, 'click': 1897, 'clicksco': 1898, 'client': 1899, 'client_amends_edit': 1900, 'clientvisit': 1901, 'climate': 1902, 'climatechange': 1903, 'climb': 1904, 'clinton': 1905, 'clip': 1906, 'clock': 1907, 'clonmel': 1908, 'close': 1909, 'closed': 1910, 'closely': 1911, 'closer': 1912, 'closer-chasing': 1913, 'closet': 1914, 'clothes': 1915, 'clown': 1916, 'club': 1917, 'clutch': 1918, 'cnblue': 1919, 'cnn': 1920, 'cnt': 1921, 'co': 1922, 'co-worker': 1923, 'coach': 1924, 'coaster': 1925, 'coat': 1926, 'coca': 1927, 'cock': 1928, 'cocktail': 1929, 'cocktaily': 1930, 'cocky': 1931, 'coco': 1932, 'cocoared': 1933, 'coconut': 1934, 'cod': 1935, 'code': 1936, 'cody': 1937, 'coffe': 1938, 'coffee': 1939, 'coffee-weekdays': 1940, 'cohesive': 1941, 'coin': 1942, 'coincidence': 1943, 'cola': 1944, 'cold': 1945, 'colder': 1946, 'coldplay': 1947, 'colin': 1948, 'collab': 1949, 'collaboration': 1950, 'collage': 1951, 'collapse': 1952, 'collar': 1953, 'colleague': 1954, 'collect': 1955, 'collection': 1956, 'college': 1957, 'collins': 1958, 'cologne': 1959, 'colombia': 1960, 'color': 1961, 'colour': 1962, 'com': 1963, 'combat': 1964, 'come': 1965, 'comeback': 1966, 'comedy': 1967, 'comet': 1968, 'comfortable': 1969, 'comfy': 1970, 'comic': 1971, 'comma': 1972, 'comment': 1973, 'commercial': 1974, 'commission': 1975, 'commit': 1976, 'common': 1977, 'communal': 1978, 'community': 1979, 'comp': 1980, 'companion': 1981, 'company': 1982, 'comparative': 1983, 'compare': 1984, 'comparison': 1985, 'compensation': 1986, 'compete': 1987, 'competition': 1988, 'complain': 1989, 'complains': 1990, 'complaint': 1991, 'complete': 1992, 'completely': 1993, 'completion': 1994, 'complicated': 1995, 'compliment': 1996, 'composer': 1997, 'computer': 1998, 'con': 1999, 'con-graduation': 2000, 'concept': 2001, 'concern': 2002, 'concerned': 2003, 'concert': 2004, 'concordia': 2005, 'condemn': 2006, 'condition': 2007, 'conference': 2008, 'confession': 2009, 'confetti': 2010, 'confidence': 2011, 'confirm': 2012, 'confirmation': 2013, 'confiscate': 2014, 'conflict': 2015, 'confuse': 2016, 'confusing': 2017, 'congraaats': 2018, 'congrats': 2019, 'congratulation': 2020, 'congratz': 2021, 'congrtaualtions': 2022, 'connect': 2023, 'connection': 2024, 'connie': 2025, 'connor': 2026, 'consent': 2027, 'conserve': 2028, 'consider': 2029, 'considerably': 2030, 'considers': 2031, 'consistency': 2032, 'console': 2033, 'constant': 2034, 'constantly': 2035, 'construction': 2036, 'consultant': 2037, 'consume': 2038, 'consumerism': 2039, 'cont': 2040, 'contact': 2041, 'contain': 2042, 'container': 2043, 'contectually': 2044, 'contemplate': 2045, 'contemporary': 2046, 'contender': 2047, 'content': 2048, 'contest': 2049, 'contestkiduniya': 2050, 'context': 2051, 'continous': 2052, 'continue': 2053, 'continuously': 2054, 'contract': 2055, 'contractually': 2056, 'contradict': 2057, 'contrast': 2058, 'contribution': 2059, 'control': 2060, 'controlls': 2061, 'controversy': 2062, 'convener': 2063, 'convention': 2064, 'conversation': 2065, 'conversational': 2066, 'conversion': 2067, 'conviction': 2068, 'convince': 2069, 'convo': 2070, 'convos': 2071, 'cook': 2072, 'cookie': 2073, 'cooking': 2074, 'cool': 2075, 'cooperate': 2076, 'cop': 2077, 'cope': 2078, 'copy': 2079, 'copying': 2080, 'corbyn': 2081, 'corey': 2082, 'corinehurleigh': 2083, 'corner': 2084, 'cornetto': 2085, 'cornettos': 2086, 'cornish': 2087, 'cornwall': 2088, 'correct': 2089, 'corridor': 2090, 'corrupted': 2091, 'cortez': 2092, 'cory': 2093, 'cosas': 2094, 'cosmovision': 2095, 'cosplay': 2096, 'cosplayers': 2097, 'cosplayprogress': 2098, 'cost': 2099, 'costacc': 2100, 'cosy': 2101, 'cotton': 2102, 'couch': 2103, 'cough': 2104, 'could': 2105, \"could've\": 2106, 'couldnt': 2107, 'couldve': 2108, 'councillor': 2109, 'count': 2110, 'countdown': 2111, 'countless': 2112, 'country': 2113, 'countrymusic': 2114, 'countthecost': 2115, 'county': 2116, 'couple': 2117, 'courage': 2118, 'courgette': 2119, 'courier': 2120, 'course': 2121, 'coursee': 2122, 'coursework': 2123, 'court': 2124, 'couscous': 2125, 'cousin': 2126, 'covent': 2127, 'cover': 2128, 'coverall': 2129, 'cow': 2130, 'coworker': 2131, 'coyote': 2132, 'coz': 2133, 'cozy': 2134, 'cpm': 2135, 'cpu': 2136, 'cr': 2137, 'craaazzyy': 2138, 'crack': 2139, 'cracked': 2140, 'crackle': 2141, 'crackling': 2142, 'craft': 2143, 'cram': 2144, 'cramp': 2145, 'cranium': 2146, 'crap': 2147, 'crapple': 2148, 'crash': 2149, 'crave': 2150, 'crazy': 2151, 'crazyyy': 2152, 'creaking': 2153, 'cream': 2154, 'crease': 2155, 'create': 2156, 'creation': 2157, 'creative': 2158, 'cred': 2159, 'credit': 2160, 'creed': 2161, 'creepy': 2162, 'crei': 2163, 'creta': 2164, 'cretaperfect': 2165, 'cretaperfectsuv': 2166, 'crew': 2167, 'cri': 2168, 'cricket': 2169, 'crikey': 2170, 'crime': 2171, 'criminal': 2172, 'crisis': 2173, 'crisp': 2174, 'critical': 2175, 'criticise': 2176, 'critique': 2177, 'croke': 2178, 'crop': 2179, 'cross': 2180, 'crowd': 2181, 'crowdfunding': 2182, 'crown': 2183, 'cruel': 2184, 'cruise': 2185, 'crumble': 2186, 'crush': 2187, 'cry': 2188, 'crypt': 2189, 'crystal': 2190, 'cs': 2191, 'csrracing': 2192, 'ctto': 2193, 'cu': 2194, 'cuddle': 2195, 'cue': 2196, 'culture': 2197, 'cumbia': 2198, 'cumbria': 2199, 'cumshot': 2200, 'cunt': 2201, 'cup': 2202, 'cupboard': 2203, 'cupcake': 2204, \"cupid's\": 2205, 'curious': 2206, 'current': 2207, 'currently': 2208, 'curry': 2209, 'curve': 2210, 'cushion': 2211, 'cusp': 2212, 'cuss': 2213, 'custard': 2214, 'custom': 2215, 'customer': 2216, 'cut': 2217, 'cute': 2218, 'cutest': 2219, 'cuticle': 2220, 'cutie': 2221, 'cuties': 2222, 'cuuute': 2223, 'cuz': 2224, 'cwnt': 2225, 'cyber': 2226, 'cycle': 2227, 'cyclerevolution': 2228, 'cynical': 2229, 'cypher': 2230, 'cyprus': 2231, \"d'd\": 2232, 'd1': 2233, 'da': 2234, 'daaay': 2235, 'daal': 2236, 'daaru': 2237, 'dad': 2238, \"dad's\": 2239, 'daddy': 2240, 'dae': 2241, 'daft': 2242, 'dagga': 2243, 'dah': 2244, 'daianerufato': 2245, 'daily': 2246, 'daisy': 2247, 'dale': 2248, 'dallas': 2249, 'dam': 2250, 'damage': 2251, 'dammit': 2252, 'damn': 2253, 'dampen': 2254, 'dan': 2255, 'dance': 2256, 'danceee': 2257, 'dancer': 2258, 'dancetastic': 2259, 'dandia': 2260, 'dang': 2261, 'dangerous': 2262, 'dangit': 2263, 'dangle': 2264, 'daniel': 2265, 'danielle': 2266, 'danni': 2267, 'danny': 2268, 'darcey': 2269, 'dard': 2270, 'dare': 2271, 'daredevil': 2272, 'daring': 2273, 'dark': 2274, 'darlene': 2275, 'darlin': 2276, 'darn': 2277, 'darren': 2278, 'dartmoor': 2279, 'das': 2280, 'dash': 2281, 'dassy': 2282, 'dasvidaniya': 2283, 'dat': 2284, 'data': 2285, 'date': 2286, 'dats': 2287, 'datz': 2288, 'daughter': 2289, 'davao': 2290, 'dave': 2291, 'david': 2292, \"david's\": 2293, 'daw': 2294, 'day': 2295, 'dayofarch': 2296, 'dayz': 2297, 'daze': 2298, 'dazzle': 2299, 'dbn': 2300, 'dd': 2301, 'ddy': 2302, 'de': 2303, 'deactivate': 2304, 'dead': 2305, 'deadline': 2306, 'deaf': 2307, 'deal': 2308, 'dealsuthaonotebachao': 2309, 'deantd': 2310, 'dear': 2311, 'dearly': 2312, 'dearslim': 2313, 'death': 2314, 'deathbybaconsmell': 2315, 'deathcure': 2316, 'deathly': 2317, 'deathofgrass': 2318, 'debacle': 2319, 'debatable': 2320, 'debate': 2321, 'debbie': 2322, 'debt': 2323, 'debut': 2324, 'december': 2325, 'decent': 2326, 'decide': 2327, 'decides': 2328, 'decision': 2329, 'deck': 2330, 'decorate': 2331, 'dedicatedfan': 2332, 'dedication': 2333, 'deennya': 2334, 'deep': 2335, 'deepxcape': 2336, 'def': 2337, 'defence': 2338, 'defend': 2339, 'defender': 2340, 'defensive': 2341, 'definately': 2342, 'define': 2343, 'definite': 2344, 'definitely': 2345, 'definition': 2346, 'degeneres': 2347, 'degrassi': 2348, 'degree': 2349, 'dekhi': 2350, 'del': 2351, 'delay': 2352, 'delegate': 2353, 'deleicious': 2354, 'delete': 2355, \"delevingne's\": 2356, 'delhi': 2357, 'delicious': 2358, 'delight': 2359, 'delighted': 2360, 'delirious': 2361, 'delish': 2362, 'deliver': 2363, 'delivery': 2364, 'delph': 2365, 'delphy': 2366, 'delve': 2367, 'demand': 2368, \"demi's\": 2369, 'demo': 2370, 'den': 2371, 'denerivery': 2372, 'denim': 2373, 'denise': 2374, 'denmark': 2375, 'dental': 2376, 'dentist': 2377, 'deny': 2378, 'deo': 2379, \"deosn't\": 2380, 'department': 2381, 'depend': 2382, 'dependency': 2383, 'depends': 2384, 'deplete': 2385, 'deposit': 2386, 'depress': 2387, 'depressing': 2388, 'dept': 2389, 'derby': 2390, 'derek': 2391, 'derp': 2392, 'desc': 2393, 'describe': 2394, 'description': 2395, 'deserve': 2396, 'deserved': 2397, 'design': 2398, 'designer': 2399, 'desire': 2400, 'desk': 2401, 'desktop': 2402, 'despair': 2403, 'desperate': 2404, 'despite': 2405, 'despondently': 2406, 'dessert': 2407, 'destination': 2408, 'destroy': 2409, 'detail': 2410, 'detailed': 2411, 'determination': 2412, 'determine': 2413, 'dety': 2414, 'dev': 2415, 'devastate': 2416, 'develop': 2417, 'developed': 2418, 'development': 2419, 'device': 2420, 'devolution': 2421, 'dew': 2422, 'dewsbury': 2423, 'dey': 2424, 'deya': 2425, 'dh': 2426, 'dhabi': 2427, 'dhaka': 2428, 'dheena': 2429, 'di': 2430, 'dia': 2431, 'diagnose': 2432, 'dialogue': 2433, \"diane's\": 2434, 'dianna': 2435, 'diaries': 2436, 'diarrhea': 2437, 'diary': 2438, 'dick': 2439, 'didnt': 2440, 'die': 2441, 'die-of': 2442, 'diego': 2443, 'dieididieieiei': 2444, 'diesel': 2445, 'diet': 2446, 'diff': 2447, 'differ': 2448, 'difference': 2449, 'different': 2450, 'difficiency': 2451, 'difficult': 2452, 'digital': 2453, 'digitalexeter': 2454, 'digitalmarketing': 2455, 'dii': 2456, 'dikha': 2457, 'dime': 2458, 'dimple': 2459, 'din': 2460, 'dine': 2461, 'diner': 2462, 'ding': 2463, 'dinghy': 2464, 'dinner': 2465, 'dinooo': 2466, 'dipikirin': 2467, 'diploma': 2468, 'diplomacy': 2469, 'dipoppo': 2470, 'dipsatch': 2471, 'dire': 2472, 'direction': 2473, 'directx': 2474, 'dirty': 2475, 'dirtykik': 2476, 'dis': 2477, 'disability': 2478, 'disabled': 2479, 'disagree': 2480, 'disappear': 2481, 'disappoint': 2482, 'disappointed': 2483, 'disappointing': 2484, 'disappointment': 2485, 'disc': 2486, 'discharge': 2487, 'discipline': 2488, 'discontinue': 2489, 'discount': 2490, 'discover': 2491, 'discovery': 2492, 'discrimination': 2493, 'discuss': 2494, 'discussion': 2495, 'disease': 2496, 'disgust': 2497, 'dish': 2498, 'dishoom': 2499, 'disk': 2500, 'dislike': 2501, 'disney': 2502, 'disney.arts': 2503, 'disneyinfinity': 2504, 'dispatch': 2505, 'display': 2506, 'dissappeared': 2507, 'dissipate': 2508, 'distance': 2509, 'distant': 2510, 'distract': 2511, 'distracted': 2512, 'distressing': 2513, 'distribution': 2514, 'distrubed': 2515, 'disturb': 2516, 'disvirgined': 2517, 'dit': 2518, 'ditch': 2519, 'diva': 2520, 'divinediscontent': 2521, 'diyflowers': 2522, 'diz': 2523, 'dj': 2524, 'djderek': 2525, 'djset': 2526, 'djstruthmate': 2527, 'dkt': 2528, 'dm': 2529, 'dmed': 2530, 'dmme': 2531, 'dms': 2532, \"dn't\": 2533, 'dnt': 2534, 'do': 2535, 'doable': 2536, 'dobar': 2537, 'doc': 2538, 'docopenhagen': 2539, 'doctor': 2540, 'documentary': 2541, 'dodge': 2542, \"doedn't\": 2543, 'doesnt': 2544, 'dog': 2545, 'doh': 2546, \"doido's\": 2547, 'doin': 2548, 'doli': 2549, 'dollar': 2550, 'dolphin': 2551, 'dom': 2552, 'domestic': 2553, 'domesticviolence': 2554, 'dominion': 2555, 'domino': 2556, 'donate': 2557, 'donating': 2558, 'donation': 2559, 'donetsk': 2560, 'dong': 2561, 'donghyuk': 2562, 'dongsaeng': 2563, 'dongwoo': 2564, \"dongwoo's\": 2565, 'donington': 2566, 'donna': 2567, 'donno': 2568, 'dont': 2569, 'donut': 2570, 'doodle': 2571, 'doom': 2572, 'doomsday': 2573, 'door': 2574, 'dope': 2575, 'dorm': 2576, 'dormmates': 2577, 'dorset': 2578, 'dos': 2579, 'dosa': 2580, 'dosent': 2581, 'dosto': 2582, \"dostoevsky's\": 2583, 'dot': 2584, 'dota': 2585, 'double': 2586, 'doubt': 2587, 'doug': 2588, 'dough': 2589, 'doushite': 2590, 'dovey': 2591, 'download': 2592, 'downstairs': 2593, 'dozen': 2594, 'dp': 2595, 'dr': 2596, 'drag': 2597, 'dragon': 2598, 'drain': 2599, 'drainage': 2600, 'draking': 2601, 'drama': 2602, 'draw': 2603, 'drawing': 2604, 'dread': 2605, 'dream': 2606, 'dreamer': 2607, 'dreamily': 2608, 'dreamteam': 2609, 'dreary': 2610, 'dress': 2611, 'dresscode': 2612, 'drew': 2613, 'dri': 2614, 'dried': 2615, 'drift': 2616, 'drink': 2617, 'drinking': 2618, 'drinkt': 2619, 'drive': 2620, 'driver': 2621, 'drone': 2622, 'drop': 2623, 'drought-linked': 2624, 'drove': 2625, 'drown': 2626, 'drug': 2627, 'drunk': 2628, 'dry': 2629, 'dua': 2630, 'dual': 2631, 'dub': 2632, 'dubai': 2633, 'dublin': 2634, 'duck': 2635, 'ducktails': 2636, 'dudaftie': 2637, 'dude': 2638, 'dudeee': 2639, 'dudettes': 2640, 'due': 2641, 'duh': 2642, 'duke': 2643, 'dull': 2644, 'dum': 2645, 'dumb': 2646, 'dumont': 2647, 'dump': 2648, 'dun': 2649, 'dunedin': 2650, 'dunkin': 2651, 'dunno': 2652, 'dunt': 2653, 'dunwan': 2654, 'duo': 2655, 'dupa': 2656, 'duper': 2657, 'durood': 2658, 'dus': 2659, 'dutch': 2660, 'duty': 2661, 'dv': 2662, 'dw': 2663, 'dye': 2664, 'dying': 2665, 'dylan': 2666, 'dz9055': 2667, 'e': 2668, 'eagerly': 2669, 'ear': 2670, 'earl': 2671, 'earlier': 2672, 'earlobes': 2673, 'early': 2674, 'earn': 2675, 'earring': 2676, 'earth': 2677, 'earthling': 2678, 'ease': 2679, 'easily': 2680, 'easy': 2681, 'eat': 2682, 'eating': 2683, 'eatmeat': 2684, 'ebay': 2685, 'ebony': 2686, 'ebook': 2687, 'economy': 2688, 'eczema': 2689, 'ed': 2690, 'edel': 2691, 'edgar': 2692, 'edit': 2693, 'editied': 2694, 'editing': 2695, 'edition': 2696, 'editor': 2697, 'edm': 2698, 'edomnt': 2699, 'edsa': 2700, 'educampakl': 2701, 'education': 2702, 'edward': 2703, 'edwin': 2704, 'ee': 2705, 'eeep': 2706, 'eek': 2707, 'eff': 2708, 'effect': 2709, 'effective': 2710, 'effin': 2711, 'effort': 2712, 'egg': 2713, 'ego': 2714, 'egypt': 2715, 'eh': 2716, 'ehdar': 2717, 'ehh': 2718, 'ehm': 2719, 'ehn': 2720, 'eid': 2721, 'eidwithgrofers': 2722, 'eighteen': 2723, 'eintlik': 2724, 'eish': 2725, 'either': 2726, 'ejayster': 2727, 'ek': 2728, 'ekk': 2729, 'eksperimencinta': 2730, 'ekta': 2731, 'el': 2732, 'elaborate': 2733, 'elah': 2734, 'elbow': 2735, 'eldest': 2736, 'elect': 2737, 'election': 2738, 'elephant': 2739, 'elf': 2740, 'elfindelmundo': 2741, 'elgato': 2742, 'elgin': 2743, 'elhaida': 2744, 'eliminate': 2745, 'elisse': 2746, 'elite': 2747, 'elizabetholsen': 2748, 'ell': 2749, 'ella': 2750, 'ellen': 2751, 'ellie': 2752, 'elmhurst': 2753, 'elmoprinssi': 2754, 'elsa': 2755, 'else': 2756, \"else's\": 2757, 'elsewhere': 2758, 'elvena': 2759, 'em': 2760, 'em-con': 2761, 'email': 2762, 'embarrassing': 2763, 'embrace': 2764, 'emc': 2765, 'emeged': 2766, 'emesh': 2767, 'emily': 2768, \"emily's\": 2769, 'emirate': 2770, 'emirates': 2771, 'emm': 2772, 'emma': 2773, 'emo': 2774, 'emoji': 2775, 'emon': 2776, 'emotion': 2777, 'emotional': 2778, 'emotionally': 2779, 'emotive': 2780, 'emphasis': 2781, 'employer': 2782, 'empower': 2783, 'empty': 2784, 'emta': 2785, 'emu': 2786, 'emulation': 2787, 'emyu': 2788, 'en': 2789, 'enable': 2790, 'encanta': 2791, 'encompass': 2792, 'encore': 2793, 'encourage': 2794, 'end': 2795, 'endeavour': 2796, 'endlessly': 2797, 'endowment': 2798, 'ene': 2799, 'enemy': 2800, 'energy': 2801, 'eng': 2802, 'engage': 2803, 'engine': 2804, 'england': 2805, 'english': 2806, 'engross': 2807, 'enix': 2808, 'enji': 2809, 'enjoy': 2810, 'enjoyed': 2811, 'enn': 2812, 'enough': 2813, 'enroll': 2814, 'ensure': 2815, 'enter': 2816, 'enterprison': 2817, 'entertain': 2818, 'entire': 2819, 'entlead': 2820, 'entlerbountly': 2821, 'entp': 2822, 'entrepreneurship': 2823, 'entry': 2824, 'envious': 2825, 'environment': 2826, 'eon': 2827, 'eonni': 2828, 'eonnie': 2829, 'ep': 2830, 'epic': 2831, 'epiphany': 2832, 'episode': 2833, 'eps': 2834, 'equal': 2835, 'equally': 2836, 'era': 2837, 'eric': 2838, 'erica': 2839, 'ericavan': 2840, 'eris': 2841, 'eritation': 2842, 'erm': 2843, 'error': 2844, 'ervin': 2845, 'escape': 2846, 'esnho': 2847, 'esp': 2848, 'especially': 2849, 'essentially': 2850, 'est': 2851, 'estate': 2852, 'esteem': 2853, 'estimate': 2854, 'et': 2855, 'etc': 2856, 'etdi': 2857, 'eternity': 2858, 'etid': 2859, 'etienne': 2860, 'etl': 2861, 'etsy': 2862, 'eu': 2863, 'eugh': 2864, 'eunhae': 2865, 'eunji': 2866, 'europe': 2867, 'european': 2868, 'euuuwww': 2869, 'evan': 2870, 'eve': 2871, 'evelineconrade': 2872, 'even': 2873, 'evening': 2874, 'event': 2875, 'events@breastcancernow.org': 2876, 'eventually': 2877, 'ever': 2878, 'everday': 2879, 'everette': 2880, 'everlasting': 2881, 'everone': 2882, 'every': 2883, 'everybody': 2884, 'everyday': 2885, 'everyone': 2886, \"everyone's\": 2887, 'everyones': 2888, 'everything': 2889, \"everything's\": 2890, 'everytime': 2891, 'everywhere': 2892, 'evet': 2893, 'evil': 2894, 'ew': 2895, 'ewok': 2896, 'ex': 2897, 'ex-twelebs': 2898, 'exactly': 2899, 'exam': 2900, 'example': 2901, 'exams': 2902, 'excellence': 2903, 'excellent': 2904, 'except': 2905, 'exception': 2906, 'excite': 2907, 'excited': 2908, 'excitement': 2909, 'exciting': 2910, 'excl': 2911, 'exclude': 2912, 'exclusive': 2913, 'excuse': 2914, 'exe': 2915, 'exec': 2916, 'execution': 2917, 'exercise': 2918, 'exercising': 2919, 'exhaust': 2920, 'exhausted': 2921, 'exhausting': 2922, 'exist': 2923, 'exit': 2924, 'exo': 2925, 'exp': 2926, 'expand': 2927, 'expect': 2928, 'expectation': 2929, 'expel': 2930, 'expensive': 2931, 'experience': 2932, 'experiment': 2933, 'expert': 2934, 'experttradesmen': 2935, 'expire': 2936, 'explain': 2937, 'explanation': 2938, 'exploit': 2939, 'explore': 2940, 'explorealberta': 2941, 'explorer': 2942, 'explosion': 2943, 'expo': 2944, 'exposure': 2945, 'expression': 2946, 'extension': 2947, 'external': 2948, 'extra': 2949, 'extraordinary': 2950, 'extravagant': 2951, 'extreme': 2952, 'extremely': 2953, 'ey': 2954, 'eye': 2955, \"eye's\": 2956, 'eyelid': 2957, 'eyeliner': 2958, 'eyesight': 2959, 'eyesmiles': 2960, 'eyyah': 2961, 'f': 2962, \"f'ing\": 2963, 'f1': 2964, 'fa': 2965, 'faaabulous': 2966, 'fab': 2967, 'fabfriday': 2968, 'fabian': 2969, 'fabina': 2970, 'fabulous': 2971, 'face': 2972, 'facebook': 2973, 'faceit': 2974, 'facetime': 2975, 'facil': 2976, 'fack': 2977, 'fact': 2978, 'factory': 2979, 'fade': 2980, 'faggot': 2981, 'fah': 2982, 'fahad': 2983, 'fahrenheit': 2984, 'fahrinahmad': 2985, 'fail': 2986, 'faint': 2987, 'fair': 2988, 'faith': 2989, 'faithful': 2990, 'fake': 2991, 'falcos': 2992, 'falklands': 2993, 'fall': 2994, 'fallout': 2995, 'false': 2996, 'falsetto': 2997, 'fam': 2998, 'familiar': 2999, 'family': 3000, 'familyhome': 3001, 'famish': 3002, 'famous': 3003, 'fams': 3004, 'fan': 3005, 'fanart': 3006, 'fanboy': 3007, 'fancafe': 3008, 'fancy': 3009, 'fandango': 3010, 'fandom': 3011, 'fangirl': 3012, 'fangirled': 3013, 'fank': 3014, 'fansign': 3015, 'fanta': 3016, 'fantastic': 3017, 'fantasy': 3018, 'fany': 3019, 'far': 3020, 'farbridges': 3021, 'farm': 3022, 'farmiga': 3023, 'fasgadah': 3024, 'fashion': 3025, 'fashionfriday': 3026, 'fast': 3027, 'faster': 3028, 'fat': 3029, 'fatal': 3030, 'father': 3031, 'fatigue': 3032, \"fatma'm\": 3033, 'fault': 3034, 'fav': 3035, 'fave': 3036, 'faves': 3037, 'favor': 3038, 'favorable': 3039, 'favorite': 3040, 'favour': 3041, 'favourite': 3042, 'favourites': 3043, 'fb': 3044, 'fback': 3045, 'fbc': 3046, 'fc': 3047, 'fck': 3048, 'fckin': 3049, 'fcking': 3050, 'fe14': 3051, 'fear': 3052, 'feature': 3053, 'feb': 3054, 'federer': 3055, 'fee': 3056, 'feed': 3057, 'feedback': 3058, 'feel': 3059, 'feelgoodfriday': 3060, 'feeling': 3061, 'feelinggood': 3062, 'feelslikeanidiot': 3063, 'feetblog': 3064, 'feets': 3065, 'fela': 3066, 'felicity': 3067, 'fell': 3068, 'fellow': 3069, 'felt': 3070, 'felton': 3071, 'female': 3072, 'feminism': 3073, 'feminist': 3074, 'fenestoscope': 3075, 'fenja': 3076, 'fennell': 3077, 'ferdous': 3078, 'fern': 3079, 'ferry': 3080, 'fersuree': 3081, 'fest': 3082, 'festival': 3083, 'fever': 3084, 'feverfew': 3085, 'feytyaz': 3086, 'ff': 3087, 'ff__special': 3088, 'ffback': 3089, 'ffs': 3090, 'ffvi': 3091, 'fics': 3092, 'fiction': 3093, 'field': 3094, 'fieldtrips': 3095, 'fiend': 3096, 'fiesta': 3097, 'fifa': 3098, 'fifth': 3099, 'fight': 3100, 'fighting': 3101, 'fightingmcirene': 3102, 'fightstickfriday': 3103, 'figure': 3104, 'filbarbarian': 3105, 'file': 3106, 'fill': 3107, 'film': 3108, 'filming': 3109, 'final': 3110, 'finale': 3111, 'finalist': 3112, 'finally': 3113, 'financially': 3114, 'find': 3115, 'findavip': 3116, 'finddjderek': 3117, 'findyourfit': 3118, 'fine': 3119, 'fineandyu': 3120, 'finger': 3121, 'fingers-crossed': 3122, 'finish': 3123, 'finishing': 3124, 'finland': 3125, 'finnair': 3126, \"finnick's\": 3127, 'finnigan': 3128, 'fire': 3129, 'fireball': 3130, 'firm': 3131, 'firmansyahbl': 3132, 'first': 3133, 'fish': 3134, 'fishy': 3135, 'fit': 3136, 'fitnes': 3137, 'five': 3138, 'fiver': 3139, 'fix': 3140, 'fixedgearfrenzy': 3141, 'fk': 3142, 'fl': 3143, 'flame': 3144, 'flapjack': 3145, 'flare': 3146, 'flash': 3147, 'flat': 3148, 'flattery': 3149, 'flaviana': 3150, 'flavour': 3151, 'flaw': 3152, 'flawless': 3153, 'fleekile': 3154, 'flesh': 3155, 'fleur': 3156, 'flew': 3157, 'flickr': 3158, 'flight': 3159, 'flint': 3160, 'flip': 3161, 'flipkartfashionfriday': 3162, 'flippin': 3163, 'flipping': 3164, 'float': 3165, 'flockstars': 3166, 'floofs': 3167, 'floor': 3168, 'flop': 3169, 'flow': 3170, 'flower': 3171, 'fluent': 3172, 'fluffy': 3173, 'flume': 3174, 'fly': 3175, 'flyhigh': 3176, 'fm': 3177, 'fml': 3178, 'fmt': 3179, 'fna': 3180, 'fnaf': 3181, 'foam': 3182, 'foampit': 3183, 'focus': 3184, 'foh': 3185, 'foiegras': 3186, 'folder': 3187, 'folk': 3188, 'follbaaack': 3189, 'follback': 3190, 'follow': 3191, 'followback': 3192, 'follower': 3193, 'followfriday': 3194, 'following': 3195, 'followingg': 3196, 'folow': 3197, 'fond': 3198, 'font': 3199, 'food': 3200, 'foodie': 3201, 'foodiefridays': 3202, 'foof': 3203, 'fool': 3204, 'foood': 3205, 'foot': 3206, 'football': 3207, 'footy': 3208, 'force': 3209, 'foreals': 3210, 'forecast': 3211, 'forehead': 3212, 'forest': 3213, 'forever': 3214, 'foreveralone': 3215, 'forget': 3216, 'forgive': 3217, 'forgiven': 3218, 'forgot': 3219, 'forklift': 3220, 'form': 3221, 'format': 3222, 'former': 3223, 'forneret': 3224, 'forrit': 3225, 'fortune': 3226, 'forward': 3227, 'foto': 3228, 'fotoset': 3229, 'found': 3230, 'foundation': 3231, 'founder': 3232, 'foundry': 3233, 'four': 3234, 'fourfiveseconds': 3235, 'fowles': 3236, 'fr': 3237, 'fra': 3238, 'fraand': 3239, 'fragile': 3240, 'fragment': 3241, 'frail': 3242, 'france': 3243, 'frank': 3244, 'fraud': 3245, 'freak': 3246, 'freaking': 3247, \"freddy's\": 3248, 'free': 3249, 'freebiefriday': 3250, 'freedom': 3251, 'freeze': 3252, 'french': 3253, 'frequentflyer': 3254, 'frequently': 3255, 'fresh': 3256, 'fresherstofinals': 3257, 'freshly': 3258, 'freshness': 3259, 'freya': 3260, 'fri': 3261, 'fricken': 3262, 'friday': 3263, \"friday's\": 3264, 'friday.and': 3265, 'fridaydownpour': 3266, 'fridayfeeling': 3267, 'fridayfreebie': 3268, 'fridayfun': 3269, 'fridays': 3270, 'fridge': 3271, 'friend': 3272, \"friend's\": 3273, 'friendly': 3274, 'friends': 3275, 'friendship': 3276, 'friendzone': 3277, 'friex': 3278, 'frighten': 3279, 'frightlings': 3280, 'friooo': 3281, 'friskyfriday': 3282, 'friyay': 3283, 'frnds': 3284, 'frog': 3285, 'fron': 3286, 'front': 3287, 'frou': 3288, 'froze': 3289, 'frudging': 3290, 'fruit': 3291, 'fruity': 3292, 'frustrate': 3293, 'frustrated': 3294, 'frustration': 3295, 'fry': 3296, 'ft': 3297, 'ftw': 3298, 'fu': 3299, 'fucjikg': 3300, 'fuck': 3301, 'fuckboys': 3302, 'fucked': 3303, 'fucker': 3304, 'fuckin': 3305, 'fucking': 3306, 'fuckkk': 3307, 'fudge': 3308, 'fugiwara': 3309, 'fugly': 3310, 'fuk': 3311, 'fulfil': 3312, 'fulfill': 3313, 'full': 3314, 'fuller': 3315, 'fully': 3316, 'fulton': 3317, 'fun': 3318, 'funcionar': 3319, 'function': 3320, 'fundamentalist': 3321, 'funeral': 3322, 'funk': 3323, 'funny': 3324, 'fuq': 3325, 'fur-trimmed': 3326, 'furbaby': 3327, 'furry': 3328, 'fuse': 3329, 'future': 3330, 'futurereleases': 3331, 'fuuuck': 3332, 'fuzzy': 3333, 'fwm': 3334, 'fyi': 3335, 'fyn': 3336, 'g': 3337, 'ga': 3338, 'gaaawd': 3339, 'gaga': 3340, 'gagal': 3341, 'gahd': 3342, 'gahhh': 3343, 'gail': 3344, 'gain': 3345, 'gal': 3346, 'galat': 3347, 'galing': 3348, 'gallon': 3349, 'game': 3350, 'gamedev': 3351, 'gamejam': 3352, 'gameplays': 3353, 'gamer': 3354, 'gamestomp': 3355, 'ganas': 3356, 'ganbarimasu': 3357, 'ganda': 3358, 'gandhi': 3359, 'gang': 3360, 'gangster': 3361, 'ganna': 3362, 'gans': 3363, 'ganteng': 3364, 'gap': 3365, 'garage': 3366, 'garbi': 3367, 'garden': 3368, 'gardening': 3369, 'garlic': 3370, 'garret': 3371, 'gary': 3372, 'gas': 3373, 'gastronomy': 3374, 'gathering': 3375, 'gatorade': 3376, 'gawd': 3377, 'gay': 3378, 'gaya': 3379, 'gayi': 3380, 'gayle': 3381, 'gaza': 3382, 'gc': 3383, 'gd': 3384, 'ge': 3385, 'gear': 3386, 'gee': 3387, 'geek': 3388, 'geekiest': 3389, 'geer': 3390, 'geez': 3391, 'gegu': 3392, 'gel': 3393, 'gelen': 3394, 'gem': 3395, 'gemma': 3396, 'gen': 3397, 'gen.ad': 3398, 'gendut': 3399, 'gene': 3400, 'general': 3401, 'generally': 3402, 'genesis': 3403, 'geneva': 3404, 'genial': 3405, 'genre': 3406, 'gensan': 3407, 'gent': 3408, 'gentlemen': 3409, 'genuine': 3410, 'genuinely': 3411, 'geoff': 3412, 'george': 3413, 'georgesampson': 3414, 'georgia': 3415, 'georgie': 3416, 'german': 3417, 'germany': 3418, 'gern': 3419, 'geskenya': 3420, 'gesture': 3421, 'get': 3422, 'getaway': 3423, 'getthescoop': 3424, 'gettin': 3425, 'getwellsoonamber': 3426, 'gf': 3427, 'gfriend': 3428, 'gg': 3429, 'gh': 3430, 'ghantay': 3431, 'ghost': 3432, 'gi': 3433, 'gi-guilty': 3434, 'giachietittiwedding': 3435, 'giant': 3436, 'gibanica': 3437, 'gibran': 3438, 'giddy': 3439, 'gidi': 3440, 'gifs': 3441, 'gift': 3442, 'gig': 3443, 'giggle': 3444, 'gigi': 3445, 'gilet': 3446, 'gimme': 3447, 'gin': 3448, 'ginge': 3449, 'ginger': 3450, 'gintama': 3451, 'gion': 3452, 'giriboy': 3453, 'girl': 3454, 'girlfriend': 3455, 'girlfriendsmya': 3456, 'girls': 3457, 'girly': 3458, 'gishwhes': 3459, 'give': 3460, 'giveaway': 3461, 'giveitup': 3462, 'gl': 3463, 'gla': 3464, 'glacier': 3465, 'glad': 3466, 'gladly': 3467, 'glare': 3468, 'glasgow': 3469, 'glass': 3470, 'glaze': 3471, 'gleam': 3472, 'glenn': 3473, 'glitch': 3474, 'glo': 3475, 'globe': 3476, 'glorify': 3477, 'gloucestershire': 3478, 'glow': 3479, 'glue': 3480, 'gn': 3481, 'go': 3482, 'goa': 3483, 'goal': 3484, 'goalscorer': 3485, 'goat': 3486, 'gobigorgohome': 3487, 'god': 3488, \"god's\": 3489, 'godbless': 3490, 'goddamn': 3491, 'goddess': 3492, 'godonna': 3493, 'gohf': 3494, 'goictived': 3495, 'goin': 3496, 'gol': 3497, 'gold': 3498, 'goldbugs': 3499, 'golden': 3500, 'golf': 3501, 'gomen': 3502, 'gomez': 3503, 'gon': 3504, 'gondooo': 3505, 'gonna': 3506, 'good': 3507, 'goodafternoon': 3508, 'gooday': 3509, 'goodbye': 3510, 'goodluck': 3511, 'goodmorning': 3512, 'goodmusic': 3513, 'goodness': 3514, 'goodnight': 3515, 'goodtime': 3516, 'goodwill': 3517, 'goodwynsgoodies': 3518, 'goody': 3519, 'goofingaround': 3520, 'google': 3521, 'gooo': 3522, 'goood': 3523, 'goosnight': 3524, 'gorefiend': 3525, 'gorgeous': 3526, 'gosh': 3527, 'gossip': 3528, 'got': 3529, 'gotcha': 3530, 'gotham': 3531, 'gotta': 3532, 'gottolovebanks': 3533, 'government': 3534, 'goy': 3535, 'gr8': 3536, 'grab': 3537, 'grabe': 3538, 'grace': 3539, 'gracious': 3540, 'grade': 3541, 'graduate': 3542, 'gram': 3543, 'gran': 3544, 'grand': 3545, 'grande': 3546, 'grandma': 3547, 'grandpa': 3548, \"grandpa's\": 3549, 'granny': 3550, 'graphic': 3551, 'graphicdesign': 3552, 'grasp': 3553, 'grassy': 3554, 'grate': 3555, 'grateful': 3556, 'gratefulness': 3557, 'grattis': 3558, 'gray': 3559, 'graze': 3560, 'great': 3561, 'greatful': 3562, 'greatkenya': 3563, 'greatly': 3564, 'greece': 3565, 'greek': 3566, 'greekcrisis': 3567, 'green': 3568, 'greet': 3569, 'greeting': 3570, 'greg': 3571, 'grepe': 3572, 'grepein': 3573, 'greska': 3574, 'grey': 3575, 'greymind': 3576, 'greysonchance': 3577, \"grigson's\": 3578, 'grill': 3579, 'grim': 3580, 'grind': 3581, 'grindea': 3582, 'groaning': 3583, 'grocery': 3584, 'grogol': 3585, 'gross': 3586, 'grotty': 3587, 'ground': 3588, 'group': 3589, 'groupie': 3590, 'grow': 3591, 'growl': 3592, 'grown': 3593, 'grs': 3594, 'grt': 3595, 'grumble': 3596, 'grumpy': 3597, 'grunt': 3598, 'gryph': 3599, 'gta': 3600, 'gtg': 3601, 'gto': 3602, 'gua': 3603, 'gud': 3604, 'gudday': 3605, 'gue': 3606, 'guess': 3607, 'guest': 3608, 'guide': 3609, 'guilty': 3610, 'guinea': 3611, 'guinness': 3612, 'guise': 3613, 'guitar': 3614, 'gujarat': 3615, 'gulo': 3616, 'gum': 3617, 'gun': 3618, 'gunashekar': 3619, 'guncontrol': 3620, 'gundam': 3621, 'gunna': 3622, 'gurgaon': 3623, 'gurl': 3624, 'gurly': 3625, 'gutted': 3626, 'guy': 3627, 'guys': 3628, 'guzel': 3629, 'gv': 3630, 'gwd': 3631, 'gwinett': 3632, 'gws': 3633, 'gwss': 3634, 'gyllenhaal': 3635, 'gym': 3636, 'gymnastics': 3637, 'gypsy': 3638, 'gyu': 3639, 'h': 3640, 'h8': 3641, 'h_my_king': 3642, 'ha': 3643, 'ha-ha': 3644, 'haaa': 3645, 'haaretz': 3646, 'habe': 3647, 'habhab': 3648, 'habit': 3649, 'hacharatt': 3650, 'hack': 3651, 'hagergang': 3652, 'hah': 3653, 'haha': 3654, 'hahaah': 3655, 'hahah': 3656, 'hahaha': 3657, 'hahahaa': 3658, 'hahahaaah': 3659, 'hahahah': 3660, 'hahahaha': 3661, 'hahahahaha': 3662, 'hahahahahaah': 3663, 'hahahahahhaha': 3664, 'hahahaokay': 3665, 'hahahays': 3666, 'hahays': 3667, 'hai': 3668, 'haileyhelps': 3669, 'hain': 3670, 'hair': 3671, 'haired': 3672, 'hairpin': 3673, 'hairy': 3674, 'haiss': 3675, 'haix': 3676, 'haiz': 3677, 'haizzz': 3678, 'hajur': 3679, 'hakhakhak': 3680, 'halaaang': 3681, 'hale': 3682, 'halesowen': 3683, 'half': 3684, 'half-remembered': 3685, 'halfway': 3686, 'hall': 3687, 'halla': 3688, 'hallo': 3689, 'hallows': 3690, 'hallyu': 3691, 'halsey': 3692, 'hammies': 3693, 'hamster': 3694, 'hamstring': 3695, 'han': 3696, 'hanabutle': 3697, 'hanbin': 3698, 'hand': 3699, 'hand-lettering': 3700, 'handle': 3701, 'handover': 3702, 'handshome': 3703, 'handsome': 3704, 'hang': 3705, 'hang-copying': 3706, 'hangin': 3707, 'hangout': 3708, 'hannibal': 3709, 'happen': 3710, 'happend': 3711, 'happenend': 3712, 'happens': 3713, 'happiest': 3714, 'happily': 3715, 'happiness': 3716, 'happpy': 3717, 'happy': 3718, 'happyalien': 3719, 'happybirthday': 3720, 'happybirthdayemilybett': 3721, 'happycustomers': 3722, 'happyfriday': 3723, 'happys': 3724, 'happyweekend': 3725, 'happyyy': 3726, 'har': 3727, 'harana': 3728, 'harap': 3729, 'hard': 3730, 'hard-wired': 3731, 'hardcore': 3732, 'hardheaded': 3733, 'hardly': 3734, 'harlo': 3735, 'harmony': 3736, 'harmos': 3737, 'harriet': 3738, 'harry': 3739, \"harry's\": 3740, 'harryxhood': 3741, 'harsh': 3742, 'harumph': 3743, 'harvest': 3744, 'hasb': 3745, 'hash': 3746, 'hashbrowns': 3747, 'hashtag': 3748, 'hashtags': 3749, 'hastily': 3750, 'hasya': 3751, 'hat': 3752, 'hate': 3753, 'hateee': 3754, 'hater': 3755, 'hatessuce': 3756, 'hatigii': 3757, 'hatred': 3758, 'hauc': 3759, 'hav': 3760, 'haveagoodday': 3761, 'havent': 3762, 'havuuuloveyou': 3763, 'haw': 3764, 'hawako': 3765, 'hawk': 3766, 'hay': 3767, 'hayley': 3768, 'hayli': 3769, 'hayst': 3770, 'hazel': 3771, 'hbd': 3772, 'hbdme': 3773, 'hd': 3774, 'he': 3775, \"he'll\": 3776, \"he's\": 3777, 'head': 3778, 'headache': 3779, 'headack': 3780, 'header': 3781, 'headline': 3782, 'headphone': 3783, 'heal': 3784, 'health': 3785, 'healthy': 3786, 'healthylifestyle': 3787, 'heap': 3788, 'hear': 3789, 'heard': 3790, 'hearess': 3791, 'heart': 3792, 'heart-breaking': 3793, 'heartache': 3794, 'heartbeat': 3795, 'heartbreaking': 3796, 'heat': 3797, 'heath': 3798, 'heathrow': 3799, 'heatwave': 3800, 'heaven': 3801, 'heavy': 3802, 'heck': 3803, 'hediye': 3804, 'hee': 3805, 'heechul': 3806, 'heed': 3807, 'heeeyyy': 3808, 'heel': 3809, 'hehe': 3810, 'hehehe': 3811, 'hehehehe': 3812, 'height': 3813, 'heiya': 3814, 'heiyo': 3815, 'helen': 3816, 'helium': 3817, 'hell': 3818, 'hella': 3819, 'hellish': 3820, 'hello': 3821, 'hellooo': 3822, 'helmy': 3823, 'help': 3824, 'help@veryhq.co.uk': 3825, 'helpful': 3826, 'helpinggroupdms': 3827, 'helppp': 3828, 'helsinki': 3829, 'hen': 3830, 'hence': 3831, 'henessydiaries': 3832, 'herb': 3833, \"here's\": 3834, 'hernia': 3835, 'hero': 3836, 'heswifi': 3837, 'hey': 3838, 'heyy': 3839, 'heyyy': 3840, 'hhahahahaha': 3841, 'hi': 3842, 'hibbs': 3843, 'hickey': 3844, 'hide': 3845, 'hierro': 3846, 'high': 3847, 'highlight': 3848, 'highschooldays': 3849, 'highvalue': 3850, 'hih': 3851, 'hihihi': 3852, 'hii': 3853, 'hiii': 3854, 'hike': 3855, 'hilarious': 3856, 'hill': 3857, 'hillary': 3858, 'hilly': 3859, 'himachal': 3860, 'himmat': 3861, 'himseek': 3862, 'hinala': 3863, 'hinanap': 3864, 'hinde': 3865, 'hindi': 3866, 'hiondsheings': 3867, 'hippo': 3868, 'hipster': 3869, 'hire': 3870, 'hisaab': 3871, 'hiss': 3872, 'history': 3873, 'hit': 3874, 'hitler': 3875, 'hitmarker': 3876, 'hive': 3877, 'hiya': 3878, 'hk': 3879, 'hmm': 3880, 'hmmm': 3881, 'hmph': 3882, 'hmu': 3883, 'hnnn': 3884, 'ho': 3885, 'hobby': 3886, 'hock': 3887, 'hoe': 3888, 'hogan': 3889, 'hogo': 3890, 'hokies': 3891, 'hola': 3892, 'holborn': 3893, 'hold': 3894, 'holder': 3895, 'holiday': 3896, 'holistic': 3897, 'hollywood': 3898, 'hologram': 3899, 'hols': 3900, 'holy': 3901, 'home': 3902, 'home-based': 3903, 'homebound': 3904, 'homegirl': 3905, 'homework': 3906, 'homey': 3907, 'homie': 3908, 'homies': 3909, 'homo': 3910, 'homosexual': 3911, 'hon': 3912, 'honest': 3913, 'honestly': 3914, 'honesty': 3915, 'honey': 3916, 'hong': 3917, 'honma': 3918, 'honor': 3919, 'honour': 3920, 'hood': 3921, 'hoodie': 3922, 'hooh': 3923, 'hop': 3924, 'hope': 3925, 'hopeful': 3926, 'hopefully': 3927, 'hopehousekids': 3928, 'hopeless': 3929, 'hopeyou': 3930, 'hopia': 3931, 'hopkins': 3932, 'hopper': 3933, 'horny': 3934, 'hornykik': 3935, 'horrendously': 3936, 'horrible': 3937, 'horribly': 3938, 'horrific': 3939, 'horse': 3940, 'horseracing': 3941, 'horseracingtips': 3942, \"horton's\": 3943, 'hospital': 3944, 'host': 3945, 'hosted': 3946, 'hot': 3947, 'hotbed': 3948, 'hotee-my': 3949, 'hotel': 3950, 'hotfmnoaidilforariana': 3951, 'hotgirls': 3952, 'hotmusicdelocos': 3953, 'hotnsexy': 3954, 'hotscratch': 3955, 'hotspotwithdanris': 3956, 'hottie': 3957, 'hotwheels': 3958, 'hound': 3959, 'hour': 3960, 'house': 3961, 'housemate': 3962, 'housemusic': 3963, 'housing': 3964, 'houston': 3965, \"how're\": 3966, \"how's\": 3967, 'howdo': 3968, 'however': 3969, 'hoxton': 3970, 'hoya': 3971, 'hozier': 3972, 'hp': 3973, 'hpc': 3974, 'hq': 3975, 'hr': 3976, 'hrdstellobama': 3977, 'hrryok': 3978, 'hschool': 3979, 'hse': 3980, 'hsm': 3981, 'hsould': 3982, 'hsr': 3983, 'ht': 3984, 'htaccess': 3985, 'html': 3986, 'hua': 3987, 'hub': 3988, 'hubba': 3989, 'hubby': 3990, 'hueee': 3991, 'huehue': 3992, 'hug': 3993, 'huge': 3994, 'hugh': 3995, 'hugs': 3996, 'huh': 3997, 'huhu': 3998, 'huhuhu': 3999, 'huhuhuhu': 4000, 'huhuhuhuhu': 4001, 'huhuu': 4002, 'hulk': 4003, 'hulkamania': 4004, 'human': 4005, 'humanist': 4006, 'humidity': 4007, 'humphrey': 4008, 'hun': 4009, 'hunde': 4010, 'hundred': 4011, 'hunger': 4012, 'hungrrryyy': 4013, 'hungry': 4014, 'huni': 4015, 'hunny': 4016, 'hunt': 4017, 'hurray': 4018, 'hurry': 4019, 'hurt': 4020, 'hush': 4021, 'hushedcallwithfraydoe': 4022, 'hushedpinwithsammy': 4023, 'husky': 4024, 'huvvft': 4025, 'huxley': 4026, 'hwaiting': 4027, 'hws': 4028, 'hwy': 4029, 'hxh': 4030, 'hygiene': 4031, 'hype': 4032, 'hyper': 4033, 'hyperbullies': 4034, 'hypercholesteloremia': 4035, 'hypocritical': 4036, 'hyung': 4037, 'hyungbot': 4038, 'hyungwon': 4039, 'hz': 4040, \"i'd\": 4041, \"i'll\": 4042, \"i'm\": 4043, \"i'mo\": 4044, \"i'ts\": 4045, \"i've\": 4046, 'ia': 4047, 'iam': 4048, 'iamamonster': 4049, 'iamca': 4050, 'ian': 4051, 'ic': 4052, 'ice': 4053, 'icecream': 4054, 'icecreammaster': 4055, 'iceland': 4056, 'icepack': 4057, 'icloud': 4058, 'icon': 4059, 'icu': 4060, 'id': 4061, 'idaho': 4062, 'idea': 4063, 'ideal': 4064, 'idek': 4065, 'identity': 4066, 'idiot': 4067, 'idk': 4068, 'idol': 4069, 'idr': 4070, 'iero': 4071, 'ifc': 4072, 'ifeelyou': 4073, 'ifimeetanalien': 4074, 'iflix': 4075, 'ifsc': 4076, 'ig': 4077, 'igbo': 4078, 'igers': 4079, 'igersoftheday': 4080, 'ign': 4081, 'ignore': 4082, 'ihatesomepeople': 4083, 'ihhh': 4084, 'ihop': 4085, 'ii': 4086, 'iirc': 4087, 'ij': 4088, 'ik': 4089, 'ikea': 4090, 'ikr': 4091, 'ilhoon': 4092, 'ill': 4093, 'illa': 4094, 'illadvised': 4095, 'illness': 4096, 'illustration': 4097, 'iloveyou': 4098, 'iloveyouu': 4099, 'ily': 4100, 'ily.melanie': 4101, 'ilysm': 4102, 'im': 4103, 'ima': 4104, 'imac': 4105, 'image': 4106, 'imaginative': 4107, 'imagine': 4108, 'img': 4109, 'imintoher': 4110, 'imiss': 4111, 'imitatia': 4112, 'imitation': 4113, 'imma': 4114, 'immature': 4115, 'immigrant': 4116, 'immovable': 4117, 'immune': 4118, 'imo': 4119, 'impact': 4120, 'impair': 4121, 'impeccable': 4122, 'imperative': 4123, 'imperial': 4124, 'imply': 4125, 'import': 4126, 'important': 4127, 'impossible': 4128, 'impression': 4129, 'impressive': 4130, 'improve': 4131, 'improvement': 4132, 'imran': 4133, 'imsorry': 4134, 'imveryverysorry': 4135, 'imy': 4136, 'imysm': 4137, 'in-app': 4138, 'in-house': 4139, 'in-sensitiveness': 4140, 'in-shaa-allah': 4141, 'inaccessible': 4142, 'inaccuracy': 4143, 'inaccurate': 4144, 'inactive': 4145, 'inapropriate': 4146, 'inatall': 4147, 'inbox': 4148, 'inc': 4149, 'inca': 4150, 'incall': 4151, 'inch': 4152, 'incident': 4153, 'incl': 4154, 'include': 4155, 'incoming': 4156, 'incompleta': 4157, 'incomplete': 4158, 'inconsiderate': 4159, 'incorrect': 4160, 'incredible': 4161, 'incredibleindia': 4162, 'indeed': 4163, 'independent': 4164, 'india': 4165, 'indian': 4166, 'indiana': 4167, 'indiankulture': 4168, 'indict': 4169, 'indie': 4170, 'indiemusic': 4171, 'indifference': 4172, 'indirecting': 4173, 'individual': 4174, 'indo': 4175, 'indonesia': 4176, 'indonesian': 4177, 'industry': 4178, 'ineedfeminismbecause': 4179, 'infection': 4180, 'infinite': 4181, \"infinite's\": 4182, 'infirmity': 4183, 'inflation': 4184, 'influence': 4185, 'influencer': 4186, 'influencers': 4187, 'influential': 4188, 'info': 4189, 'infographic': 4190, 'inform': 4191, 'information': 4192, 'informed': 4193, 'infra': 4194, 'infrastructure': 4195, 'infront': 4196, 'ingat': 4197, 'inglewood': 4198, 'inhaler': 4199, 'ini': 4200, 'init': 4201, 'inital': 4202, 'initial': 4203, 'initially': 4204, 'initiative': 4205, 'injure': 4206, 'injured': 4207, 'injury': 4208, 'injustice': 4209, 'ink': 4210, 'inner': 4211, 'innie': 4212, 'innocent': 4213, 'innovate': 4214, 'innumerable': 4215, 'input': 4216, 'inquisitor': 4217, 'insane': 4218, 'insecure': 4219, 'insecurity': 4220, \"insha'allah\": 4221, 'inshallah': 4222, 'inside': 4223, 'insidious': 4224, 'insomnia': 4225, 'insonia': 4226, 'inspiration': 4227, 'inspire': 4228, 'inspirit': 4229, 'inspite': 4230, 'insta': 4231, 'instagood': 4232, 'instagram': 4233, 'instal': 4234, 'install': 4235, 'instamood': 4236, 'instant': 4237, 'instead': 4238, 'institution': 4239, 'instruction': 4240, 'insurance': 4241, 'inte': 4242, 'intellect': 4243, 'intellectual': 4244, 'intelligent': 4245, 'intend': 4246, 'intention': 4247, 'inter': 4248, 'interaction': 4249, 'interactive': 4250, 'interest': 4251, 'interested': 4252, 'interesting': 4253, 'intern': 4254, 'international': 4255, 'internet': 4256, 'internship': 4257, 'interracial': 4258, 'interview': 4259, 'intolerant': 4260, 'intro': 4261, 'introduce': 4262, 'introduction': 4263, 'inuyasha': 4264, 'invalid': 4265, 'invest': 4266, 'investigate': 4267, 'investment': 4268, 'invite': 4269, 'invited': 4270, 'invoice': 4271, 'ion': 4272, 'iove': 4273, 'ip': 4274, 'iph': 4275, 'iphone': 4276, 'iplayer': 4277, 'ipod': 4278, 'iqbal': 4279, 'iqrar': 4280, 'iran': 4281, 'irandeal': 4282, 'iraq': 4283, 'ireland': 4284, 'irene': 4285, 'irish': 4286, 'irl': 4287, 'irony': 4288, 'irresistible': 4289, 'irresponsibly': 4290, 'is.he': 4291, 'isaac': 4292, 'isco': 4293, 'ised': 4294, 'ishal': 4295, 'isi': 4296, 'isibaya': 4297, 'islamist': 4298, 'island': 4299, 'isnt': 4300, 'iso': 4301, 'isolate': 4302, 'isp': 4303, 'israel': 4304, 'israeli': 4305, 'issue': 4306, 'istanya': 4307, 'istg': 4308, \"it'd\": 4309, \"it'll\": 4310, \"it'okay\": 4311, 'italian': 4312, 'italy': 4313, 'item': 4314, 'itna': 4315, 'ito': 4316, 'itong': 4317, 'itsamarvelthing': 4318, 'itter': 4319, 'itty': 4320, 'itunes': 4321, 'itv': 4322, 'ivan': 4323, 'ive': 4324, 'ivy': 4325, 'ivypowel': 4326, 'iwantin': 4327, 'iyalaya': 4328, 'iz': 4329, 'izumi': 4330, 'izzat': 4331, \"izzy's\": 4332, 'j': 4333, \"j's\": 4334, 'j11': 4335, 'j8': 4336, 'ja': 4337, 'jaann': 4338, 'jabongatpumaurbanstampede': 4339, 'jace': 4340, 'jack': 4341, \"jack's\": 4342, 'jacket': 4343, 'jackie': 4344, 'jackson': 4345, 'jaclintiler': 4346, 'jacob': 4347, 'jadines': 4348, 'jah': 4349, 'jahat': 4350, 'jai': 4351, 'jail': 4352, 'jailbroken': 4353, 'jake': 4354, 'jalulu': 4355, 'jam': 4356, 'james': 4357, 'james_yammouni': 4358, 'jamie': 4359, 'jamie-lee': 4360, 'jane': 4361, 'jannatul': 4362, 'january': 4363, 'japan': 4364, \"japan's\": 4365, 'japanese': 4366, 'jarraaa': 4367, 'jasmingarrick': 4368, 'jason': 4369, 'jasper': 4370, 'jaspernationalpark': 4371, 'java': 4372, 'jax': 4373, 'jay': 4374, 'jaya': 4375, 'jaysus': 4376, 'jazmin': 4377, 'jazz': 4378, 'jb': 4379, 'jcreport': 4380, 'jdjdjdjd': 4381, 'jds': 4382, 'je': 4383, 'jealous': 4384, 'jean': 4385, 'jeb': 4386, 'jebbush': 4387, 'jedzjabłka': 4388, 'jeebus': 4389, 'jeep': 4390, 'jehwan': 4391, 'jelly': 4392, 'jelouse': 4393, 'jemma': 4394, 'jen': 4395, 'jenna': 4396, 'jenni': 4397, 'jennifer': 4398, 'jennyjean': 4399, 'jeremy': 4400, 'jerk': 4401, 'jersey': 4402, 'jeslyn': 4403, 'jess': 4404, 'jesse': 4405, 'jest': 4406, 'jesus': 4407, 'jet': 4408, 'jfc': 4409, 'jgh': 4410, 'jhalak': 4411, 'jhezz': 4412, 'ji': 4413, 'jiba': 4414, 'jilla': 4415, 'jillcruz': 4416, 'jillmill': 4417, 'jim': 4418, 'jimin': 4419, \"jimin's\": 4420, 'jinki': 4421, 'jisoo': 4422, 'jisung': 4423, \"jiyeon's\": 4424, 'jk': 4425, 'jlo': 4426, 'jlovers': 4427, 'jmu': 4428, 'jo': 4429, 'job': 4430, 'joc': 4431, 'joe': 4432, \"joe's\": 4433, 'jog': 4434, 'john': 4435, 'johnforceo': 4436, 'johnyherbert': 4437, 'joim': 4438, 'join': 4439, 'joint': 4440, 'jojo': 4441, 'joke': 4442, 'jokid': 4443, 'jokingly': 4444, 'jolly': 4445, 'jones': 4446, 'jong': 4447, 'jongdae': 4448, 'jonghyun': 4449, 'jonginuh': 4450, 'jordan': 4451, 'jordanian': 4452, 'joselito': 4453, \"josephine's\": 4454, 'josh': 4455, 'jotzh': 4456, 'jouch': 4457, 'journalism': 4458, 'journey': 4459, 'journeyps': 4460, 'journo': 4461, 'journorequest': 4462, 'joy': 4463, 'joyce': 4464, 'jozi': 4465, 'jps': 4466, 'jr': 4467, 'jsl': 4468, 'jst': 4469, 'ju': 4470, 'juan': 4471, 'judge': 4472, 'judging': 4473, 'judgmental': 4474, 'judo': 4475, 'judy': 4476, 'juga': 4477, 'juggle': 4478, 'juice': 4479, 'juicebro': 4480, 'juicy': 4481, 'juja': 4482, 'julia': 4483, 'juliana': 4484, 'julie': 4485, 'july': 4486, 'jumma': 4487, 'jumma_mubarik': 4488, 'jummah': 4489, 'jummamubarak': 4490, 'jummaprayer': 4491, 'jump': 4492, 'jumpgiants': 4493, 'jumpsuit': 4494, 'june': 4495, 'jungle': 4496, 'junhee': 4497, 'junior': 4498, 'junjou': 4499, 'junmyeon': 4500, 'jurassic': 4501, 'jury': 4502, 'justget': 4503, 'justgotkanekified': 4504, 'justice': 4505, 'justiceforsandrabland': 4506, 'justin': 4507, 'justinbieber': 4508, 'justi̇n': 4509, 'jute': 4510, 'juudiciary': 4511, 'k': 4512, 'k3g': 4513, 'ka': 4514, 'kafi': 4515, 'kaha': 4516, 'kahaaa': 4517, 'kahfi': 4518, 'kahlil': 4519, 'kak': 4520, 'kale': 4521, 'kalin': 4522, 'kalle': 4523, \"kam's\": 4524, 'kamaal': 4525, 'kami': 4526, 'kamiss': 4527, 'kandekjs': 4528, 'kang': 4529, 'kangin': 4530, 'kanina': 4531, 'kansai': 4532, 'kanye': 4533, 'kapatidkongpogi': 4534, 'kapima': 4535, 'kar': 4536, 'karachi': 4537, 'karain': 4538, 'karani': 4539, 'karaoke': 4540, \"kareena's\": 4541, 'karen': 4542, 'karibumombasa': 4543, 'karin': 4544, 'karlia': 4545, 'karte': 4546, 'kashi': 4547, 'kasi': 4548, 'kaslkdja': 4549, 'kat': 4550, 'katamari': 4551, 'kate': 4552, 'kateee': 4553, 'katekyn': 4554, 'katerina': 4555, 'kath': 4556, \"kath'd\": 4557, 'kathryn': 4558, 'katie': 4559, 'katmtan': 4560, 'kaussies': 4561, 'kawaii': 4562, 'kaya': 4563, 'kaylas': 4564, 'kayo': 4565, 'kaytranada': 4566, 'kb': 4567, 'kbs': 4568, 'kbye': 4569, 'kca': 4570, 'ke': 4571, 'kebab': 4572, 'kebaya': 4573, 'kebun': 4574, 'keedz': 4575, 'keeno': 4576, 'keep': 4577, 'keepin': 4578, 'keepitlocal': 4579, 'keesh': 4580, 'kei': 4581, 'kelly': 4582, 'ken': 4583, 'kendall': 4584, 'kennat': 4585, 'kennel': 4586, 'kenya': 4587, 'kepler': 4588, 'kepo': 4589, 'kernel': 4590, 'kesa': 4591, 'ketchup': 4592, 'kev': 4593, 'key': 4594, 'keybind': 4595, 'kfc': 4596, 'kfckitchentours': 4597, 'kgola': 4598, 'kha': 4599, 'khamis': 4600, 'khan': 4601, 'khany': 4602, 'kharap': 4603, 'khatam': 4604, 'khawateen': 4605, \"khloe's\": 4606, 'ki': 4607, 'kia': 4608, 'kian': 4609, 'kianweareproud': 4610, 'kick': 4611, 'kickstarter': 4612, 'kid': 4613, 'kidding': 4614, 'kiddo': 4615, 'kidney': 4616, 'kidschoiceawards': 4617, 'kik': 4618, 'kikchat': 4619, 'kikgirl': 4620, 'kikhorny': 4621, 'kikkomansabor': 4622, 'kikme': 4623, 'kikmeboys': 4624, 'kikmeguys': 4625, 'kikmenow': 4626, 'kikmsn': 4627, 'kiksex': 4628, 'kiksexting': 4629, 'kiligs': 4630, 'kill': 4631, 'killer': 4632, 'killin': 4633, 'killua': 4634, 'kim': 4635, 'kimaaani': 4636, 'kin': 4637, 'kina': 4638, \"kinara's\": 4639, 'kind': 4640, 'kinda': 4641, 'kindergarten': 4642, 'kindle': 4643, 'kindly': 4644, 'king': 4645, 'kingdom': 4646, 'kingfisher': 4647, 'kinickers': 4648, 'kink': 4649, 'kinky': 4650, 'kisi': 4651, 'kiss': 4652, 'kissme': 4653, 'kit': 4654, 'kita': 4655, 'kitchen': 4656, 'kitkat': 4657, 'kittehs': 4658, 'kitten': 4659, 'kitty': 4660, 'kiya': 4661, 'kizomba': 4662, 'kk': 4663, 'kkk': 4664, 'klappertart': 4665, 'kleper': 4666, 'km': 4667, 'kme': 4668, 'kms': 4669, 'knee': 4670, 'knife': 4671, 'knitting': 4672, 'kno': 4673, 'knock': 4674, 'knockin': 4675, 'know': 4676, 'know.for': 4677, 'knowing': 4678, 'knowledge': 4679, 'knowww': 4680, 'knw': 4681, 'ko': 4682, 'koala': 4683, 'koe': 4684, 'koel': 4685, 'koffie': 4686, 'koi': 4687, 'kong': 4688, 'konga': 4689, 'korea': 4690, 'korean': 4691, 'koyal': 4692, 'kpop': 4693, 'kresna': 4694, 'krispy': 4695, 'kristin': 4696, 'krta': 4697, 'krystal': 4698, 'krystoria': 4699, 'ksoo': 4700, 'ktksbye': 4701, 'ku': 4702, 'kuch': 4703, 'kuchar': 4704, 'kuching': 4705, 'kuffar': 4706, 'kumble': 4707, 'kumpul': 4708, 'kunoriforceo': 4709, 'kurt': 4710, 'kurta': 4711, 'kw': 4712, 'kyle': 4713, 'kylie': 4714, \"kylie's\": 4715, \"kyungsoo's\": 4716, 'l': 4717, 'l4l': 4718, 'la': 4719, 'lab': 4720, 'label': 4721, 'labour': 4722, \"labour's\": 4723, 'labs': 4724, 'labyo': 4725, 'lace': 4726, 'lack': 4727, 'lad': 4728, 'ladder': 4729, 'ladolcevitainluxembourg@hotmail.com': 4730, 'lady': 4731, \"lady's\": 4732, 'ladygaga': 4733, 'ladyposse': 4734, 'lafayette': 4735, 'lage': 4736, 'lagi': 4737, 'lagiii': 4738, 'lagos': 4739, 'laguna': 4740, 'lah': 4741, 'lahat': 4742, 'lahhh': 4743, 'laid': 4744, 'laine': 4745, 'laiten': 4746, 'lake': 4747, 'lami': 4748, 'lamo': 4749, 'lamon': 4750, 'lan': 4751, 'land': 4752, 'landscape': 4753, 'lang': 4754, 'langkawi': 4755, 'langs': 4756, 'language': 4757, 'lani': 4758, 'lansi': 4759, 'laomma': 4760, 'laomma_couture': 4761, 'lap': 4762, 'lapar': 4763, 'laper': 4764, 'laptop': 4765, 'large': 4766, 'laribuggy': 4767, 'laro': 4768, 'larry': 4769, 'lart': 4770, 'laser-like': 4771, 'lass': 4772, \"lassi's\": 4773, 'last': 4774, 'late': 4775, 'lately': 4776, 'latepost': 4777, 'later': 4778, 'latin': 4779, 'latinhouse': 4780, 'latmon': 4781, 'latte': 4782, 'laugh': 4783, 'laughing': 4784, 'laughter': 4785, 'launch': 4786, 'laura': 4787, 'law': 4788, 'lawn': 4789, 'lawnmower': 4790, 'lay': 4791, 'layer': 4792, 'layout': 4793, 'lazy': 4794, 'lazyweekend': 4795, 'lb': 4796, 'lcs': 4797, 'le': 4798, 'lead': 4799, 'leader': 4800, 'leadership': 4801, 'leaf': 4802, 'league': 4803, 'leak': 4804, 'leanneriner': 4805, 'learn': 4806, 'lease': 4807, 'least': 4808, 'leave': 4809, 'ledger': 4810, \"ledger's\": 4811, 'lee': 4812, 'leeds': 4813, 'leeteuk': 4814, 'left': 4815, 'leftover': 4816, 'leg': 4817, 'lega': 4818, 'legal': 4819, 'legend': 4820, 'legendary': 4821, 'leggete': 4822, 'legible': 4823, 'legit': 4824, 'lego': 4825, 'legs': 4826, 'legsupthewall': 4827, 'leia': 4828, 'leica': 4829, 'leicaq': 4830, 'lemess': 4831, 'lemme': 4832, 'lemon': 4833, 'lendal': 4834, 'leno': 4835, 'leo': 4836, 'leon': 4837, 'lepas': 4838, 'lesbian': 4839, 'lesley': 4840, 'less': 4841, 'lessions': 4842, 'lesson': 4843, 'let': 4844, \"let's\": 4845, 'letsfootball': 4846, 'letsgetmessy': 4847, 'letshavecocktailsafternuclai': 4848, 'letter': 4849, 'level': 4850, 'leviboard': 4851, 'lew': 4852, 'lewis': 4853, 'lfccw': 4854, 'lgbt': 4855, 'li': 4856, 'liam': 4857, 'liat': 4858, 'lib': 4859, 'libmysqlclient-dev': 4860, 'library': 4861, 'licence': 4862, 'liceooo': 4863, 'lick': 4864, 'lie': 4865, 'life': 4866, 'life-so': 4867, 'lifestyle': 4868, 'lifetime': 4869, 'light': 4870, 'lightbox': 4871, 'lighting': 4872, 'ligo': 4873, 'like': 4874, 'likee': 4875, 'likeforfollow': 4876, 'likeforlike': 4877, 'likely': 4878, 'likewise': 4879, 'liking': 4880, 'lil': 4881, 'lils': 4882, 'lilsisbro': 4883, 'lilydale': 4884, 'limbo': 4885, 'limit': 4886, 'limited': 4887, 'limpopo': 4888, 'linda': 4889, 'line': 4890, 'line-up': 4891, 'lineup': 4892, 'linguist': 4893, 'linis': 4894, 'link': 4895, 'linux': 4896, 'lion': 4897, 'lip': 4898, 'lipstick': 4899, 'liquid': 4900, 'liquorice': 4901, 'lisa': 4902, 'lisaherring': 4903, 'list': 4904, 'listen': 4905, 'listenable': 4906, 'lit': 4907, 'literally': 4908, 'literature': 4909, 'litey': 4910, 'litro': 4911, 'little': 4912, 'liv': 4913, 'live': 4914, 'liveonstreamate': 4915, 'liverpool': 4916, 'livesex': 4917, 'livestream': 4918, 'livi': 4919, 'livid': 4920, 'living': 4921, 'liza': 4922, 'lizaminnelli': 4923, 'ljp': 4924, 'llama': 4925, 'llaollao': 4926, 'lloyd': 4927, 'lmao': 4928, 'lmaoo': 4929, 'lmaooo': 4930, 'lmbo': 4931, 'lmfao': 4932, 'lmfaoo': 4933, 'lmfaooo': 4934, 'lng': 4935, 'load': 4936, 'loading': 4937, 'loan': 4938, 'local': 4939, 'localgaragederby': 4940, 'location': 4941, 'lock': 4942, 'lockscreen': 4943, 'loftey': 4944, 'log': 4945, 'logic': 4946, 'login': 4947, 'logo': 4948, 'loiyals': 4949, 'lol': 4950, 'lol.hook': 4951, 'lolipop': 4952, 'lollipop': 4953, 'lolll': 4954, 'lols': 4955, 'lolz': 4956, 'lolzz': 4957, 'london': 4958, 'londondairy': 4959, 'lonely': 4960, 'loner': 4961, 'long': 4962, 'long-distance': 4963, 'longe': 4964, 'longer': 4965, 'longgg': 4966, 'look': 4967, \"look's\": 4968, 'lookfortheo': 4969, 'looks': 4970, 'loool': 4971, 'looong': 4972, 'looove': 4973, 'loop': 4974, 'loose': 4975, 'lootcrate': 4976, 'looww': 4977, 'lord': 4978, 'lorenangel': 4979, 'lori': 4980, 'lorm': 4981, 'lorna': 4982, 'loryn.good@lincs-chamber.co.uk': 4983, 'lose': 4984, 'loser': 4985, 'losing': 4986, 'loss': 4987, 'lot': 4988, 'lotion': 4989, 'lotsa': 4990, 'lottery': 4991, 'loud': 4992, 'louis': 4993, 'louisiana': 4994, 'louisianashooting': 4995, 'lounge': 4996, 'lourdes': 4997, 'louse': 4998, 'lovable': 4999, 'love': 5000, 'lovebird': 5001, 'lovely': 5002, 'lovenafianna': 5003, 'loveofmylife': 5004, 'lover': 5005, 'lovesummertime': 5006, 'lovey': 5007, 'loveyaaah': 5008, 'low': 5009, 'lowbat': 5010, 'lower': 5011, 'loyal': 5012, 'lq': 5013, 'lrka': 5014, 'lsa': 5015, 'lsceens': 5016, 'lsh': 5017, 'lt': 5018, 'lu': 5019, 'luas': 5020, 'luceleva': 5021, 'luck': 5022, 'luckely': 5023, 'luckily': 5024, 'lucky': 5025, 'luckyyy': 5026, 'lucozade': 5027, 'lucy': 5028, 'ludlow': 5029, 'luff': 5030, 'luis': 5031, 'luke': 5032, 'lukkkee': 5033, 'lukris': 5034, 'lumia': 5035, 'luminous': 5036, 'luna': 5037, 'lunch': 5038, 'lunes': 5039, 'lungomare': 5040, 'lupet': 5041, 'lure': 5042, 'lurgy': 5043, 'lush': 5044, 'lusi': 5045, 'luv': 5046, 'lux': 5047, 'luxembourg': 5048, 'luxuous': 5049, 'luxurytravel': 5050, 'lvg': 5051, 'lwwf': 5052, 'lycra': 5053, 'lyf': 5054, 'lyin': 5055, 'lyk': 5056, 'lyka': 5057, 'lymond': 5058, 'lynettelowe': 5059, 'lynne': 5060, 'lyric': 5061, 'm': 5062, \"m'lady\": 5063, \"m's\": 5064, 'm20': 5065, 'm4': 5066, 'm5m6junction': 5067, 'm8': 5068, 'maa': 5069, 'maaay': 5070, 'maaf': 5071, 'maas': 5072, 'mac': 5073, 'macauley': 5074, 'macbook': 5075, 'maccies': 5076, 'macedonian': 5077, 'machaya': 5078, 'machinery': 5079, 'mad': 5080, 'madam': 5081, 'madatte': 5082, 'made': 5083, 'madeline': 5084, 'madi': 5085, 'madison': 5086, 'madness': 5087, 'madrid': 5088, 'mady': 5089, 'mag': 5090, 'maganda': 5091, 'magazine': 5092, 'magcon': 5093, 'mager': 5094, 'maggie': 5095, 'magic': 5096, 'magical': 5097, 'magicalkenya': 5098, 'magicalmysterytour': 5099, 'magisa': 5100, 'magnificent': 5101, 'magpaalam': 5102, 'magpie': 5103, 'magstart': 5104, 'mah': 5105, 'mahilig': 5106, 'mahirap': 5107, 'mahnor': 5108, 'mahone': 5109, 'mail': 5110, 'main': 5111, 'maine': 5112, 'mainly': 5113, 'mairi': 5114, 'majhwar': 5115, 'major': 5116, 'mak': 5117, 'makati': 5118, 'make': 5119, 'make-up': 5120, 'makeover': 5121, 'maker': 5122, 'makesme': 5123, 'makeup': 5124, 'making': 5125, 'maknae': 5126, 'maldives': 5127, 'male': 5128, 'malese': 5129, 'malik': 5130, 'mallick': 5131, 'malta': 5132, 'mam': 5133, 'mam-bully': 5134, 'mama': 5135, 'mamabear': 5136, 'mamaya': 5137, 'mamayang': 5138, 'mamma': 5139, 'mammoth': 5140, 'man': 5141, 'man.he': 5142, 'mana': 5143, 'manage': 5144, 'management': 5145, 'manager': 5146, 'manbearpig': 5147, 'manchester': 5148, 'mandela': 5149, 'manga': 5150, 'mango': 5151, 'maniataki': 5152, 'manifestation': 5153, 'manila': 5154, 'manila_bro': 5155, 'manly': 5156, 'mannerfuls': 5157, 'manny': 5158, 'manos': 5159, 'manteca': 5160, 'manthan': 5161, 'manual': 5162, 'manually': 5163, 'manuel': 5164, 'manuella': 5165, 'manush': 5166, 'many': 5167, 'manzano': 5168, 'map': 5169, 'mapbox': 5170, 'maple': 5171, 'mar': 5172, 'mara': 5173, 'marais': 5174, 'marathon': 5175, 'march': 5176, 'marco': 5177, 'mare': 5178, 'margo': 5179, 'maricarljanah': 5180, 'marino': 5181, 'mark': 5182, 'market': 5183, 'marketing': 5184, 'marmite': 5185, 'maroon': 5186, 'marriage': 5187, 'marrickville': 5188, 'married': 5189, 'marrish': 5190, 'marry': 5191, 'marseille': 5192, 'marshmallow': 5193, 'mart': 5194, 'martes': 5195, 'marty': 5196, 'marula': 5197, 'marvel': 5198, 'marvellous': 5199, 'mary': 5200, 'maryhicks': 5201, 'masa': 5202, 'masaan': 5203, 'masaantoday': 5204, 'mash': 5205, \"masha'allah\": 5206, 'mashaket': 5207, 'mashup': 5208, 'mask': 5209, 'mass': 5210, 'massage': 5211, 'massis': 5212, 'massive': 5213, 'master': 5214, 'masterchef': 5215, 'mastership': 5216, 'masud': 5217, 'match': 5218, 'matching': 5219, 'matchy': 5220, 'mate': 5221, 'mateo': 5222, 'mater': 5223, 'material': 5224, 'materialistic': 5225, 'maternity': 5226, 'math': 5227, 'matsu_bouzu': 5228, 'matt': 5229, 'matter': 5230, 'matteroftheheart': 5231, 'matthew': 5232, 'mature': 5233, 'mauliate': 5234, 'mauryas': 5235, 'maverickgamer': 5236, 'max': 5237, 'maxfreshmove': 5238, 'maxi': 5239, 'may': 5240, 'maybe': 5241, 'mayday': 5242, 'mayhem': 5243, 'maymay': 5244, 'mayor': 5245, 'mañana': 5246, 'mb': 5247, 'mba': 5248, 'mbalula': 5249, 'mbasa': 5250, 'mbc': 5251, 'mbf': 5252, 'mbulelo': 5253, 'mca': 5254, 'mcdo': 5255, 'mcfc': 5256, 'mcfloat': 5257, 'mcflurry': 5258, 'mcg': 5259, 'mclaren': 5260, 'mcnuggets': 5261, 'mcountdown': 5262, 'mcpe': 5263, 'me.so': 5264, 'meal': 5265, 'mean': 5266, 'meaningful': 5267, 'meaningless': 5268, 'meant': 5269, 'meany': 5270, 'measure': 5271, 'meat': 5272, 'mecha-totems': 5273, 'mechanic': 5274, 'meck': 5275, 'med': 5276, 'medication': 5277, 'medicine': 5278, 'meditation': 5279, 'medium': 5280, 'mee': 5281, 'meee': 5282, 'meet': 5283, 'meeting': 5284, 'meg': 5285, 'mega': 5286, 'megafauna': 5287, 'megamoh': 5288, 'megan': 5289, 'meh': 5290, 'mehendi': 5291, 'mehtab': 5292, 'mein': 5293, 'mel': 5294, 'melatonin': 5295, 'melbourne': 5296, 'melbournetrip': 5297, 'melody': 5298, \"melody's\": 5299, 'melon': 5300, 'melt': 5301, 'member': 5302, 'meme': 5303, 'mememe': 5304, 'memorization': 5305, 'memory': 5306, 'memotohaters': 5307, 'men': 5308, 'menace': 5309, 'mend': 5310, 'mene': 5311, 'meni': 5312, 'menille': 5313, 'mental': 5314, 'mentality': 5315, 'mentally': 5316, 'mention': 5317, 'menu': 5318, 'meooowww': 5319, 'mercedes': 5320, 'merch': 5321, 'merchs': 5322, 'merci': 5323, 'mercy': 5324, 'merdeka': 5325, 'mere': 5326, 'meri': 5327, 'merlin': 5328, 'merry': 5329, 'mesh': 5330, 'mess': 5331, 'message': 5332, 'messenger': 5333, 'messy': 5334, 'meter': 5335, 'meth': 5336, 'mexican': 5337, 'mexico': 5338, 'meydan': 5339, 'mfundo': 5340, 'mga': 5341, 'mhhh': 5342, 'mi': 5343, 'mia': 5344, 'miah': 5345, 'miami': 5346, 'mic': 5347, 'michael': 5348, \"michael's\": 5349, 'michelle': 5350, 'micro': 5351, \"microsoft's\": 5352, 'mid-end': 5353, 'middle': 5354, 'midnight': 5355, 'midori': 5356, 'might': 5357, 'mighty': 5358, 'migraine': 5359, 'migrant': 5360, 'mike': 5361, 'milano': 5362, 'mile': 5363, 'mileage': 5364, 'milf': 5365, 'milk': 5366, 'milkshake': 5367, 'miller': 5368, 'millie': 5369, \"millie's\": 5370, 'million': 5371, 'millz': 5372, 'milo': 5373, 'mimi': 5374, 'min': 5375, 'minal': 5376, 'mince': 5377, 'mind': 5378, 'mine': 5379, \"mine's\": 5380, 'minecon': 5381, 'minecraft': 5382, 'ming': 5383, 'mingming': 5384, 'minha': 5385, 'minhyuks': 5386, 'minister': 5387, 'minju': 5388, 'minkyuk': 5389, 'mino': 5390, 'mint': 5391, 'minute': 5392, 'minuter': 5393, 'miracle': 5394, 'mirror': 5395, 'mischievousness': 5396, 'miserable': 5397, 'misplace': 5398, 'miss': 5399, 'missin': 5400, 'misspell': 5401, 'missyou': 5402, 'mist': 5403, 'mistake': 5404, 'mister': 5405, 'mistress': 5406, 'misty': 5407, 'misundersranding': 5408, \"mit's\": 5409, 'mix': 5410, 'mixcloud': 5411, 'mixed': 5412, 'mixer': 5413, 'mixtape': 5414, 'mixture': 5415, 'mj': 5416, 'mjhe': 5417, 'mka': 5418, 'mm': 5419, 'mmm': 5420, 'mmmm': 5421, 'mmsmalubhangsakit': 5422, 'mne': 5423, 'mnwreeen': 5424, 'mo': 5425, 'moan': 5426, 'moar': 5427, 'mob': 5428, 'mobile': 5429, 'mobitel': 5430, 'mochamichelle': 5431, 'mockingbird': 5432, 'mockingjay': 5433, 'mode': 5434, 'model': 5435, 'modern': 5436, 'modi': 5437, 'modified': 5438, 'modimo': 5439, 'mohapatra': 5440, 'mohr': 5441, 'moisturize': 5442, 'mojo': 5443, 'mom': 5444, \"mom's\": 5445, 'mombasa': 5446, 'moment': 5447, 'momma': 5448, 'mommy': 5449, \"mommy's\": 5450, 'momo': 5451, 'mon': 5452, 'monash': 5453, 'monday': 5454, 'money': 5455, 'monfils': 5456, 'monica': 5457, 'monkey': 5458, 'mono': 5459, 'monsoon': 5460, 'monster': 5461, 'montana': 5462, 'monteith': 5463, 'month': 5464, 'monthly': 5465, 'montoya': 5466, \"monty's\": 5467, 'moo': 5468, 'mood': 5469, 'mood-dump': 5470, 'moodboster': 5471, 'moose': 5472, 'morality': 5473, \"morisette's\": 5474, 'mork': 5475, 'mornin': 5476, 'morning': 5477, 'morocco': 5478, 'morrrning': 5479, 'mosque': 5480, 'mosquito': 5481, 'mosquitoe': 5482, 'most': 5483, 'mostly': 5484, 'motavators': 5485, 'mother': 5486, 'motherfucking': 5487, 'motilium': 5488, 'motivate': 5489, 'motn': 5490, 'motor': 5491, 'motorsport': 5492, 'mount': 5493, 'mouse': 5494, 'mouth': 5495, 'move': 5496, 'moved': 5497, 'movement': 5498, 'movie': 5499, 'moviee': 5500, 'moviemarathon': 5501, 'movnat': 5502, 'mp3': 5503, 'mpoints': 5504, 'mr': 5505, 'mr2': 5506, 'msc': 5507, 'msg': 5508, 'msged': 5509, 'msnbc': 5510, 'mtaani': 5511, 'mtg': 5512, 'mtn': 5513, 'mtvhottest': 5514, 'muaahhh': 5515, 'muahah': 5516, 'muahhh': 5517, 'mubank': 5518, 'mubarak': 5519, 'mubarik': 5520, 'mubark': 5521, 'much': 5522, 'muchhh': 5523, 'muddle': 5524, 'muddy': 5525, 'muertosatfringe': 5526, 'mufc': 5527, 'mug': 5528, 'mugshot': 5529, 'mui': 5530, 'mujy': 5531, 'mull': 5532, 'muller': 5533, 'multiracial': 5534, 'mum': 5535, 'mumbai': 5536, 'mumma': 5537, 'muna': 5538, 'munchkin': 5539, 'munchkins': 5540, 'mune': 5541, 'muntu': 5542, 'murder': 5543, 'murielle': 5544, 'murugan': 5545, 'mush': 5546, 'mushroom': 5547, 'music': 5548, 'musicas': 5549, 'musicbiz': 5550, 'musicology': 5551, 'muslim': 5552, 'muslims': 5553, 'mussel': 5554, 'must': 5555, \"must've\": 5556, 'muster': 5557, 'mustread': 5558, 'mute': 5559, 'mutt': 5560, 'mutual': 5561, 'mutuals': 5562, 'muv': 5563, 'mvg': 5564, 'mwa': 5565, 'mwah': 5566, 'mwamwa': 5567, 'mwf': 5568, 'mybrainneedstoshutoff': 5569, 'mych': 5570, 'myhill': 5571, 'mymonsoonstory': 5572, 'mypapamypride': 5573, 'mypark': 5574, 'mysql': 5575, 'mystery': 5576, 'mysummer': 5577, 'mythic': 5578, 'myungsoo': 5579, 'mz': 5580, 'méxico': 5581, 'n': 5582, 'n04js': 5583, 'na': 5584, 'na-take': 5585, 'naa': 5586, 'naaahhh': 5587, 'naaan': 5588, 'nachos': 5589, 'nad': 5590, 'nadal': 5591, 'nae': 5592, 'naeun': 5593, 'nag': 5594, 'nag.greet': 5595, 'nagato': 5596, 'naggy': 5597, 'nagsend': 5598, 'nah': 5599, 'nahi': 5600, 'nai': 5601, 'nail': 5602, 'nailedit': 5603, 'nairobi': 5604, 'najam': 5605, 'nak': 5606, 'nakaka': 5607, 'nakamaforever': 5608, 'naked': 5609, 'nalamannn': 5610, 'naman': 5611, 'name': 5612, 'namechecking': 5613, 'nams': 5614, 'nancy': 5615, \"nando's\": 5616, 'naomi': 5617, 'nap': 5618, 'narcissist': 5619, 'narcos': 5620, 'narendra': 5621, 'narrow': 5622, 'narrow-minded': 5623, 'naruto': 5624, 'nash': 5625, 'nasty': 5626, 'nat': 5627, 'nate': 5628, 'natgeo': 5629, 'nathan': 5630, 'nathanielhinanakit': 5631, 'nathann': 5632, 'nation': 5633, 'national': 5634, 'native': 5635, 'natsuki': 5636, 'natural': 5637, 'navigate': 5638, 'naw': 5639, 'nawf': 5640, 'nawwwe': 5641, 'nawwwee': 5642, 'naya': 5643, 'nb': 5644, 'nba': 5645, 'nbheroes': 5646, 'nc': 5647, 'ncaaseason': 5648, 'ncc': 5649, 'nd': 5650, 'ndee': 5651, 'ndi': 5652, 'ne': 5653, 'neals': 5654, 'near': 5655, 'nearer': 5656, 'nearly': 5657, 'neat-o': 5658, 'necessary': 5659, 'necklace': 5660, 'need': 5661, 'needa': 5662, 'needicecreamnow': 5663, 'neeein': 5664, 'negate': 5665, 'neglected': 5666, 'negooo': 5667, 'negotiable': 5668, 'negotiate': 5669, 'neh': 5670, 'neighbour': 5671, 'neil': 5672, 'nein': 5673, 'neither': 5674, 'nelle': 5675, 'nelson': 5676, 'nemanja': 5677, 'nemesis': 5678, 'neng': 5679, 'neon': 5680, 'nerd': 5681, 'nerve': 5682, 'net': 5683, 'netball': 5684, 'netfilx': 5685, 'netflix': 5686, 'netherlands': 5687, 'netizen': 5688, 'netsec': 5689, 'network': 5690, 'never': 5691, 'new': 5692, 'newbethvideo': 5693, 'newbie': 5694, 'newblogpost': 5695, 'newly': 5696, 'newmusic': 5697, 'news': 5698, 'newsdistribution': 5699, 'newsletter': 5700, 'newsround': 5701, 'newwine': 5702, 'newyork': 5703, 'nex': 5704, 'next': 5705, 'nextweek': 5706, 'nez': 5707, 'nfinite': 5708, 'ng': 5709, 'nga': 5710, 'ngarepfollbackdarinabilahjkt': 5711, 'ngee': 5712, 'ngeze': 5713, 'ngga': 5714, 'ngi': 5715, 'ngucapinnya': 5716, 'nh': 5717, 'nhe': 5718, 'nhi': 5719, 'nhl': 5720, 'nhs': 5721, 'ni': 5722, 'nia': 5723, 'niaaa': 5724, 'niall': 5725, 'niam': 5726, 'niamh': 5727, 'nibble': 5728, 'nic': 5729, 'nice': 5730, 'nicely': 5731, 'nichola': 5732, 'nicholas': 5733, 'nick': 5734, 'nicki': 5735, 'nickname': 5736, 'nickyyy': 5737, 'nicola': 5738, 'nicoleapage': 5739, 'niece': 5740, 'niende': 5741, 'nigeria': 5742, 'nigga': 5743, 'niggs': 5744, 'night': 5745, \"night's\": 5746, 'nighter': 5747, 'nightmare': 5748, 'nighty': 5749, 'nike': 5750, 'nikeindonesia': 5751, 'nikeoriginal': 5752, 'nikkei': 5753, 'nikki': 5754, 'nil': 5755, 'nila': 5756, 'nim': 5757, 'ninasty': 5758, 'ninh': 5759, 'nintendo': 5760, 'niqqa': 5761, 'nirvana': 5762, 'nisrina': 5763, 'nite': 5764, 'niwll': 5765, 'nixus': 5766, 'nj': 5767, 'nje': 5768, 'njoy': 5769, 'nk': 5770, 'nknkkpagpapakumbaba': 5771, 'nls': 5772, 'nm': 5773, 'no-no': 5774, 'no1': 5775, 'nobody': 5776, 'nocturnal': 5777, 'node': 5778, 'noe': 5779, 'noesss': 5780, 'noggin': 5781, 'noise': 5782, 'nominate': 5783, 'nominiere': 5784, 'nomoney': 5785, 'noms': 5786, 'non': 5787, 'non-filipina': 5788, 'non-mapbox': 5789, 'non-trial': 5790, 'nonce': 5791, 'none': 5792, 'nonexistent': 5793, 'nonscripted': 5794, 'noo': 5795, 'noob': 5796, 'noodle': 5797, 'noon': 5798, 'noone': 5799, 'nooo': 5800, 'noooo': 5801, 'nooope': 5802, 'nooot': 5803, 'nooow': 5804, 'nope': 5805, 'norapowel': 5806, 'norhing': 5807, 'normal': 5808, 'normally': 5809, 'north': 5810, 'northern': 5811, 'norwegian': 5812, 'nose': 5813, 'nosebleed': 5814, 'nosmet': 5815, 'nostalgia': 5816, 'notanapology': 5817, 'notch': 5818, 'notcool': 5819, 'note': 5820, 'notgonnabeactivefor': 5821, 'nothaveld': 5822, 'nothing': 5823, 'notice': 5824, 'noticed': 5825, 'noticing': 5826, 'notification': 5827, 'notifs': 5828, 'notion': 5829, 'notr': 5830, 'nou': 5831, 'novel': 5832, 'november': 5833, 'nowadays': 5834, 'nowdays': 5835, 'nowhere': 5836, 'nowplaying': 5837, 'nowt': 5838, 'nowww': 5839, 'np': 5840, 'nrltigersroosters': 5841, 'nsbzhdnxndamal': 5842, 'nsfw': 5843, 'nsn_supplements': 5844, 'nstp': 5845, 'nt4': 5846, 'nth': 5847, 'nu-uh': 5848, 'nuclear': 5849, 'nude': 5850, 'nudes': 5851, 'nudge': 5852, 'nugget': 5853, 'nuka': 5854, 'numb': 5855, 'number': 5856, 'numbero': 5857, 'nun': 5858, 'nurse': 5859, 'nutella': 5860, 'nutshell': 5861, 'nux': 5862, 'nvm': 5863, 'nvr': 5864, 'nw': 5865, 'nwb': 5866, 'nxt': 5867, 'ny': 5868, 'nyc': 5869, 'nyquil': 5870, 'nys': 5871, 'nz': 5872, 'népal': 5873, \"o'clock\": 5874, \"o'neal\": 5875, 'o_o': 5876, 'ob': 5877, 'obakeng': 5878, 'obama': 5879, 'obamainkenya': 5880, 'obi': 5881, 'obituary': 5882, 'obsess': 5883, 'obsession': 5884, 'obstacle': 5885, 'obvious': 5886, 'obviously': 5887, 'obvs': 5888, 'obyun': 5889, 'occasion': 5890, 'occasionally': 5891, 'occur': 5892, 'ocean': 5893, 'oche': 5894, 'oct': 5895, 'october': 5896, 'odd': 5897, 'odds': 5898, 'ode': 5899, 'odoo': 5900, 'oe': 5901, 'ofc': 5902, 'offboarding': 5903, 'offend': 5904, 'offense': 5905, 'offensive': 5906, 'offer': 5907, 'office': 5908, 'official': 5909, 'officially': 5910, 'offline': 5911, 'offroading': 5912, 'offshoring': 5913, 'ofscreen': 5914, 'often': 5915, 'oh': 5916, 'ohaha': 5917, 'ohgod': 5918, 'ohh': 5919, 'ohhh': 5920, 'ohioan': 5921, 'ohmyg': 5922, 'ohmygod': 5923, 'oi': 5924, 'oil': 5925, 'oily': 5926, 'oitnb': 5927, 'ok': 5928, 'okay': 5929, 'okay-ish': 5930, 'okayy': 5931, 'okayyy': 5932, 'okie': 5933, 'okkay': 5934, 'okok': 5935, 'ol': 5936, 'old': 5937, \"old's\": 5938, 'old-porridge': 5939, 'older': 5940, 'oldie': 5941, 'oldschool': 5942, 'ole': 5943, 'oley': 5944, 'olive': 5945, 'olivia': 5946, 'oliviafowles': 5947, 'olly': 5948, 'olur': 5949, 'olympic': 5950, 'om': 5951, 'omar': 5952, 'omaygad': 5953, 'omegle': 5954, 'omfg': 5955, 'omg': 5956, 'omgg': 5957, 'omggg': 5958, 'on-board': 5959, 'on-pack': 5960, 'onair': 5961, 'one': 5962, 'onion': 5963, 'onkey': 5964, 'online': 5965, 'onscreen': 5966, 'ontheroadagain': 5967, 'onting': 5968, 'onto': 5969, 'onwards': 5970, 'onyu': 5971, 'oo': 5972, 'ooh': 5973, 'oomf': 5974, 'ooohh': 5975, 'ooooh': 5976, 'ooops': 5977, 'ooouch': 5978, 'oops': 5979, 'ooze': 5980, 'op': 5981, 'open': 5982, 'opener': 5983, 'openfollow': 5984, 'opening': 5985, 'operator': 5986, 'opi': 5987, 'opinion': 5988, 'opixer': 5989, 'opossum': 5990, 'oppa': 5991, 'oppayaa': 5992, 'opportune': 5993, 'opportunity': 5994, 'oppose': 5995, 'opposite': 5996, 'oppressed': 5997, 'opt': 5998, 'opt-outed': 5999, 'optimisation': 6000, 'optimize': 6001, 'option': 6002, 'oracle': 6003, 'oralsex': 6004, 'orang': 6005, 'orange': 6006, 'orayt': 6007, 'orcalove': 6008, 'orchard': 6009, 'orchestra': 6010, 'order': 6011, 'ordinary': 6012, 'ore': 6013, 'oreo': 6014, 'organic': 6015, 'organisation': 6016, 'organization': 6017, 'orgasm': 6018, 'orhan': 6019, 'orig': 6020, 'origin': 6021, 'original': 6022, 'originally': 6023, 'originate': 6024, 'orleans': 6025, 'orphan': 6026, 'orz': 6027, 'os': 6028, 'oscar': 6029, 'osea': 6030, 'oshieer': 6031, 'osteopath': 6032, 'otamendi': 6033, 'otani': 6034, 'oth': 6035, 'others': 6036, 'otherwise': 6037, 'otl': 6038, 'otp': 6039, \"otp's\": 6040, 'otter': 6041, 'otw': 6042, 'otwol': 6043, 'otwolgrandtrailer': 6044, 'ou': 6045, 'ouat': 6046, 'ouch': 6047, 'ought': 6048, 'ouh': 6049, 'ourdaughtersourpride': 6050, 'ourdisneyinfinity': 6051, 'outboarding': 6052, 'outdated': 6053, 'outdoor': 6054, 'outfit': 6055, 'outfwith': 6056, 'outie': 6057, 'outlive': 6058, 'outlying': 6059, 'outnumber': 6060, 'outraged': 6061, 'outside': 6062, 'outstanding': 6063, 'outta': 6064, 'outtake': 6065, 'ouucchhh': 6066, 'ov': 6067, 'oval': 6068, 'oven': 6069, 'overcast': 6070, 'overdraw': 6071, 'overdue': 6072, 'overgeneralization': 6073, 'overload': 6074, 'overly': 6075, 'overnight': 6076, 'overweight': 6077, 'overwhelming': 6078, 'overwhelmingly': 6079, 'ovh': 6080, 'owe': 6081, 'owl': 6082, 'owly': 6083, 'own': 6084, 'owner': 6085, 'owww': 6086, 'p': 6087, 'p2': 6088, 'p90': 6089, 'p90x': 6090, 'pa': 6091, 'pa-copy': 6092, 'paalam': 6093, 'pabebe': 6094, 'pabebegirls': 6095, 'pack': 6096, 'package': 6097, 'packing': 6098, 'pad': 6099, 'paddock': 6100, 'page': 6101, 'pain': 6102, 'paindo': 6103, 'painful': 6104, 'paint': 6105, 'painting': 6106, 'pair': 6107, 'pairing': 6108, 'pak': 6109, 'pake': 6110, 'pakighinabi': 6111, 'pakistan': 6112, 'pakistani': 6113, 'pal': 6114, 'pala': 6115, 'palace': 6116, 'pale': 6117, 'palembang': 6118, 'pallavi': 6119, 'pamer': 6120, 'pampanga': 6121, 'pamper': 6122, 'pamuk': 6123, 'panas': 6124, 'pancake': 6125, 'panda': 6126, 'pandimensional': 6127, 'pandora': 6128, 'panel': 6129, 'panem': 6130, 'panga': 6131, 'panic': 6132, 'pano': 6133, 'pant': 6134, 'panty': 6135, 'papa': 6136, 'paper': 6137, 'paperboy': 6138, 'papertown': 6139, \"paperwhite's\": 6140, 'para': 6141, 'parade': 6142, 'paradise': 6143, 'paralysis': 6144, 'paralyze': 6145, 'paramedic': 6146, 'parasyte': 6147, 'parcel': 6148, 'pardon': 6149, 'parent': 6150, 'parijat': 6151, 'paris': 6152, 'parisa': 6153, 'park': 6154, 'parkshare': 6155, 'parrot': 6156, 'part': 6157, 'participate': 6158, 'particular': 6159, 'particularly': 6160, 'parting': 6161, 'partly': 6162, 'partner': 6163, 'party': 6164, \"party's\": 6165, 'pas': 6166, 'pass': 6167, 'passing': 6168, 'passport': 6169, 'password': 6170, 'past': 6171, 'paste': 6172, 'patch': 6173, 'path': 6174, 'pathor': 6175, 'pathway': 6176, 'patience': 6177, 'patient': 6178, 'patiently': 6179, 'patml': 6180, 'patrice': 6181, 'patriotism': 6182, 'patron': 6183, 'pattern': 6184, 'patty': 6185, 'paul': 6186, 'pauline': 6187, 'pause': 6188, 'pausetime': 6189, 'paw': 6190, 'pay': 6191, 'payment': 6192, 'payne': 6193, 'paypal': 6194, 'pb.contestants': 6195, 'pbb': 6196, 'pbevent': 6197, 'pbr': 6198, 'pc': 6199, 'pcb': 6200, 'pchelok': 6201, 'pd': 6202, 'pdf': 6203, 'pe': 6204, 'pea': 6205, 'peace': 6206, 'peaceful': 6207, 'peacefully': 6208, 'peachyloans': 6209, 'peak': 6210, 'peanut': 6211, 'pearl': 6212, 'pearson': 6213, 'peasant': 6214, 'pebble': 6215, 'pech': 6216, 'pedal': 6217, 'pedant': 6218, 'pee': 6219, 'peek': 6220, 'peel': 6221, 'peep': 6222, 'pefumery': 6223, 'pegea': 6224, 'pegell': 6225, 'pehly': 6226, 'pen': 6227, 'penacova': 6228, 'penis': 6229, 'penny': 6230, 'penrith': 6231, 'pension': 6232, 'penthouse': 6233, 'penyfan': 6234, 'people': 6235, \"people's\": 6236, 'pepper': 6237, 'pepsi': 6238, 'per': 6239, 'percentage': 6240, 'peregrine': 6241, 'perf': 6242, 'perfect': 6243, 'perfection': 6244, 'perfectly': 6245, 'perform': 6246, 'performance': 6247, 'perfume': 6248, 'perhaps': 6249, 'period': 6250, 'periscope': 6251, 'permission': 6252, 'pero': 6253, 'person': 6254, 'persona': 6255, 'personal': 6256, 'personalise': 6257, 'personality': 6258, 'perspective': 6259, 'persuade': 6260, 'peru': 6261, 'pervert': 6262, 'pesaro': 6263, 'peso': 6264, 'pet': 6265, 'petaling': 6266, 'pete': 6267, 'peter': 6268, 'petite': 6269, 'petjam': 6270, 'petra': 6271, 'petrol': 6272, 'peyton': 6273, 'pfb': 6274, 'pfff': 6275, 'pfft': 6276, 'pglcsgo': 6277, 'pgs': 6278, 'ph': 6279, 'phandroid': 6280, 'phantasy': 6281, 'pharma': 6282, 'phase': 6283, 'phela': 6284, 'phenomenal': 6285, 'phil': 6286, 'phileas': 6287, 'philippa': 6288, 'philippine': 6289, 'philly': 6290, 'philosophical': 6291, 'phir': 6292, 'phl': 6293, \"phoebe's\": 6294, 'phone': 6295, 'phonegraphs': 6296, 'phonesex': 6297, 'photo': 6298, 'photocards': 6299, 'photograph': 6300, 'photographer': 6301, 'photooftheday': 6302, 'photoset': 6303, 'photoshooot': 6304, 'photoshoot': 6305, 'photoshop': 6306, 'php': 6307, \"php's\": 6308, 'phrase': 6309, 'phulani': 6310, 'physic': 6311, 'physical': 6312, 'physically': 6313, 'physiotherapy': 6314, 'physique': 6315, 'pi': 6316, 'piano': 6317, 'pic': 6318, 'pic.twitter.com/jxz2lbv6o': 6319, 'pick': 6320, 'picking': 6321, 'picky': 6322, 'picnic': 6323, 'picts': 6324, 'picture': 6325, 'pie': 6326, 'piece': 6327, 'pier': 6328, 'pierce': 6329, 'pierojogger': 6330, 'pig': 6331, 'pigeon': 6332, 'piggin': 6333, 'pijjabłka': 6334, 'pikami': 6335, 'pile': 6336, 'pill': 6337, 'pillar': 6338, 'pilllow': 6339, 'pin': 6340, 'pining': 6341, 'pink': 6342, 'pinkeu': 6343, 'pinkfinite': 6344, 'pinya': 6345, 'pip': 6346, 'pipe': 6347, 'pippa': 6348, 'pirouette': 6349, 'pish': 6350, 'piss': 6351, 'pistol': 6352, 'pit': 6353, 'pitbull': 6354, 'pitchwars': 6355, 'pitmantraining': 6356, 'pity': 6357, \"pixar's\": 6358, 'pixelated': 6359, 'pixels': 6360, 'pixgram': 6361, 'pizza': 6362, 'pjs': 6363, 'pkwalasawaal': 6364, 'place': 6365, 'plague': 6366, 'plain': 6367, 'plan': 6368, 'plane': 6369, 'planet': 6370, 'planner': 6371, 'planning': 6372, 'plant': 6373, 'plaster': 6374, 'platonic': 6375, 'play': 6376, 'playables': 6377, 'player': 6378, 'playin': 6379, 'playing': 6380, 'playlist': 6381, 'playstation': 6382, 'plea': 6383, 'pleaaase': 6384, 'pleasant': 6385, 'pleasanton': 6386, 'please': 6387, 'pleased': 6388, 'pleaseee': 6389, 'pleasse': 6390, 'pleasure': 6391, 'pledge': 6392, 'plezzz': 6393, 'pliss': 6394, 'plisss': 6395, 'pll': 6396, 'plot': 6397, 'pls': 6398, 'plss': 6399, 'plsss': 6400, 'pluckersss': 6401, 'plug': 6402, 'plug.dj': 6403, 'plugin': 6404, 'plus': 6405, 'plush': 6406, 'plusmiles': 6407, 'ply': 6408, 'plz': 6409, 'pm': 6410, 'po': 6411, 'poc': 6412, 'pocket': 6413, 'pod': 6414, 'poem': 6415, 'poetry': 6416, 'point': 6417, 'poison': 6418, 'poisoning': 6419, 'pokemon': 6420, 'polaroid': 6421, 'poldi': 6422, 'police': 6423, 'polish': 6424, 'polite': 6425, 'political': 6426, 'politician': 6427, 'politics': 6428, 'polka': 6429, 'pollution': 6430, 'pon': 6431, 'pong': 6432, 'pony': 6433, 'pool': 6434, 'pooo': 6435, 'poootek': 6436, 'poop': 6437, 'poopie': 6438, 'poor': 6439, 'poorly': 6440, 'pop': 6441, 'popcorn': 6442, 'popol': 6443, 'poppin': 6444, 'popsicle': 6445, 'popular': 6446, 'popularity': 6447, 'por': 6448, 'pora': 6449, 'porch': 6450, 'porn': 6451, 'porno': 6452, 'porosh': 6453, 'porsche': 6454, 'porschesupercup': 6455, 'portrait': 6456, 'portsmouth': 6457, 'portugal': 6458, 'pose': 6459, 'posey': 6460, 'positive': 6461, 'possible': 6462, 'possibly': 6463, 'possitve': 6464, 'post': 6465, 'postcode': 6466, 'postie': 6467, 'postive': 6468, 'postpone': 6469, 'pot': 6470, 'potager': 6471, 'potato': 6472, 'potentially': 6473, 'pothole': 6474, 'potter': 6475, 'pou': 6476, 'pounce': 6477, 'pour': 6478, 'pouring': 6479, 'pout': 6480, 'povertyyouareevil': 6481, 'powder': 6482, 'power': 6483, 'powerful': 6484, 'powerpoint': 6485, 'powys': 6486, 'ppl': 6487, 'pr': 6488, 'practice': 6489, 'practicing': 6490, 'prada': 6491, 'pramis': 6492, 'pray': 6493, 'prayer': 6494, 'pre': 6495, 'pre-holiday': 6496, 'pre-ordered': 6497, 'pre-season': 6498, 'precious': 6499, 'predict': 6500, 'prefer': 6501, 'preferred': 6502, 'preform': 6503, 'pregnancy': 6504, 'pregnant': 6505, 'prelim': 6506, 'premiere': 6507, 'premiostumundo': 6508, 'premiun': 6509, 'preorder': 6510, 'prepare': 6511, 'prepay': 6512, 'prescott': 6513, 'prescription': 6514, 'present': 6515, 'presentation': 6516, 'president': 6517, 'press': 6518, 'pressrelease': 6519, 'pressure': 6520, 'pret': 6521, 'pretend': 6522, 'pretoria': 6523, 'pretty': 6524, 'pretzel': 6525, 'prevalent': 6526, 'preview': 6527, 'previous': 6528, 'prexy': 6529, 'prey': 6530, 'pri': 6531, 'price': 6532, 'pricelessantique': 6533, 'pride': 6534, 'prima': 6535, 'prime': 6536, 'prince': 6537, 'princess': 6538, 'principal': 6539, 'prinsesa': 6540, 'print': 6541, 'printer': 6542, 'printing': 6543, 'prior': 6544, 'priority': 6545, 'pris': 6546, 'prisss': 6547, 'privacy': 6548, 'private': 6549, 'privilege': 6550, 'prize': 6551, 'pro': 6552, 'pro@illamasqua.com': 6553, 'proactive': 6554, 'prob': 6555, 'prob.nice': 6556, 'probably': 6557, 'problem': 6558, 'problematic': 6559, 'problemmm': 6560, 'probs': 6561, 'procedure': 6562, 'process': 6563, 'procrastinate': 6564, 'produce': 6565, 'producer': 6566, 'product': 6567, 'productive': 6568, 'profile': 6569, 'program': 6570, 'programme': 6571, 'progress': 6572, 'progrmr': 6573, 'project': 6574, 'prokabaddi': 6575, 'prolly': 6576, 'promethazine': 6577, 'promise': 6578, 'promo': 6579, 'promos': 6580, 'promote': 6581, 'promoted': 6582, 'promotion': 6583, 'promotional': 6584, 'prompt': 6585, 'pronounce': 6586, 'propa': 6587, 'proper': 6588, 'properly': 6589, 'property': 6590, 'prophet': 6591, 'proposal': 6592, 'propose': 6593, 'propriety': 6594, 'prosecco': 6595, 'protect': 6596, 'protection': 6597, 'protein': 6598, 'proud': 6599, 'proudtobeme': 6600, 'prove': 6601, 'proverb': 6602, 'provide': 6603, 'provoke': 6604, 'prrequest': 6605, 'prydz': 6606, 'ps3': 6607, 'ps4': 6608, 'psychopaths': 6609, 'psygustokita': 6610, 'pta': 6611, 'pti': 6612, 'ptsd': 6613, 'pub': 6614, 'pubcast': 6615, 'pubes': 6616, 'public': 6617, 'publication': 6618, 'publilius': 6619, 'pubs': 6620, 'pud': 6621, 'puddle': 6622, 'puffy': 6623, 'puhon': 6624, 'puke': 6625, 'pull': 6626, 'pump': 6627, 'pumpkin': 6628, 'pun': 6629, 'punt': 6630, 'pup': 6631, 'puppy': 6632, 'purchase': 6633, 'pure': 6634, 'purrthos': 6635, 'purty': 6636, 'push': 6637, 'pusher': 6638, 'pussy': 6639, 'pussycats': 6640, 'put': 6641, 'putovanja': 6642, 'pwrfl': 6643, 'pyaari': 6644, 'pyaaz': 6645, 'pyjama': 6646, 'pz': 6647, 'q': 6648, \"q'don\": 6649, 'qatarday': 6650, 'qih': 6651, 'qt': 6652, 'quacketyquack': 6653, 'quad': 6654, 'qualify': 6655, 'quality': 6656, 'quan': 6657, 'quantum': 6658, 'que': 6659, 'queen': 6660, 'queenesther': 6661, 'query': 6662, 'question': 6663, 'quetiapine': 6664, 'quezon': 6665, 'qui': 6666, 'quick': 6667, 'quicker': 6668, 'quickly': 6669, 'quiet': 6670, 'quietly': 6671, 'quit': 6672, 'quite': 6673, 'quiz': 6674, 'quote': 6675, 'quuuee': 6676, 'r': 6677, \"r'ships\": 6678, 'r2d2': 6679, 'rabbit': 6680, 'race': 6681, 'rachel': 6682, 'racial': 6683, 'racing': 6684, 'racist': 6685, 'racket': 6686, 'rad': 6687, 'radio': 6688, 'rage': 6689, 'raha': 6690, 'raheel': 6691, 'raid': 6692, 'railway': 6693, 'rain': 6694, 'raincoat': 6695, 'raining': 6696, 'rainy': 6697, 'raise': 6698, 'raiz': 6699, 'rajnigandha': 6700, 'rajud': 6701, 'rakhi': 6702, 'rakna': 6703, 'rakyat': 6704, 'rally': 6705, 'ram': 6706, 'ramadhan': 6707, 'ramd': 6708, 'ramos': 6709, 'ramzan': 6710, 'rancho': 6711, 'rand': 6712, 'random': 6713, 'randomly': 6714, 'randomreboot': 6715, 'randomrestart': 6716, 'randy': 6717, 'range': 6718, 'rank': 6719, 'ranking': 6720, 'rant': 6721, 'rape': 6722, 'rapist': 6723, 'rapper': 6724, 'rappings': 6725, 'rapunzel': 6726, 'rare': 6727, 'rarely': 6728, 'rash': 6729, 'rashmi': 6730, 'raspberry': 6731, 'rat': 6732, 'rata': 6733, 'ratbaglater': 6734, 'rate': 6735, 'rather': 6736, 'rattle': 6737, 'ravage': 6738, 'rave': 6739, 'raven': 6740, 'raw': 6741, 'ray': 6742, \"ray's\": 6743, 'razi': 6744, 'razzist': 6745, 'rbi': 6746, 'rdd': 6747, 're-cap': 6748, 're-watch': 6749, 'reaally': 6750, 'reaaly': 6751, 'reaapearing': 6752, 'reabsorbtion': 6753, 'reach': 6754, 'reachability': 6755, 'reaction': 6756, 'read': 6757, 'reader': 6758, 'reading': 6759, 'readingres': 6760, 'ready': 6761, 'readystock_hijabmart': 6762, 'real': 6763, 'real_liam_payne': 6764, 'realise': 6765, 'realistic': 6766, 'realisticly': 6767, 'realize': 6768, 'really': 6769, 'realoshi': 6770, 'realreviews': 6771, 'rear': 6772, 'rear-ended': 6773, 'reason': 6774, 'reassure': 6775, 'reboarding': 6776, 'recall': 6777, 'receive': 6778, 'recent': 6779, 'recently': 6780, 'receptionist': 6781, 'rechargeable': 6782, 'recieved': 6783, 'recipe': 6784, 'recite': 6785, 'reckon': 6786, 'recommend': 6787, 'recommendation': 6788, 'recommended': 6789, 'record': 6790, 'recover': 6791, 'recruit': 6792, 'recs': 6793, 'red': 6794, 'redecorate': 6795, 'redeem': 6796, 'redhead': 6797, 'redo': 6798, 'reference': 6799, 'refinement': 6800, 'refresh': 6801, 'refreshing': 6802, 'refuel': 6803, 'refurbish': 6804, 'regard': 6805, 'regens': 6806, 'region': 6807, 'regional': 6808, 'regret': 6809, 'regular': 6810, 'regularly': 6811, 'reh': 6812, 'rehash': 6813, 'rehearsal': 6814, 'rehearse': 6815, 'reign': 6816, 'reina': 6817, 'reject': 6818, 'rejection': 6819, 'rela': 6820, 'relate': 6821, 'relationship': 6822, 'relative': 6823, 'relax': 6824, 'relaxed': 6825, 'relaxes': 6826, 'relaxing': 6827, 'release': 6828, 'relentlessly': 6829, 'relevant': 6830, 'relief': 6831, 'reliever': 6832, 'religion': 6833, 'remain': 6834, 'remarriage': 6835, 'remastered': 6836, 'remedy': 6837, 'remember': 6838, 'remind': 6839, 'reminder': 6840, 'remix': 6841, 'remixes': 6842, 'remote': 6843, 'remove': 6844, 'rename': 6845, 'renew': 6846, 'rent': 6847, 'rep': 6848, 'repack': 6849, 'repackage': 6850, 'repacks': 6851, 'repair': 6852, 'repath': 6853, 'repay': 6854, 'repeat': 6855, 'repeatedly': 6856, 'replacement': 6857, 'replay': 6858, 'replenish': 6859, 'replied': 6860, 'reply': 6861, 'report': 6862, 'repost': 6863, 'represent': 6864, 'representative': 6865, 'reputation': 6866, 'reqd': 6867, 'request': 6868, 'required': 6869, 'requirement': 6870, 'rescoops': 6871, 'rescue': 6872, 'research': 6873, 'researcher': 6874, 'reservation': 6875, 'reservations@sandsbeach.eu': 6876, 'reserve': 6877, 'reset': 6878, 'resident': 6879, 'resort': 6880, 'resource': 6881, 'respect': 6882, 'respective': 6883, 'respectlost': 6884, 'respond': 6885, 'response': 6886, 'responsibility': 6887, 'rest': 6888, 'restart': 6889, 'resto': 6890, 'restore': 6891, 'restrict': 6892, 'result': 6893, 'resy': 6894, 'retail': 6895, 'retailer': 6896, 'retainer': 6897, 'retaliate': 6898, 'retard': 6899, 'rettweet': 6900, 'return': 6901, 'retweet': 6902, 'retweeted': 6903, 'retweeting': 6904, 'retweets': 6905, 'reunite': 6906, 'reusful': 6907, 'revamps': 6908, 'reveal': 6909, 'review': 6910, 'reward': 6911, 'rewatched': 6912, 'rewert': 6913, 'reynold': 6914, 'reynoldsgrl': 6915, 'rhd': 6916, 'rhisfor': 6917, 'rhys': 6918, 'rib': 6919, 'rice': 6920, 'rich': 6921, 'richard': 6922, 'rick': 6923, 'ricky_febs': 6924, 'rid': 6925, 'ridden': 6926, 'ride': 6927, 'rider': 6928, 'ridiculous': 6929, 'right': 6930, 'rightnow': 6931, 'rigid': 6932, 'rihanna': 6933, 'ring': 6934, 'rip': 6935, 'ripaaa': 6936, 'ripsandrabland': 6937, 'ripstegi': 6938, 'riptito': 6939, 'riri': 6940, 'rise': 6941, 'risk': 6942, 'risky': 6943, 'rita': 6944, 'rito': 6945, 'ritual': 6946, 'river': 6947, 'rizal': 6948, 'rize': 6949, 'rlly': 6950, 'rly': 6951, 'rlyhurts': 6952, 'rlyyy': 6953, 'rm35': 6954, 'rma': 6955, 'rmtour': 6956, 'rn': 6957, 'road': 6958, 'roadtrip': 6959, 'roar': 6960, 'roast': 6961, 'rob': 6962, 'robe': 6963, 'robert': 6964, \"robert's\": 6965, 'robin': 6966, 'robinhood': 6967, 'robinhoodies': 6968, 'robyn': 6969, 'rock': 6970, 'rocket': 6971, 'rockfishing': 6972, 'rocro': 6973, 'rod': 6974, 'rodders': 6975, 'rodfanta': 6976, 'rodwell': 6977, 'rofl': 6978, 'rogerwatch': 6979, 'rohingya': 6980, 'rohit': 6981, 'role': 6982, 'roll': 6983, 'roller': 6984, 'roma': 6985, 'romance': 6986, 'romantic': 6987, 'romantica': 6988, 'rome': 6989, 'roof': 6990, 'room': 6991, 'roomie': 6992, 'roommate': 6993, 'roommateexperience': 6994, 'root': 6995, 'rosebury': 6996, 'roses': 6997, 'rosh': 6998, 'rosidbinr': 6999, 'ross': 7000, 'rotate': 7001, 'rotation': 7002, 'rotorua': 7003, 'rough': 7004, 'round': 7005, 'route': 7006, 'routine': 7007, 'routte': 7008, 'roux': 7009, 'row': 7010, 'roy': 7011, 'royal': 7012, 'royally': 7013, 'rp': 7014, 'rply': 7015, 'rqst': 7016, 'rrp': 7017, 'rt': 7018, 'rtd': 7019, 'rted': 7020, 'rts': 7021, 'rtss': 7022, 'rub': 7023, 'rubber': 7024, 'rubbish': 7025, 'ruby': 7026, 'rude': 7027, 'rudramadevi': 7028, 'ruin': 7029, 'rule': 7030, 'rumbelle': 7031, 'rumble': 7032, 'rumor': 7033, 'rumpy': 7034, 'run': 7035, 'rundown': 7036, 'runescape': 7037, 'running': 7038, 'runny': 7039, 'rupert': 7040, 'rush': 7041, 'russian': 7042, 'ruth': 7043, 'rxthedailysurveyvotes': 7044, 'ry': 7045, 'ryan': 7046, 'ryu': 7047, \"s'okay\": 7048, 's02e04': 7049, 's2': 7050, 's2e12': 7051, 's4': 7052, 'sa': 7053, 'saaad': 7054, 'saam': 7055, 'saar': 7056, 'sabadodeganarseguidores': 7057, 'sabah': 7058, \"sacconejoly's\": 7059, 'sachin': 7060, 'sad': 7061, 'sadkaay': 7062, 'sadly': 7063, 'sadlyf': 7064, 'sadness': 7065, 'sadomasochist': 7066, 'sadomasochistsparadise': 7067, 'saera': 7068, 'safaa': 7069, 'safe': 7070, 'safer': 7071, 'saffron': 7072, 'sail': 7073, 'sake': 7074, 'sakho': 7075, 'sakin': 7076, 'sakit': 7077, 'saklap': 7078, 'sakura': 7079, 'salabraty': 7080, 'salam': 7081, 'salamat': 7082, 'sale': 7083, 'salmon': 7084, 'salsa': 7085, 'salut': 7086, 'salute': 7087, 'sam': 7088, 'samantha': 7089, 'sambal': 7090, 'sameee': 7091, 'samjha': 7092, 'samosa': 7093, 'sampath': 7094, 'sample': 7095, 'samsung': 7096, 'san': 7097, 'sandae': 7098, 'sandboarding': 7099, 'sandcastle': 7100, 'sandra': 7101, 'sandrabland': 7102, 'sandroforceo': 7103, 'sandwhich': 7104, 'sandwich': 7105, 'sane': 7106, 'santo': 7107, 'santorini': 7108, 'sanum': 7109, 'sanza': 7110, 'saphire': 7111, 'sapiosexual': 7112, 'sara': 7113, 'sarah': 7114, 'sarajevo': 7115, 'saran': 7116, 'sararocs': 7117, 'saras': 7118, 'sarcasm': 7119, 'sasin': 7120, 'sat': 7121, 'sath': 7122, 'satire': 7123, 'satisfied': 7124, 'saturday': 7125, 'satya': 7126, 'satyajit': 7127, 'sauce': 7128, 'sausage': 7129, 'savage': 7130, 'savanna': 7131, 'save': 7132, 'saw': 7133, 'say': 7134, 'sayhername': 7135, 'sazballs': 7136, 'sbali': 7137, 'sbenu': 7138, 'sc': 7139, 'scale': 7140, 'scam': 7141, 'scamper': 7142, 'scan': 7143, 'scar': 7144, 'scared': 7145, 'scarf': 7146, 'scary': 7147, 'scenario': 7148, 'scene': 7149, 'sch': 7150, 'schade': 7151, 'sched': 7152, 'schedule': 7153, \"schedule's\": 7154, 'scheme': 7155, \"scheuermann's\": 7156, 'school': 7157, \"school's\": 7158, 'schoolsoutforsummer': 7159, 'schoolwork': 7160, 'science': 7161, 'scientist': 7162, 'scissors': 7163, 'scold': 7164, 'scone': 7165, 'scope': 7166, 'scorch': 7167, 'score': 7168, 'scotland': 7169, 'scotlandismassive': 7170, 'scottish': 7171, 'scoups': 7172, 'scouser': 7173, 'scout': 7174, 'scream': 7175, 'screencaps': 7176, 'screenshot': 7177, 'screenshots': 7178, 'screenshotting': 7179, 'screw': 7180, 'scroll': 7181, 'scrub': 7182, 'scrummy': 7183, \"sculptor's\": 7184, 'scurri': 7185, 'sd': 7186, 'se': 7187, 'se100leaders': 7188, 'sea': 7189, 'seafood': 7190, 'search': 7191, 'season': 7192, 'seat': 7193, 'seatmates': 7194, 'sebastian': 7195, 'second': 7196, \"second's\": 7197, 'secondary': 7198, 'secret': 7199, 'sect': 7200, 'section': 7201, 'secure': 7202, 'security': 7203, 'sed': 7204, 'see': 7205, 'seed': 7206, 'seehiah': 7207, 'seeker': 7208, 'seekly': 7209, 'seem': 7210, 'segalakatakata': 7211, 'sehun': 7212, 'sel': 7213, 'selamat': 7214, 'selamathariraya': 7215, 'selangor': 7216, 'selection': 7217, 'selektion': 7218, 'selena': 7219, \"selena's\": 7220, 'selenators': 7221, 'self': 7222, 'self-xss': 7223, 'selfie': 7224, 'selfieee': 7225, 'selfies': 7226, 'selfish': 7227, 'selfshot': 7228, 'sell': 7229, 'sellyourcarin': 7230, 'selos': 7231, 'selway': 7232, 'sem': 7233, 'sembuh': 7234, 'semester': 7235, 'semi': 7236, 'semo': 7237, 'send': 7238, 'sending': 7239, 'sends': 7240, 'sengenza': 7241, 'senight': 7242, 'senior': 7243, 'senpai': 7244, 'sense': 7245, 'sensible': 7246, 'sensiesha': 7247, 'sensor': 7248, 'sent': 7249, 'sentir-se': 7250, 'seo': 7251, 'seouljins': 7252, 'separately': 7253, 'sept': 7254, 'september': 7255, 'septum': 7256, 'sequel': 7257, 'serbia': 7258, 'serbian': 7259, 'series': 7260, 'serious': 7261, 'seriously': 7262, 'seriousness': 7263, 'sers': 7264, 'serve': 7265, 'server': 7266, 'service': 7267, 'servicewithasmile': 7268, 'servus': 7269, 'session': 7270, 'set': 7271, 'sethi': 7272, 'setokido': 7273, 'setter': 7274, 'setting': 7275, 'settle': 7276, 'setup': 7277, 'seungchan': 7278, 'seungyeon': 7279, 'seven': 7280, 'several': 7281, 'severe': 7282, 'severely': 7283, 'sew': 7284, 'sex': 7285, 'sexcam': 7286, 'sexchat': 7287, 'sexdate': 7288, 'sexi': 7289, 'sexo': 7290, 'sexual': 7291, 'sexy': 7292, 'sexyamelie': 7293, 'sexygirlbypreciouslemmy': 7294, 'sexyjane': 7295, 'sexyjudy': 7296, 'sexysasunday': 7297, 'sf': 7298, 'sfs': 7299, 'sfvbeta': 7300, 'sg': 7301, 'sg1': 7302, 'shaa': 7303, 'shaaa': 7304, 'shade': 7305, 'shadow': 7306, 'shadowplaylouis': 7307, 'shady': 7308, \"shady's\": 7309, 'shahid': 7310, 'shake': 7311, 'shall': 7312, 'shalwarkameez': 7313, 'sham': 7314, 'shame': 7315, \"shamuon's\": 7316, 'shane': 7317, 'shannon': 7318, 'shanzay': 7319, 'shape': 7320, 'share': 7321, 'sharethelove': 7322, 'shark': 7323, 'sharm': 7324, 'sharp': 7325, 'sharyl': 7326, 'shatter': 7327, 'shaun': 7328, 'shauri': 7329, 'shave': 7330, 'shawn': 7331, 'shawty': 7332, 'shaylan': 7333, \"she'd\": 7334, \"she'll\": 7335, 'shed': 7336, 'shedding': 7337, 'sheen': 7338, 'sheep': 7339, 'sheeps': 7340, 'sheer': 7341, 'sheeran': 7342, 'sheffield': 7343, 'shek': 7344, 'shem': 7345, 'shems': 7346, 'shepherd': 7347, 'sheriff': 7348, 'shes': 7349, 'sheskindahot': 7350, 'shet': 7351, 'shiatsu': 7352, 'shift': 7353, 'shiiit': 7354, 'shiiitt': 7355, 'shin': 7356, 'shinsengumi': 7357, 'shiny': 7358, 'ship': 7359, 'shipper': 7360, 'shipping': 7361, 'shir': 7362, 'shirleycam': 7363, 'shirt': 7364, 'shit': 7365, 'shite': 7366, 'shitfaced': 7367, 'shithouse': 7368, 'shittier': 7369, 'shitty': 7370, 'shiva': 7371, 'shiver': 7372, 'sho': 7373, 'shobs': 7374, 'shock': 7375, 'shoe': 7376, 'shoeshi': 7377, 'shogi': 7378, 'sholong': 7379, 'shoot': 7380, 'shooting': 7381, 'shop': 7382, 'shopping': 7383, 'shor': 7384, 'short': 7385, 'shorter': 7386, 'shorthaired': 7387, 'shortlist': 7388, 'shortly': 7389, 'shoshannavassil': 7390, 'shot': 7391, 'shoulda': 7392, 'shouldeeerr': 7393, 'shoulder': 7394, 'shouldve': 7395, 'shoushitsu': 7396, 'shout': 7397, 'shoutout': 7398, 'shoutouts': 7399, 'show': 7400, 'showbox': 7401, 'shower': 7402, 'showpo': 7403, 'shravan': 7404, 'shropshire': 7405, 'shud': 7406, 'shuffle': 7407, 'shut': 7408, 'shweta': 7409, 'shxbs': 7410, 'shy': 7411, 'si': 7412, 'sia': 7413, 'sialan': 7414, 'sian': 7415, 'siannn': 7416, 'sibuk': 7417, 'sic': 7418, 'sick': 7419, 'siddi': 7420, 'side': 7421, 'sidni': 7422, 'sigeg': 7423, 'sigh': 7424, 'sight': 7425, 'sign': 7426, 'signal': 7427, 'signature': 7428, 'signing': 7429, 'siguro': 7430, 'sikandar': 7431, 'silang': 7432, 'silently': 7433, 'silicon': 7434, 'silly': 7435, 'silverstone': 7436, 'similar': 7437, 'simon': 7438, 'simple': 7439, 'simply': 7440, 'simpson': 7441, 'sims': 7442, 'sin': 7443, 'sinaloa': 7444, 'since': 7445, 'sing': 7446, 'singapore': 7447, 'singer': 7448, 'single': 7449, 'sinhala': 7450, 'sini': 7451, 'sinister': 7452, 'sinse': 7453, 'sinuend': 7454, 'sir': 7455, 'siregar': 7456, 'sirf': 7457, 'sirius': 7458, 'sirkay': 7459, 'sissi': 7460, 'sister': 7461, \"sister's\": 7462, 'sister-in-law': 7463, 'sit': 7464, 'site': 7465, 'sits': 7466, 'situate': 7467, 'situation': 7468, 'six': 7469, 'sizams': 7470, 'size': 7471, 'sizwe': 7472, 'sj': 7473, 'sjkaos': 7474, 'sjw': 7475, 'skate': 7476, 'skeem': 7477, 'skill': 7478, 'skills': 7479, 'skin': 7480, 'skinny': 7481, 'skip': 7482, 'skirt': 7483, 'skoy': 7484, 'skrillah': 7485, 'skulker': 7486, 'sky': 7487, 'skyblock': 7488, 'skye': 7489, 'skyfall': 7490, 'skype': 7491, 'slacke': 7492, 'slacking': 7493, 'slam': 7494, 'slap': 7495, 'slay': 7496, 'sleeep': 7497, 'sleep': 7498, 'sleepdeprived': 7499, 'sleeping': 7500, 'sleepingwithsirens': 7501, 'sleepover': 7502, 'sleeptight': 7503, 'sleepy': 7504, 'slept': 7505, 'slice': 7506, 'slide': 7507, 'slideshow': 7508, 'slightly': 7509, 'slip': 7510, 'slipper': 7511, 'slogan': 7512, 'sloppy': 7513, 'slot': 7514, 'slovak': 7515, \"slovakia's\": 7516, 'slovenia': 7517, 'slow': 7518, 'slowly': 7519, 'slp': 7520, 'slr': 7521, 'sm': 7522, 'small': 7523, 'smart': 7524, 'smashingbook': 7525, 'sme': 7526, 'smell': 7527, 'smelly': 7528, 'smf': 7529, 'smh': 7530, 'smi': 7531, 'smile': 7532, 'smiling': 7533, 'smith': 7534, 'smoak': 7535, 'smoke': 7536, 'smoking': 7537, 'smooth': 7538, 'sms': 7539, 'smthng': 7540, 'smtm': 7541, 'smu': 7542, 'smug': 7543, 'sn16': 7544, 'snake': 7545, 'snap': 7546, 'snapchat': 7547, 'snapchatme': 7548, 'snapme': 7549, 'snark': 7550, 'sneak': 7551, 'sneaker': 7552, 'sneezy': 7553, 'sniff': 7554, 'snit': 7555, 'snob': 7556, 'snobby': 7557, 'snooker': 7558, 'snooze': 7559, 'snot': 7560, 'snow': 7561, 'snpcaht': 7562, 'snsd': 7563, 'snuggle': 7564, 'soak': 7565, 'soamazing': 7566, 'soap': 7567, 'sob': 7568, 'sobrang': 7569, 'sobtian': 7570, 'soccer': 7571, 'socent': 7572, 'social': 7573, 'socialise': 7574, 'socialmedia@dpdgroup.co.uk': 7575, 'socialrewards': 7576, 'sociamedia': 7577, 'society': 7578, 'sock': 7579, 'socket': 7580, \"sod's\": 7581, 'soda': 7582, 'sodders': 7583, 'sofa': 7584, 'soft': 7585, 'softball': 7586, 'software': 7587, 'soggy': 7588, 'sohappyrightnow': 7589, 'soho': 7590, 'solar': 7591, 'solid': 7592, 'soln': 7593, 'solo': 7594, \"soloist's\": 7595, 'solution': 7596, 'solve': 7597, 'solvo': 7598, 'som': 7599, 'somebody': 7600, 'someday': 7601, 'somehow': 7602, 'someone': 7603, \"someone's\": 7604, 'somerset': 7605, 'something': 7606, 'sometime': 7607, 'sometimes': 7608, 'somewhere': 7609, 'somi': 7610, 'son': 7611, \"son's\": 7612, 'sona': 7613, 'sonaaa': 7614, 'sonal': 7615, 'sone': 7616, 'song': 7617, 'sonic': 7618, 'soniii': 7619, 'soo': 7620, 'soobin': 7621, 'soon': 7622, 'soonest': 7623, 'sooo': 7624, 'soooner': 7625, 'soothe': 7626, 'soph': 7627, 'sophie': 7628, 'soprano': 7629, 'sore': 7630, 'sorka': 7631, 'sorna': 7632, 'sorrry': 7633, 'sorrryyy': 7634, 'sorry': 7635, 'sort': 7636, 'sorta': 7637, 'sorting': 7638, 'soshi': 7639, 'sosweet': 7640, 'sotired': 7641, 'sotw': 7642, 'soul': 7643, 'soulful': 7644, 'soulmate': 7645, 'soulsurvivor': 7646, 'sound': 7647, 'soundcheck': 7648, 'soundtrack': 7649, 'soup': 7650, 'sour': 7651, 'source': 7652, 'south': 7653, 'sowwy': 7654, 'sp': 7655, 'space': 7656, 'spacers': 7657, 'spade': 7658, 'spag': 7659, 'spain': 7660, 'spam': 7661, 'spamming': 7662, 'spanish': 7663, 'spanner': 7664, 'spar': 7665, 'spare': 7666, 'sparky': 7667, 'sparse': 7668, 'spazzing': 7669, 'speak': 7670, 'speaker': 7671, 'spec': 7672, 'speced': 7673, 'special': 7674, 'specialise': 7675, 'specialist': 7676, 'specially-marked': 7677, 'specie': 7678, 'specific': 7679, 'speck': 7680, 'speculation': 7681, 'speech': 7682, 'speed': 7683, 'spell': 7684, 'spelling': 7685, 'spend': 7686, 'spent': 7687, 'spiced': 7688, 'spick': 7689, 'spill': 7690, 'spin': 7691, 'spine': 7692, 'spinny': 7693, 'spirit': 7694, 'spiritual': 7695, 'splendid': 7696, 'spm': 7697, 'spoile': 7698, 'sponsor': 7699, 'sponsorship': 7700, 'sport': 7701, 'spot': 7702, \"spot's\": 7703, 'spotify': 7704, 'spray': 7705, 'spread': 7706, 'spree': 7707, 'spring': 7708, 'sprit': 7709, 'sprite': 7710, 'squad': 7711, 'square': 7712, 'squat': 7713, 'squishy': 7714, 'sr': 7715, 'srbija': 7716, 'srijith': 7717, 'srry': 7718, 'srsky': 7719, 'srsly': 7720, 'sry': 7721, 'ss': 7722, 'st': 7723, 'stab': 7724, 'stable': 7725, 'stack': 7726, 'stackare': 7727, 'stadium': 7728, 'staff': 7729, 'stafford': 7730, 'stage': 7731, 'stair': 7732, 'stalk': 7733, 'stalker': 7734, 'stamen': 7735, 'stan': 7736, 'stand': 7737, 'standard': 7738, 'standby': 7739, \"standen's\": 7740, 'standing': 7741, 'standrews': 7742, 'standwdik': 7743, 'stans': 7744, 'star': 7745, 'starbucks': 7746, 'stargate': 7747, 'starholicxx': 7748, 'stark': 7749, 'starsquad': 7750, 'start': 7751, 'starter': 7752, 'startup': 7753, 'startupph': 7754, 'starve': 7755, 'starving': 7756, 'starwars': 7757, 'stash': 7758, 'state': 7759, 'statement': 7760, 'station': 7761, 'stationary': 7762, 'stationery': 7763, 'stats': 7764, 'stay': 7765, 'stay_blessed': 7766, 'stayfresh': 7767, 'steak': 7768, 'steal': 7769, 'stealth': 7770, 'steam': 7771, 'steel': 7772, 'steelbook': 7773, 'stefanie': 7774, 'stella': 7775, 'stem': 7776, 'step': 7777, 'steph': 7778, 'stephanie': 7779, 'stephen': 7780, 'stereo': 7781, \"sterling's\": 7782, 'steroid': 7783, 'stetson': 7784, 'steve': 7785, 'steven': 7786, 'stexpert': 7787, 'sth': 7788, 'stick': 7789, 'sticker': 7790, 'stiff': 7791, 'stiffening': 7792, 'still': 7793, 'sting': 7794, 'stock': 7795, 'stockholm': 7796, 'stocko': 7797, 'stoke': 7798, 'stole': 7799, 'stomach': 7800, \"stomach's\": 7801, 'stomachache': 7802, 'stomping': 7803, 'stone': 7804, 'stool': 7805, 'stooop': 7806, 'stop': 7807, 'store': 7808, 'storify': 7809, 'storm': 7810, 'story': 7811, 'story.miss': 7812, 'straight': 7813, 'strange': 7814, 'strangely': 7815, 'strap': 7816, 'strapline': 7817, 'straw': 7818, 'strawberry': 7819, 'streak': 7820, 'stream': 7821, 'streamer': 7822, 'streaming': 7823, 'street': 7824, 'strength': 7825, 'stress': 7826, 'stressful': 7827, 'stretch': 7828, 'strike': 7829, 'striker': 7830, 'striking': 7831, 'strip': 7832, 'stripe': 7833, 'stroke': 7834, 'strong': 7835, 'strucked': 7836, 'structure': 7837, 'structured': 7838, 'struggle': 7839, 'stu': 7840, 'stuart': 7841, 'stuck': 7842, 'stud': 7843, 'student': 7844, 'studio': 7845, 'study': 7846, 'stuff': 7847, 'stumble': 7848, 'stun': 7849, 'stunning': 7850, 'stupid': 7851, 'sturdy': 7852, 'style': 7853, 'stylish': 7854, 'suan': 7855, 'suave': 7856, 'suay': 7857, 'sub': 7858, 'subcontinent': 7859, 'subdivision': 7860, 'subgames': 7861, 'subj': 7862, 'subject': 7863, 'subjective': 7864, 'subliminal': 7865, 'submission': 7866, 'submit': 7867, 'subs': 7868, 'subscriber': 7869, 'subserver': 7870, 'subsidized': 7871, 'subsidy': 7872, 'subtitle': 7873, 'subway': 7874, 'succeed': 7875, 'success': 7876, 'successful': 7877, 'suck': 7878, 'suckmejimin': 7879, 'sucky': 7880, 'sudden': 7881, 'sue': 7882, 'suede': 7883, 'suffer': 7884, 'sufferer': 7885, 'suffering': 7886, 'sugar': 7887, 'sugarrush': 7888, 'suger': 7889, 'suggest': 7890, 'suggestion': 7891, 'suicide': 7892, 'suit': 7893, 'suitable': 7894, 'suitcase': 7895, 'suite': 7896, 'suk': 7897, 'suks': 7898, 'sulk': 7899, 'sulli': 7900, 'sum': 7901, 'suma': 7902, 'sumedh': 7903, 'sumer': 7904, 'summer': 7905, 'summerismissing': 7906, 'summertime': 7907, 'summoner': 7908, 'sun': 7909, 'sunburn': 7910, 'sunburnt': 7911, 'sunday': 7912, 'sunflower': 7913, 'sunggyu': 7914, 'sunglasses': 7915, 'sunjam': 7916, 'sunnah': 7917, 'sunnies': 7918, 'sunny': 7919, \"sunny's\": 7920, 'sunnyday': 7921, 'sunrise': 7922, 'sunshine': 7923, 'sunway': 7924, 'supa': 7925, 'super': 7926, 'super-blend': 7927, 'superb': 7928, 'supercars': 7929, 'superday': 7930, 'superdry': 7931, 'superjunior': 7932, 'supernatural': 7933, 'superpower': 7934, 'supersmash': 7935, 'supersport': 7936, 'superstar': 7937, 'support': 7938, 'supporting': 7939, 'supportive': 7940, 'suppose': 7941, 'supprt': 7942, 'supreme': 7943, 'suprised': 7944, 'surajettan': 7945, 'sure': 7946, 'surely': 7947, 'surf': 7948, 'surgery': 7949, 'suriya': 7950, 'surprise': 7951, 'surprised': 7952, 'surprising': 7953, 'surreal': 7954, 'surrender': 7955, 'surrey': 7956, 'surry': 7957, 'survey': 7958, 'survival': 7959, 'survive': 7960, 'sushi': 7961, 'suspect': 7962, 'suspemsion': 7963, 'suspend': 7964, 'suuuper': 7965, 'sux': 7966, 'suzy': 7967, 'swag': 7968, 'swallow': 7969, 'swan': 7970, 'swap': 7971, 'swasa': 7972, 'swear': 7973, 'swearword': 7974, 'sweat': 7975, 'sweater': 7976, 'sweating': 7977, 'sweatpants': 7978, 'sweden': 7979, 'sweedy': 7980, 'sweeety': 7981, 'sweet': 7982, 'sweetan': 7983, 'sweetbj': 7984, 'sweetheart': 7985, 'sweetie': 7986, 'sweety': 7987, 'swell': 7988, 'swerve': 7989, 'swift': 7990, 'swifties': 7991, 'swim': 7992, 'swimming': 7993, 'swipe': 7994, 'swishers': 7995, 'switch': 7996, 'switzerland': 7997, 'sws': 7998, 'swt': 7999, 'sxrew': 8000, 'syawal': 8001, 'sydney': 8002, 'sympathis': 8003, 'sympathy': 8004, 'symphony': 8005, 'sync': 8006, 'syndrome': 8007, 'syria': 8008, 'syrup': 8009, 'syrus': 8010, 'system': 8011, \"t'existes\": 8012, \"t'was\": 8013, 't-shirt': 8014, 't20': 8015, 't20blast': 8016, 't___t': 8017, 't_t': 8018, 'ta': 8019, 'taal': 8020, 'tab': 8021, 'table': 8022, 'tack': 8023, 'tacky': 8024, 'taco': 8025, 'tae': 8026, 'taems': 8027, \"taeyeon's\": 8028, 'taft': 8029, 'tag': 8030, 'tagal': 8031, 'tagsforlikes': 8032, 'tagsforlikesapp': 8033, 'tail': 8034, 'taissa': 8035, 'tak': 8036, 'take': 8037, 'takeaway': 8038, 'takeover': 8039, 'takesonetoknowone': 8040, 'takfaham': 8041, 'taknottem': 8042, 'takoyaki': 8043, 'takraw': 8044, 'talaga': 8045, 'talanted': 8046, 'talent': 8047, 'talented': 8048, 'talk': 8049, 'talk-kama': 8050, 'talkback': 8051, 'tall': 8052, 'tama': 8053, 'tamang': 8054, 'tame': 8055, 'tameside': 8056, 'tammirossm': 8057, 'tams': 8058, 'tan': 8059, 'tango': 8060, 'tanisha': 8061, 'tank': 8062, 'tanned': 8063, 'tara': 8064, 'taray': 8065, 'tard': 8066, 'target': 8067, 'tarryn': 8068, 'task': 8069, 'taste': 8070, 'tasteless': 8071, 'tasty': 8072, 'tat': 8073, 'tato': 8074, 'tattoo': 8075, 'tau': 8076, 'taunton': 8077, 'tax': 8078, 'taxi': 8079, 'taxikitchen': 8080, 'taxonomic': 8081, 'tay': 8082, 'taybigail': 8083, 'taylor': 8084, 'tayo': 8085, 'tb': 8086, 'tbc': 8087, 'tbf': 8088, 'tbh': 8089, 'tbt': 8090, 'tc': 8091, 'tdc': 8092, 'tdif': 8093, 'tdy': 8094, 'te': 8095, 'tea': 8096, 'teach': 8097, 'teacher': 8098, 'teal': 8099, 'team': 8100, \"team's\": 8101, 'teamadmicro': 8102, 'teamfollowback': 8103, 'teamjanuaryclaims': 8104, 'teamnatural': 8105, 'teampositive': 8106, 'teamred': 8107, 'teamzipal': 8108, 'tear': 8109, 'tearout': 8110, 'tease': 8111, 'teaser': 8112, 'tebrik': 8113, 'tech': 8114, 'technique': 8115, 'ted': 8116, \"ted's\": 8117, 'tee': 8118, 'teen': 8119, 'teenage': 8120, 'teenchoice': 8121, 'teenie': 8122, 'teens': 8123, 'teeth': 8124, 'teethe': 8125, 'teh': 8126, 'telat': 8127, 'telecom': 8128, 'teleportation': 8129, 'televoting': 8130, 'tell': 8131, 'tellanoldjokeday': 8132, 'temperature': 8133, 'temporal': 8134, 'tempt': 8135, 'ten': 8136, 'tend': 8137, 'tenerina': 8138, 'tengaman': 8139, 'tengkuaaronshah': 8140, 'tennunb': 8141, 'tension': 8142, 'tent': 8143, 'tentatively': 8144, 'tenyai': 8145, 'terible': 8146, 'term': 8147, 'terrible': 8148, 'terrific': 8149, 'tessnzach': 8150, 'test': 8151, 'testicle': 8152, 'testing': 8153, 'text': 8154, 'texted': 8155, 'texting': 8156, 'tf': 8157, 'tfw': 8158, 'tgif': 8159, 'tgk': 8160, 'tgp': 8161, 'tgv': 8162, 'th': 8163, 'thaaanks': 8164, 'thaaat': 8165, 'thaanks': 8166, 'thailand': 8167, 'thalaivar': 8168, 'thank': 8169, 'thankie': 8170, 'thankies': 8171, 'thanks': 8172, 'thanksss': 8173, 'thankyou': 8174, 'thankyouu': 8175, 'thankyouuu': 8176, 'thanq': 8177, 'thanx': 8178, 'thapelo': 8179, 'tharkness': 8180, \"that's\": 8181, 'thats': 8182, 'thatscold': 8183, 'thatselfiethough': 8184, 'the_madstork': 8185, 'theaccidentalcouple': 8186, 'theater': 8187, 'theatre': 8188, 'thebestangkapuso': 8189, 'thegrandad': 8190, 'thehungergames': 8191, 'thejuiceinthemix': 8192, 'thek': 8193, 'thelock': 8194, 'theme': 8195, 'thencerest': 8196, 'thenting': 8197, 'theo': 8198, 'theocratic': 8199, 'theoper': 8200, 'theory': 8201, 'therapy': 8202, 'there': 8203, \"there're\": 8204, \"there's\": 8205, 'therealgolden': 8206, 'therefore': 8207, 'theres': 8208, 'therese': 8209, 'thermal': 8210, 'thermos': 8211, 'therver': 8212, 'thesims': 8213, 'thesis': 8214, 'thessidew': 8215, \"they'd\": 8216, \"they'll\": 8217, \"they're\": 8218, \"they've\": 8219, 'theyre': 8220, 'thick': 8221, 'thin': 8222, 'thing': 8223, 'thingy': 8224, 'think': 8225, 'thinking': 8226, 'third': 8227, 'thirdwheeling': 8228, 'thirstyyy': 8229, 'thistle': 8230, 'thistlelove': 8231, 'thiz': 8232, 'thks': 8233, 'thnks': 8234, 'thnkyouuu': 8235, 'tho': 8236, 'thoo': 8237, 'thooo': 8238, 'thoracicbridge': 8239, 'thorin': 8240, 'thorpe': 8241, 'thou': 8242, 'though': 8243, 'thought': 8244, 'thoughtseized': 8245, 'thq': 8246, 'thr': 8247, 'thread': 8248, 'threat': 8249, 'threaten': 8250, 'threatens': 8251, 'three': 8252, 'thrice': 8253, 'thrill': 8254, 'thrive': 8255, 'throat': 8256, 'throw': 8257, 'throwback': 8258, 'throwbackfriday': 8259, 'thrown': 8260, 'thru': 8261, 'thtas': 8262, 'thts': 8263, 'thug': 8264, 'thumb': 8265, 'thunderstorm': 8266, 'thur': 8267, 'thurs': 8268, 'thursday': 8269, 'thurston': 8270, 'thusi': 8271, 'thw': 8272, 'thwarting': 8273, 'thx': 8274, \"thát's\": 8275, 'ti5': 8276, 'tick': 8277, 'ticket': 8278, 'tickle': 8279, 'tiddler': 8280, 'tidy': 8281, 'tierd': 8282, 'tight': 8283, 'tiis': 8284, 'til': 8285, 'tile': 8286, 'till': 8287, 'tim': 8288, 'time': 8289, 'timely': 8290, 'timetunnel': 8291, 'timezones': 8292, 'timing': 8293, 'timming': 8294, 'timog': 8295, 'timw': 8296, 'tinder': 8297, 'tine': 8298, 'tiny': 8299, 'tio': 8300, 'tip': 8301, 'tire': 8302, 'tired': 8303, 'tiredashell': 8304, 'tiring': 8305, 'tirth': 8306, 'tissue': 8307, 'titan': 8308, 'titanfall': 8309, 'titas': 8310, 'title': 8311, 'tito': 8312, 'tittheir': 8313, 'tix': 8314, 'tks': 8315, 'tkts': 8316, 'tl': 8317, 'tla': 8318, 'tline': 8319, 'tlists': 8320, 'tmr': 8321, 'tmrw': 8322, 'tmw': 8323, 'tnc': 8324, 'toast': 8325, 'tobi-bro': 8326, 'today': 8327, \"today's\": 8328, 'todayy': 8329, 'todayyy': 8330, 'todos': 8331, 'toe': 8332, 'toffee': 8333, 'together': 8334, 'togheter': 8335, 'tokyo': 8336, 'tolerant': 8337, 'toll': 8338, 'tologooo': 8339, 'tom': 8340, 'tomas': 8341, 'tomato': 8342, 'tombow': 8343, 'tombraider': 8344, 'tomcat': 8345, 'tomhiddleston': 8346, 'tomlinson': 8347, 'tommarow': 8348, 'tommorow': 8349, 'tommy': 8350, 'tomorrow': 8351, \"tomorrow's\": 8352, 'tomorrowland': 8353, 'tompolo': 8354, 'tone': 8355, 'tong': 8356, 'tongue': 8357, 'toni': 8358, 'tonight': 8359, \"tonight's\": 8360, 'tony': 8361, 'tool': 8362, 'tooo': 8363, 'tooth': 8364, 'toothsensitivity': 8365, 'top': 8366, 'topgear': 8367, 'topnewfollowers': 8368, 'topple': 8369, 'toptravelcentar': 8370, 'topwater': 8371, 'toronto': 8372, 'torrentialrain': 8373, 'torture': 8374, 'tory': 8375, 'tose': 8376, 'toss': 8377, 'total': 8378, 'totally': 8379, 'tote': 8380, 'totem': 8381, 'tou': 8382, 'touch': 8383, 'tough': 8384, 'tour': 8385, 'tournament': 8386, 'towards': 8387, 'tower': 8388, 'town': 8389, \"town's\": 8390, 'toxin': 8391, 'toy': 8392, 'tp': 8393, 'trace': 8394, 'tracerequest': 8395, 'track': 8396, 'trade': 8397, 'tradetalk': 8398, 'tradition': 8399, 'traffic': 8400, 'trafficker': 8401, 'trafficking': 8402, 'tragedy': 8403, 'tragic': 8404, 'trail': 8405, 'trailblazerhonors': 8406, 'train': 8407, 'trainer': 8408, 'training': 8409, 'tram': 8410, 'tramline': 8411, 'trance': 8412, 'transcript': 8413, 'transfer': 8414, 'translate': 8415, 'translation': 8416, 'transmission': 8417, 'transparency': 8418, 'trapmusic': 8419, 'trash': 8420, 'travel': 8421, 'traveler': 8422, 'treat': 8423, 'tree': 8424, 'trend': 8425, 'trendy': 8426, 'trespasser': 8427, 'treviso': 8428, 'trial': 8429, 'triangle': 8430, 'triathletes': 8431, 'trick': 8432, 'tricky': 8433, 'tridon': 8434, 'tried': 8435, 'trim': 8436, 'trip': 8437, 'tripathi': 8438, 'tripping': 8439, 'trish': 8440, 'trivia': 8441, 'trmdhesitant': 8442, 'troll': 8443, 'troop': 8444, 'trop': 8445, 'tropic': 8446, 'trouble': 8447, 'trouser': 8448, 'truck': 8449, 'true': 8450, 'truly': 8451, 'trust': 8452, 'truth': 8453, 'truthfulwordsof': 8454, 'try': 8455, 'tryna': 8456, 'tseba': 8457, 'tsktsk': 8458, 'tt.tt': 8459, 'ttctop': 8460, 'tthanks': 8461, 'tub': 8462, 'tube': 8463, 'tud': 8464, 'tuesday': 8465, 'tuitutil': 8466, 'tukutanemombasa': 8467, 'tulane': 8468, 'tum': 8469, 'tumblr': 8470, 'tummy': 8471, 'tumor': 8472, 'tumour': 8473, 'tuna': 8474, 'tunaita': 8475, 'tune': 8476, 'tuned': 8477, 'tunnel': 8478, 'turkey': 8479, 'turkish': 8480, 'turn': 8481, 'turtle': 8482, 'tut': 8483, 'tutorial': 8484, 'tv': 8485, 'tweak': 8486, 'tweenie_fox': 8487, 'tweeps': 8488, 'tweepsmatchout': 8489, 'tweet': 8490, 'tweeties': 8491, 'tweetin': 8492, 'tweeting': 8493, 'tweetland': 8494, 'tweetofthedecade': 8495, 'twelvyy': 8496, 'tweng': 8497, 'twice': 8498, 'twin': 8499, 'twine': 8500, 'twinx': 8501, 'twist': 8502, 'twitch': 8503, 'twitching': 8504, 'twitlonger': 8505, 'twitter': 8506, 'two': 8507, 'twoofs': 8508, 'twurkin': 8509, 'tx': 8510, 'txt': 8511, 'txt_shot': 8512, 'ty': 8513, 'tykkäsin': 8514, 'tyler': 8515, 'typa': 8516, 'type': 8517, 'typical': 8518, 'typically': 8519, 'typo': 8520, 'typos': 8521, 'tyre': 8522, 'u': 8523, \"u'll\": 8524, \"u're\": 8525, \"u've\": 8526, 'u21': 8527, 'uber': 8528, 'ubericecream': 8529, 'ubud': 8530, 'ubusy': 8531, 'ucan': 8532, 'ucas': 8533, 'ucl': 8534, 'ucount': 8535, 'uff': 8536, 'ufff': 8537, 'ug': 8538, 'uggghhh': 8539, 'ugh': 8540, 'ughh': 8541, 'ugly': 8542, 'uh': 8543, 'uhuh': 8544, 'uk': 8545, 'ukiss': 8546, 'ukraine': 8547, 'ulit': 8548, 'ulti': 8549, 'ultimate': 8550, 'ultor': 8551, 'um': 8552, 'umaga': 8553, 'umair': 8554, 'umaru': 8555, 'umboh': 8556, 'umma': 8557, 'ummm': 8558, 'un': 8559, 'unable': 8560, 'unagi': 8561, 'uname': 8562, 'unanswered': 8563, 'unappreciated': 8564, 'unavailable': 8565, 'unblock': 8566, 'uncle': 8567, 'uncountable': 8568, 'uncut': 8569, 'und': 8570, 'undead': 8571, 'undercoverboss': 8572, 'underrated': 8573, 'understand': 8574, 'understandable': 8575, 'understanding': 8576, 'uneventful': 8577, 'unexpect': 8578, 'unexpected': 8579, 'unfair': 8580, 'unfamiliar': 8581, 'unfaved': 8582, 'unfollow': 8583, 'unfollowed': 8584, 'unfollower': 8585, 'unfollowers': 8586, 'unfollowing': 8587, 'unfortunate': 8588, 'unfortunately': 8589, 'unfriend': 8590, 'unhappy': 8591, 'unhealthy': 8592, 'uni': 8593, \"unicef's\": 8594, 'uniform': 8595, 'unimportant': 8596, 'unique': 8597, 'unit': 8598, 'unite': 8599, 'united': 8600, 'university': 8601, 'univesity': 8602, 'unknown': 8603, 'unless': 8604, 'unlike': 8605, 'unlimited': 8606, 'unlisted': 8607, 'unlock': 8608, 'unloved': 8609, 'unluckiest': 8610, 'unlucky': 8611, 'unmarried': 8612, 'unneeded': 8613, 'unnie': 8614, 'unnieee': 8615, 'unparents': 8616, 'unprepared': 8617, 'unreal': 8618, 'unsettled': 8619, 'unstan': 8620, 'unsuccessful': 8621, 'untapped': 8622, 'untouched': 8623, 'untruth': 8624, 'unvarnished': 8625, 'unwind': 8626, 'up.come': 8627, 'up.wt': 8628, 'upcoming': 8629, 'update': 8630, 'updated': 8631, 'upgrade': 8632, 'upload': 8633, 'uploaded': 8634, 'upon': 8635, 'upp': 8636, 'uppe': 8637, 'upper': 8638, 'ups': 8639, 'upset': 8640, 'upsetting': 8641, 'upside': 8642, 'upvotes': 8643, 'ur': 8644, 'ure': 8645, 'urgently': 8646, 'urgh': 8647, 'urghhh': 8648, \"urie's\": 8649, 'url': 8650, 'urquhart': 8651, 'urself': 8652, 'urwelc': 8653, 'us': 8654, 'us-iran': 8655, 'usa': 8656, 'usage': 8657, 'usagi': 8658, 'usah': 8659, 'use': 8660, 'useful': 8661, 'useless': 8662, 'user': 8663, 'username': 8664, 'usual': 8665, 'usually': 8666, 'utc': 8667, 'utd': 8668, 'uts': 8669, 'uu': 8670, 'uuu': 8671, 'uuughhh': 8672, 'uwesiti': 8673, 'uwu': 8674, 'ux': 8675, 'uy': 8676, 'v': 8677, 'v.ball': 8678, 'va': 8679, 'vacant': 8680, 'vacation': 8681, 'vaccine': 8682, 'vagina': 8683, 'vaing': 8684, 'vainglory': 8685, 'vale': 8686, 'valencia': 8687, 'valentine': 8688, 'valls': 8689, 'valuable': 8690, 'value': 8691, 'vam': 8692, 'vampire': 8693, 'van': 8694, 'vandag': 8695, 'vandr': 8696, 'vanilla': 8697, 'vantastic': 8698, 'variety': 8699, 'varsity': 8700, 'vault': 8701, 'vava': 8702, 'vc': 8703, 'veeerry': 8704, 'vega': 8705, 'vegas': 8706, 'vegetable': 8707, 'vegetarian': 8708, 'veggie': 8709, 'vehicle': 8710, 'vein': 8711, 'velvet': 8712, 'venice': 8713, 'venomous': 8714, 'venture': 8715, 'venue': 8716, \"venus's\": 8717, 'ver': 8718, 'verfied': 8719, 'verge': 8720, 'verify': 8721, 'veritably': 8722, 'verity': 8723, \"verity's\": 8724, 'verse': 8725, 'version': 8726, 'vertigo': 8727, 'vet': 8728, 'vex': 8729, 'via': 8730, 'viable': 8731, 'vianey': 8732, 'viathe': 8733, 'viazi': 8734, 'viber': 8735, 'vibrant': 8736, 'vibrate': 8737, 'vic': 8738, 'vicious': 8739, 'vicky': 8740, 'victim': 8741, 'victoria': 8742, 'victoriasecret': 8743, 'victory': 8744, 'vid': 8745, 'vidcon': 8746, 'video': 8747, 'videogames': 8748, 'videographer': 8749, 'videosta': 8750, 'vidic': 8751, 'vids': 8752, 'vietnam': 8753, 'view': 8754, 'viewer': 8755, 'vii': 8756, 'viking': 8757, 'vikk': 8758, 'village': 8759, 'vin': 8760, 'vincent': 8761, 'vine': 8762, 'vinegar': 8763, 'viners': 8764, 'vinny': 8765, 'vinylbear': 8766, 'violence': 8767, 'vip': 8768, 'viparita': 8769, 'virgin': 8770, 'virginity': 8771, 'virtual': 8772, 'visa': 8773, 'vishaya': 8774, 'vishwas': 8775, 'visit': 8776, 'vist': 8777, 'visual': 8778, 'vitamin': 8779, 'viva': 8780, 'vivian': 8781, 'vlog': 8782, 'vocal': 8783, 'vodka': 8784, 'voice': 8785, 'void': 8786, 'volta': 8787, 'volume': 8788, 'volunteer': 8789, 'vomit': 8790, 'vote': 8791, 'votejkt': 8792, 'voting': 8793, 'voucher': 8794, 'vr': 8795, 'vsco': 8796, 'vscocam': 8797, 'vscocousins': 8798, 'vscogood': 8799, 'vscoph': 8800, 'vscophil': 8801, 'vuly': 8802, 'vv': 8803, 'vyapam': 8804, 'w': 8805, 'wa': 8806, 'waa': 8807, 'waaa': 8808, 'waah': 8809, 'wacha': 8810, 'wacky': 8811, 'waduh': 8812, 'wae': 8813, 'waffle': 8814, 'wag': 8815, 'wagga': 8816, 'wah': 8817, 'wahahaah': 8818, 'waifu': 8819, 'wail': 8820, 'wailay': 8821, 'waisted': 8822, 'wait': 8823, 'waiter': 8824, 'waiting': 8825, 'waitting': 8826, 'wake': 8827, 'wakeup': 8828, 'waking': 8829, 'wala': 8830, 'walang': 8831, 'walangmakakapigilsakin': 8832, 'walao': 8833, 'walay': 8834, 'wale': 8835, 'wales': 8836, 'wali': 8837, 'walk': 8838, 'walkersmithway': 8839, 'walkin': 8840, 'wall': 8841, 'wallet': 8842, 'walmart': 8843, 'walnut': 8844, 'wan': 8845, 'wana': 8846, 'wanna': 8847, 'want': 8848, 'wanted': 8849, 'war': 8850, 'wardrobe': 8851, 'warehouse': 8852, 'warfare': 8853, 'warlock': 8854, 'warm': 8855, 'warm-up': 8856, 'warmup': 8857, 'warnaaa': 8858, 'warning': 8859, 'warranty': 8860, 'warrior': 8861, 'warsaw': 8862, 'waseem': 8863, 'wash': 8864, 'washed': 8865, 'wasnt': 8866, 'wasp': 8867, 'waste': 8868, 'wat': 8869, 'watch': 8870, 'watchdog': 8871, 'watched': 8872, 'watching': 8873, 'water': 8874, 'wave': 8875, 'wavy': 8876, 'way': 8877, 'wayanad': 8878, 'wayanadan': 8879, 'wayhh': 8880, 'wayne': 8881, 'waytoliveahappylife': 8882, 'wba': 8883, 'wbu': 8884, 'wd': 8885, \"we'd\": 8886, \"we'll\": 8887, \"we're\": 8888, \"we've\": 8889, 'weak': 8890, 'wealth': 8891, 'weapon': 8892, 'wear': 8893, 'wearig': 8894, 'wearing': 8895, 'weather': 8896, 'weave': 8897, 'web': 8898, 'webcam': 8899, 'webcamsex': 8900, 'website': 8901, 'webtogsawards': 8902, 'webz': 8903, 'wed': 8904, 'wedding': 8905, 'weddingflowers': 8906, 'wednesday': 8907, 'weebly': 8908, 'weed': 8909, 'weeding': 8910, 'week': 8911, 'weekend': 8912, \"weekend's\": 8913, 'weekendofmadness': 8914, 'weekly': 8915, 'weenie': 8916, 'weh': 8917, 'weight': 8918, 'weird': 8919, 'weirddd': 8920, 'welcoma.have': 8921, 'welcome': 8922, 'welcomed': 8923, 'welcometweet': 8924, 'welder': 8925, 'well': 8926, 'wellington': 8927, 'weloveyounamjoon': 8928, 'welsh': 8929, 'weltum': 8930, 'wena': 8931, 'wendy': 8932, 'wentz': 8933, 'werk': 8934, 'wese': 8935, 'wesen': 8936, 'west': 8937, 'westandwithik': 8938, 'wet': 8939, 'wetherspoons': 8940, 'wew': 8941, 'wewanticecream': 8942, 'wft': 8943, 'wgm': 8944, 'wh': 8945, 'whaaat': 8946, 'whack': 8947, 'whahahaha': 8948, 'whammy': 8949, 'whangarei': 8950, \"what's\": 8951, 'what-is-your-fashionality': 8952, 'whatchya': 8953, 'whatever': 8954, 'whatevs': 8955, 'whats': 8956, 'whatsapp': 8957, 'whatsoever': 8958, 'whatthefuck': 8959, 'whattsap': 8960, 'whay': 8961, 'wheeen': 8962, 'wheel': 8963, 'wheelchair': 8964, \"when's\": 8965, 'whenever': 8966, 'whens': 8967, \"where's\": 8968, 'where.do.i.start': 8969, 'whereisthesun': 8970, 'wheres': 8971, 'wherever': 8972, 'whet': 8973, 'whhr': 8974, 'whilst': 8975, 'whimper': 8976, 'whip': 8977, 'whisper': 8978, 'whistle': 8979, 'whit': 8980, 'white': 8981, 'whitey': 8982, 'whn': 8983, 'who': 8984, \"who's\": 8985, 'whole': 8986, 'whomosexual': 8987, 'whoooah': 8988, 'whoop': 8989, 'whose': 8990, 'whsmith': 8991, 'wht': 8992, \"why'd\": 8993, 'whyyy': 8994, 'wi': 8995, 'wicked': 8996, 'wide': 8997, 'widely': 8998, 'wider': 8999, 'wiellys': 9000, 'wife': 9001, 'wiff': 9002, 'wifi': 9003, 'wii': 9004, 'wil': 9005, 'wild': 9006, 'william': 9007, 'willing': 9008, 'willlow': 9009, 'willmissyouparijat': 9010, 'willy': 9011, 'wimbledon': 9012, 'win': 9013, 'winchester': 9014, 'wind': 9015, 'window': 9016, 'windowsphone': 9017, 'wine': 9018, 'winehouse': 9019, 'wing': 9020, 'wingstop': 9021, 'winner': 9022, 'winter': 9023, 'wip': 9024, 'wirh': 9025, 'wisdom': 9026, 'wise': 9027, 'wish': 9028, 'witcher': 9029, 'within': 9030, 'without': 9031, 'witness': 9032, 'wiv': 9033, 'wiw': 9034, 'wi̇ll': 9035, 'wkend': 9036, 'wknd': 9037, 'wkwkw': 9038, 'wlan': 9039, 'wna': 9040, 'wnt': 9041, 'wo': 9042, 'woaah': 9043, 'woah': 9044, 'wobble': 9045, 'wobbly': 9046, 'woe': 9047, 'wohoo': 9048, 'woke': 9049, 'wolf': 9050, 'wolrd': 9051, 'wolverine': 9052, 'womad': 9053, 'woman': 9054, \"women's\": 9055, 'wonder': 9056, 'wonderful': 9057, 'wonderful.great': 9058, 'wonderfuls': 9059, 'wong': 9060, 'wont': 9061, 'wooden': 9062, 'woodford': 9063, 'wooftastic': 9064, 'woohoo': 9065, 'woohyun': 9066, 'wooohooo': 9067, 'woot': 9068, 'word': 9069, 'wordoftheweek': 9070, 'wore': 9071, 'work': 9072, 'worker': 9073, 'workhard': 9074, 'workin': 9075, 'working': 9076, 'working-on-a-tight-schedule': 9077, 'workinprogress': 9078, 'workout': 9079, 'workshop': 9080, 'world': 9081, 'worldwide': 9082, 'worried': 9083, 'worry': 9084, 'worst': 9085, 'worth': 9086, 'worthwhile': 9087, 'worthy': 9088, 'wot': 9089, 'wotw': 9090, 'would': 9091, \"would've\": 9092, 'wouldve': 9093, 'wound': 9094, 'wow': 9095, 'wowww': 9096, 'wowza': 9097, 'woza': 9098, 'wrack': 9099, 'wrap': 9100, 'wreck': 9101, 'wripped': 9102, 'wrist': 9103, 'write': 9104, 'writing': 9105, 'wrocilam': 9106, 'wrong': 9107, 'wru': 9108, 'wsalelove': 9109, 'wsj': 9110, 'wt': 9111, 'wtf': 9112, 'wtfff': 9113, 'wth': 9114, 'wua': 9115, 'wub': 9116, 'wut': 9117, 'wwat': 9118, 'wwe': 9119, 'wwooo': 9120, 'wynter': 9121, 'wz': 9122, 'x': 9123, 'x-ray': 9124, 'x10': 9125, 'x11': 9126, 'x12': 9127, 'x13': 9128, 'x14': 9129, 'x15': 9130, 'x16': 9131, 'x17': 9132, 'x18': 9133, 'x19': 9134, 'x2': 9135, 'x20': 9136, 'x21': 9137, 'x22': 9138, 'x23': 9139, 'x24': 9140, 'x25': 9141, 'x26': 9142, 'x27': 9143, 'x28': 9144, 'x29': 9145, 'x3': 9146, 'x30': 9147, 'x31': 9148, 'x32': 9149, 'x33': 9150, 'x34': 9151, 'x36': 9152, 'x37': 9153, 'x38': 9154, 'x39': 9155, 'x4': 9156, 'x40': 9157, 'x41': 9158, 'x42': 9159, 'x43': 9160, 'x45': 9161, 'x46': 9162, 'x5': 9163, 'x6': 9164, 'x7': 9165, 'x8': 9166, 'x9': 9167, 'xavier': 9168, 'xbox': 9169, 'xboxone': 9170, 'xcylin': 9171, 'xd': 9172, 'xenophobes': 9173, 'xfiles': 9174, 'xi': 9175, 'xiu': 9176, 'xmas': 9177, 'xo': 9178, 'xoxo': 9179, 'xoxoxo': 9180, 'xpax': 9181, 'xpress': 9182, 'xst': 9183, 'xue': 9184, 'xur': 9185, 'xx': 9186, 'xxx': 9187, 'xxxibmchll': 9188, \"y'all\": 9189, \"y'day\": 9190, 'ya': 9191, 'yaa': 9192, 'yaaah': 9193, 'yaaay': 9194, 'yaad': 9195, 'yaadein': 9196, 'yaap': 9197, 'yach': 9198, 'yael': 9199, 'yah': 9200, 'yahoo': 9201, 'yahuda': 9202, 'yako': 9203, 'yall': 9204, 'yan': 9205, 'yang': 9206, 'yapsters': 9207, 'yar': 9208, 'yard': 9209, 'yass': 9210, 'yasss': 9211, 'yasu': 9212, 'yay': 9213, 'yaya': 9214, 'yayayayay': 9215, 'yaytheylookgreat': 9216, 'yayy': 9217, 'yayyy': 9218, 'ye': 9219, 'yea': 9220, 'yeaaah': 9221, 'yeah': 9222, 'yeahh': 9223, 'yeahhh': 9224, 'yeap': 9225, 'year': 9226, \"year's\": 9227, 'yeeaayy': 9228, 'yeeeah': 9229, 'yeeew': 9230, 'yeeeyyy': 9231, 'yeey': 9232, 'yeh': 9233, 'yeheyy': 9234, 'yein': 9235, 'yelaaa': 9236, 'yell': 9237, 'yelling': 9238, 'yello': 9239, 'yellow': 9240, 'yeol': 9241, 'yeols': 9242, 'yep': 9243, 'yepp': 9244, 'yer': 9245, 'yes': 9246, 'yesha': 9247, 'yesss': 9248, 'yester': 9249, 'yesterday': 9250, \"yesterday's\": 9251, 'yet': 9252, 'yey': 9253, 'yeyy': 9254, 'yg': 9255, 'yhm': 9256, 'yhooo': 9257, 'yi': 9258, 'yield': 9259, 'yippee': 9260, 'yippeee': 9261, 'yipppy': 9262, 'yk': 9263, 'ykr': 9264, 'ylona': 9265, 'yna': 9266, 'yo': 9267, 'yodel': 9268, 'yoga': 9269, 'yoghurt': 9270, 'yogurt': 9271, 'yogyakarta': 9272, 'yok': 9273, 'yongbe': 9274, 'yoona': 9275, 'yoot': 9276, 'york': 9277, 'yorkshire': 9278, 'yosh': 9279, 'yots': 9280, \"you's\": 9281, 'you-and': 9282, 'youll': 9283, 'young': 9284, 'youngjae': 9285, 'youngnaturalleaders': 9286, 'youre': 9287, 'yournaturalleaders': 9288, 'yous': 9289, 'youth': 9290, 'youth@bipolaruk.org.uk': 9291, 'youthcelebrate': 9292, 'youtu.be/2_gpctsojkw': 9293, 'youtube': 9294, 'youtuber': 9295, 'youu': 9296, 'youuu': 9297, 'youve': 9298, 'yr': 9299, 'yrs': 9300, 'yt': 9301, 'yu': 9302, 'yujin': 9303, 'yuki': 9304, 'yuki-chan': 9305, 'yulin': 9306, 'yum': 9307, 'yummm': 9308, 'yummmyyy': 9309, 'yummy': 9310, 'yumu-youtuber': 9311, 'yumyum': 9312, 'yun': 9313, 'yuna': 9314, 'yung': 9315, 'yup': 9316, 'yuppiieee': 9317, 'yvette': 9318, 'yūjō-cosplay': 9319, 'z': 9320, 'zac': 9321, 'zach': 9322, \"zach's\": 9323, 'zack': 9324, 'zaine': 9325, 'zamn': 9326, 'zante': 9327, 'zap': 9328, 'zara': 9329, 'zareen': 9330, 'zayn': 9331, 'zayncomebackto': 9332, 'zayniscomingback': 9333, 'zayniscomingbackonjuly': 9334, 'zayns': 9335, 'zayyyn': 9336, 'zaz': 9337, 'zdps': 9338, 'zealand': 9339, 'zehr': 9340, 'zenmate': 9341, 'zephbot': 9342, 'zero': 9343, 'zikra': 9344, 'zipper': 9345, 'zodiac': 9346, 'zoe': 9347, 'zokay': 9348, 'zone': 9349, 'zonzofox': 9350, 'zoo': 9351, 'zoom': 9352, 'zopiclone': 9353, 'zumba': 9354, 'zy': 9355, 'zz': 9356, 'zzz': 9357, 'zzzz': 9358, '{:': 9359, '£': 9360, '¦': 9361, '«': 9362, '°': 9363, '´': 9364, '¿': 9365, 'über': 9366, 'ω': 9367, 'фотосет': 9368, 'العنزي': 9369, 'بندر': 9370, 'تكفى': 9371, 'جمعة_مباركة': 9372, 'دعمم': 9373, 'عن': 9374, 'غردلي': 9375, 'للحياة': 9376, 'للعودة': 9377, 'مطعم_هاشم': 9378, 'एक': 9379, 'धोखा': 9380, 'फिर': 9381, 'ब': 9382, 'बार': 9383, 'सेँ': 9384, 'ཀ': 9385, '–': 9386, '—': 9387, '’': 9388, '“': 9389, '”': 9390, '•': 9391, '…': 9392, '⅛': 9393, '⅞': 9394, '→': 9395, '∗': 9396, '∞': 9397, '∠': 9398, '─': 9399, '┓': 9400, '┗': 9401, '┣': 9402, '┳': 9403, '┻': 9404, '╭': 9405, '╮': 9406, '╯': 9407, '╰': 9408, '╱': 9409, '╲': 9410, '▪': 9411, '★': 9412, '☆': 9413, '☔': 9414, '☕': 9415, '☺': 9416, '♛': 9417, '♡': 9418, '♥': 9419, '♫': 9420, '♬': 9421, '⚡': 9422, '✈': 9423, '✌': 9424, '✔': 9425, '✧': 9426, '✨': 9427, '❤': 9428, '⭐': 9429, '。': 9430, '》': 9431, '」': 9432, '더쇼': 9433, '에이핑크': 9434, '인피니트': 9435, '️': 9436, '️2': 9437, '️bea': 9438, '＠': 9439, 'ｍｅ': 9440, 'ｓｅｅ': 9441, '｡': 9442, '�': 9443, '🇫🇷': 9444, '🌃': 9445, '🌎': 9446, '🌞': 9447, '🌷': 9448, '🌸': 9449, '🍅': 9450, '🍜': 9451, '🍤': 9452, '🍭': 9453, '🍰': 9454, '🍵': 9455, '🍸': 9456, '🍹': 9457, '🎀': 9458, '🎂': 9459, '🎈': 9460, '🎉': 9461, '🎵': 9462, '🐑': 9463, '🐒': 9464, '🐢': 9465, '👆🏻': 9466, '👉': 9467, '👊': 9468, '👊🏻': 9469, '👌': 9470, '👍': 9471, '👑': 9472, '👓': 9473, '👯': 9474, '💃': 9475, '💃🏽': 9476, '💅🏽': 9477, '💋': 9478, '💓': 9479, '💔': 9480, '💕': 9481, '💖': 9482, '💗': 9483, '💘': 9484, '💙': 9485, '💚': 9486, '💛': 9487, '💜': 9488, '💞': 9489, '💟': 9490, '💥': 9491, '💦': 9492, '💪': 9493, '💪🏻': 9494, '💫': 9495, '🔥': 9496, '🗽': 9497, '😀': 9498, '😁': 9499, '😂': 9500, '😃': 9501, '😄': 9502, '😅': 9503, '😆': 9504, '😉': 9505, '😊': 9506, '😌': 9507, '😍': 9508, '😒': 9509, '😓': 9510, '😔': 9511, '😕': 9512, '😘': 9513, '😚': 9514, '😜': 9515, '😞': 9516, '😟': 9517, '😢': 9518, '😤': 9519, '😧': 9520, '😩': 9521, '😪': 9522, '😬': 9523, '😭': 9524, '😴': 9525, '😵': 9526, '🙅': 9527, '🙈': 9528, '🙏🏻': 9529, '🚂': 9530, '🚖': 9531, '🚙': 9532, '\\U000fe196': 9533, '\\U000fe334': 9534}\n"
     ]
    }
   ],
   "source": [
    "# GRADED FUNCTION: build_vocabulary\n",
    "def build_vocabulary(corpus):\n",
    "    '''Function that builds a vocabulary from the given corpus\n",
    "    Input: \n",
    "        - corpus (list): the corpus\n",
    "    Output:\n",
    "        - vocab (dict): Dictionary of all the words in the corpus.\n",
    "                The keys are the words and the values are integers.\n",
    "    '''\n",
    "\n",
    "    # The vocabulary includes special tokens like padding token and token for unknown words\n",
    "    # Keys are words and values are distinct integers (increasing by one from 0)\n",
    "    vocab = {'': 0, '[UNK]': 1} \n",
    "\n",
    "    ### START CODE HERE ###\n",
    "    \n",
    "    unique_word_list = sorted(list(set(word for tweet in corpus for word in tweet)))\n",
    "    \n",
    "    for index, unique_word in enumerate(unique_word_list, start = 2):\n",
    "        vocab[unique_word] = index\n",
    "    \n",
    "#     index_counter = 2\n",
    "#     # For each tweet in the training set\n",
    "#     for tweet in corpus:\n",
    "#         # For each word in the tweet\n",
    "#         for word in tweet:\n",
    "#             # If the word is not in vocabulary yet, add it to vocabulary\n",
    "#             if word not in vocab:\n",
    "#                 vocab[word] = index_counter\n",
    "#                 index_counter += 1\n",
    "    \n",
    "    ### END CODE HERE ###\n",
    "    \n",
    "    return vocab\n",
    "\n",
    "\n",
    "vocab = build_vocabulary(train_x)\n",
    "num_words = len(vocab)\n",
    "\n",
    "print(f\"Vocabulary contains {num_words} words\\n\")\n",
    "print(vocab)"
   ]
  },
  {
   "cell_type": "markdown",
   "id": "2e748f56",
   "metadata": {},
   "source": [
    "The dictionary `Vocab` will look like this:\n",
    "```CPP\n",
    "{'': 0,\n",
    " '[UNK]': 1,\n",
    " 'followfriday': 2,\n",
    " 'top': 3,\n",
    " 'engage': 4,\n",
    " ...\n",
    "```\n",
    "\n",
    "- Each unique word has a unique integer associated with it.\n",
    "- The total number of words in Vocab: 9535"
   ]
  },
  {
   "cell_type": "code",
   "execution_count": 17,
   "id": "afba257d",
   "metadata": {
    "deletable": false,
    "editable": false,
    "tags": []
   },
   "outputs": [
    {
     "name": "stdout",
     "output_type": "stream",
     "text": [
      "\u001b[92m All tests passed\n"
     ]
    }
   ],
   "source": [
    "# Test the build_vocabulary function\n",
    "w1_unittest.test_build_vocabulary(build_vocabulary)"
   ]
  },
  {
   "cell_type": "markdown",
   "id": "7bfa1614",
   "metadata": {},
   "source": [
    "<a name=\"2-3\"></a>\n",
    "### 2.3 - Convert a Tweet to a Tensor\n",
    "\n",
    "Next, you will write a function that will convert each tweet to a tensor (a list of integer IDs representing the processed tweet).\n",
    "- You already transformed each tweet to a list of tokens with the `process_tweet` function in order to make a vocabulary.\n",
    "- Now you will transform the tokens to integers and pad the tensors so they all have equal length.\n",
    "- Note, the returned data type will be a **regular Python `list()`**\n",
    "    - You won't use TensorFlow in this function\n",
    "    - You also won't use a numpy array\n",
    "- For words in the tweet that are not in the vocabulary, set them to the unique ID for the token `[UNK]`.\n",
    "\n",
    "##### Example\n",
    "You had the original tweet:\n",
    "```CPP\n",
    "'@happypuppy, is Maria happy?'\n",
    "```\n",
    "\n",
    "The tweet is already converted into a list of tokens (including only relevant words).\n",
    "```CPP\n",
    "['maria', 'happy']\n",
    "```\n",
    "\n",
    "Now you will convert each word into its unique integer.\n",
    "\n",
    "```CPP\n",
    "[1, 55]\n",
    "```\n",
    "- Notice that the word \"maria\" is not in the vocabulary, so it is assigned the unique integer associated with the `[UNK]` token, because it is considered \"unknown.\"\n",
    "\n",
    "After that, you will pad the tweet with zeros so that all the tweets have the same length.\n",
    "\n",
    "```CPP\n",
    "[1, 56, 0, 0, ... , 0]\n",
    "```"
   ]
  },
  {
   "cell_type": "markdown",
   "id": "ae577b59",
   "metadata": {},
   "source": [
    "First, let's have a look at the length of the processed tweets. You have to look at all tweets in the training and validation set and find the longest one to pad all of them to the maximum length."
   ]
  },
  {
   "cell_type": "code",
   "execution_count": 18,
   "id": "a9cc2e70",
   "metadata": {
    "deletable": false,
    "editable": false,
    "tags": [
     "graded"
    ]
   },
   "outputs": [
    {
     "data": {
      "image/png": "[encoded data removed]",
      "text/plain": [
       "<Figure size 640x480 with 1 Axes>"
      ]
     },
     "metadata": {},
     "output_type": "display_data"
    }
   ],
   "source": [
    "# Tweet lengths\n",
    "plt.hist([len(t) for t in train_x + val_x]);"
   ]
  },
  {
   "cell_type": "markdown",
   "id": "5e1b006c",
   "metadata": {},
   "source": [
    "Now find the length of the longest tweet. Remember to look at the training and the validation set."
   ]
  },
  {
   "cell_type": "markdown",
   "id": "e7bbe5df",
   "metadata": {},
   "source": [
    "<a name=\"ex-2\"></a>\n",
    "### Exercise 2 - max_len\n",
    "Calculate the length of the longest tweet."
   ]
  },
  {
   "cell_type": "code",
   "execution_count": 22,
   "id": "f7078bca",
   "metadata": {
    "deletable": false,
    "tags": [
     "graded"
    ]
   },
   "outputs": [
    {
     "name": "stdout",
     "output_type": "stream",
     "text": [
      "The length of the longest tweet is 51 tokens.\n"
     ]
    }
   ],
   "source": [
    "# GRADED FUNCTION: max_length\n",
    "def max_length(training_x, validation_x):\n",
    "    \"\"\"Computes the length of the longest tweet in the training and validation sets.\n",
    "\n",
    "    Args:\n",
    "        training_x (list): The tweets in the training set.\n",
    "        validation_x (list): The tweets in the validation set.\n",
    "\n",
    "    Returns:\n",
    "        int: Length of the longest tweet.\n",
    "    \"\"\"\n",
    "    ### START CODE HERE ###\n",
    "\n",
    "    max_len = max(len(word) for word in training_x + validation_x)\n",
    "    \n",
    "    ### END CODE HERE ###\n",
    "    return max_len\n",
    "\n",
    "max_len = max_length(train_x, val_x)\n",
    "print(f'The length of the longest tweet is {max_len} tokens.')"
   ]
  },
  {
   "cell_type": "markdown",
   "id": "6cfbce29",
   "metadata": {},
   "source": [
    "Expected output:\n",
    "\n",
    "The length of the longest tweet is 51 tokens."
   ]
  },
  {
   "cell_type": "code",
   "execution_count": 23,
   "id": "a20bd3ee",
   "metadata": {
    "deletable": false,
    "editable": false,
    "tags": []
   },
   "outputs": [
    {
     "name": "stdout",
     "output_type": "stream",
     "text": [
      "\u001b[92m All tests passed\n"
     ]
    }
   ],
   "source": [
    "# Test your max_len function\n",
    "w1_unittest.test_max_length(max_length)"
   ]
  },
  {
   "cell_type": "markdown",
   "id": "34e550c2",
   "metadata": {},
   "source": [
    "<a name=\"ex-3\"></a>\n",
    "### Exercise 3 - padded_sequence\n",
    "Implement `padded_sequence` function to transform sequences of words into padded sequences of numbers. A couple of things to notice:\n",
    "\n",
    "- The term `tensor` is used to refer to the encoded tweet but the function should return a regular python list, not a `tf.tensor`\n",
    "- There is no need to truncate the tweet if it exceeds `max_len` as you already know the maximum length of the tweets beforehand"
   ]
  },
  {
   "cell_type": "code",
   "execution_count": 30,
   "id": "fe6597fa",
   "metadata": {
    "deletable": false,
    "tags": [
     "graded"
    ]
   },
   "outputs": [],
   "source": [
    "# GRADED FUNCTION: padded_sequence\n",
    "def padded_sequence(tweet, vocab_dict, max_len, unk_token='[UNK]'):\n",
    "    \"\"\"transform sequences of words into padded sequences of numbers\n",
    "\n",
    "    Args:\n",
    "        tweet (list): A single tweet encoded as a list of strings.\n",
    "        vocab_dict (dict): Vocabulary.\n",
    "        max_len (int): Length of the longest tweet.\n",
    "        unk_token (str, optional): Unknown token. Defaults to '[UNK]'.\n",
    "\n",
    "    Returns:\n",
    "        list: Padded tweet encoded as a list of int.\n",
    "    \"\"\"\n",
    "    ### START CODE HERE ###\n",
    "    \n",
    "    # Find the ID of the UNK token, to use it when you encounter a new word\n",
    "    unk_ID = vocab_dict[unk_token] \n",
    "    \n",
    "    # First convert the words to integers by looking up the vocab_dict\n",
    "    tokens = [vocab_dict[word] if word in vocab_dict else unk_ID for word in tweet ]\n",
    "\n",
    "    # Then pad the tensor with zeroes up to the length max_len\n",
    "    padded_tensor = tokens + [0] * (max_len - len(tokens))\n",
    "\n",
    "    ### END CODE HERE ###\n",
    "\n",
    "    return padded_tensor"
   ]
  },
  {
   "cell_type": "markdown",
   "id": "3752b8dc",
   "metadata": {},
   "source": [
    "Test the function"
   ]
  },
  {
   "cell_type": "code",
   "execution_count": 32,
   "id": "f8766862",
   "metadata": {
    "deletable": false,
    "editable": false,
    "tags": []
   },
   "outputs": [
    {
     "name": "stdout",
     "output_type": "stream",
     "text": [
      "\u001b[92m All tests passed\n"
     ]
    }
   ],
   "source": [
    "# Test your padded_sequence function\n",
    "w1_unittest.test_padded_sequence(padded_sequence)"
   ]
  },
  {
   "cell_type": "markdown",
   "id": "a4dfd15c",
   "metadata": {},
   "source": [
    "Pad the train and validation dataset"
   ]
  },
  {
   "cell_type": "code",
   "execution_count": 33,
   "id": "38f7fcbd",
   "metadata": {
    "deletable": false,
    "editable": false,
    "tags": [
     "graded"
    ]
   },
   "outputs": [],
   "source": [
    "train_x_padded = [padded_sequence(x, vocab, max_len) for x in train_x]\n",
    "val_x_padded = [padded_sequence(x, vocab, max_len) for x in val_x]"
   ]
  },
  {
   "cell_type": "markdown",
   "id": "6fde3269",
   "metadata": {},
   "source": [
    "<a name=\"3\"></a>\n",
    "## 3 - Define the structure of the neural network layers\n",
    "\n",
    "In this part, you will write your own functions and layers for the neural network to test your understanding of the implementation. It will be similar to the one used in Keras and PyTorch. Writing your own small framework will help you understand how they all work and use them effectively in the future.\n",
    "\n",
    "You will implement the ReLU and sigmoid functions, which you will use as activation functions for the neural network, as well as a fully connected (dense) layer."
   ]
  },
  {
   "cell_type": "markdown",
   "id": "a4809299",
   "metadata": {},
   "source": [
    "<a name=\"3-1\"></a>\n",
    "### 3.1 - ReLU\n",
    "You will now implement the ReLU activation in a function below. The ReLU function looks as follows: \n",
    "<img src = \"images/relu.jpg\" style=\"width:300px;height:150px;\"/>\n",
    "\n",
    "$$ \\mathrm{ReLU}(x) = \\mathrm{max}(0,x) $$\n"
   ]
  },
  {
   "cell_type": "markdown",
   "id": "ca253367",
   "metadata": {},
   "source": [
    "<a name=\"ex-4\"></a>\n",
    "### Exercise 4 - relu\n",
    "**Instructions:** Implement the ReLU activation function below. Your function should take in a matrix or vector and it should transform all the negative numbers into 0 while keeping all the positive numbers intact. \n",
    "\n",
    "Notice you can get the maximum of two numbers by using [np.maximum](https://numpy.org/doc/stable/reference/generated/numpy.maximum.html)."
   ]
  },
  {
   "cell_type": "code",
   "execution_count": 40,
   "id": "f1c365d1",
   "metadata": {
    "deletable": false,
    "tags": [
     "graded"
    ]
   },
   "outputs": [],
   "source": [
    "# GRADED FUNCTION: relu\n",
    "def relu(x):\n",
    "    '''Relu activation function implementation\n",
    "    Input: \n",
    "        - x (numpy array)\n",
    "    Output:\n",
    "        - activation (numpy array): input with negative values set to zero\n",
    "    '''\n",
    "    ### START CODE HERE ###\n",
    "\n",
    "    activation = np.maximum(0, x)\n",
    "\n",
    "    ### END CODE HERE ###\n",
    "\n",
    "    return activation"
   ]
  },
  {
   "cell_type": "code",
   "execution_count": 41,
   "id": "6027ee6e",
   "metadata": {
    "deletable": false,
    "editable": false,
    "tags": [
     "graded"
    ]
   },
   "outputs": [
    {
     "name": "stdout",
     "output_type": "stream",
     "text": [
      "Test data is:\n",
      "[[-2. -1.  0.]\n",
      " [ 0.  1.  2.]]\n",
      "\n",
      "Output of relu is:\n",
      "[[0. 0. 0.]\n",
      " [0. 1. 2.]]\n"
     ]
    }
   ],
   "source": [
    "# Check the output of your function\n",
    "x = np.array([[-2.0, -1.0, 0.0], [0.0, 1.0, 2.0]], dtype=float)\n",
    "print(\"Test data is:\")\n",
    "print(x)\n",
    "print(\"\\nOutput of relu is:\")\n",
    "print(relu(x))"
   ]
  },
  {
   "cell_type": "markdown",
   "id": "f6cb21e3",
   "metadata": {},
   "source": [
    "**Expected Output:**\n",
    "```\n",
    "Test data is:\n",
    "[[-2. -1.  0.]\n",
    " [ 0.  1.  2.]]\n",
    " \n",
    "Output of relu is:\n",
    "[[0. 0. 0.]\n",
    " [0. 1. 2.]]\n",
    "```"
   ]
  },
  {
   "cell_type": "code",
   "execution_count": 43,
   "id": "09460d00",
   "metadata": {
    "deletable": false,
    "editable": false,
    "tags": []
   },
   "outputs": [
    {
     "name": "stdout",
     "output_type": "stream",
     "text": [
      "\u001b[92m All tests passed\n"
     ]
    }
   ],
   "source": [
    "# Test your relu function\n",
    "w1_unittest.test_relu(relu)"
   ]
  },
  {
   "cell_type": "markdown",
   "id": "2bad16e4",
   "metadata": {},
   "source": [
    "<a name=\"3-2\"></a>\n",
    "### 3.2 - Sigmoid\n",
    "You will now implement the sigmoid activation in a function below. The sigmoid function looks as follows: \n",
    "<img src = \"images/sigmoid.jpg\" style=\"width:300px;height:150px;\"/>\n",
    "\n",
    "$$ \\mathrm{sigmoid}(x) = \\frac{1}{1 + e^{-x}} $$\n"
   ]
  },
  {
   "cell_type": "markdown",
   "id": "fa5bbd47",
   "metadata": {},
   "source": [
    "<a name=\"ex-5\"></a>\n",
    "### Exercise 5 - sigmoid\n",
    "**Instructions:** Implement the sigmoid activation function below. Your function should take in a matrix or vector and it should transform all the numbers according to the formula above."
   ]
  },
  {
   "cell_type": "code",
   "execution_count": 44,
   "id": "1d5d3268",
   "metadata": {
    "deletable": false,
    "tags": [
     "graded"
    ]
   },
   "outputs": [],
   "source": [
    "# GRADED FUNCTION: sigmoid\n",
    "def sigmoid(x):\n",
    "    '''Sigmoid activation function implementation\n",
    "    Input: \n",
    "        - x (numpy array)\n",
    "    Output:\n",
    "        - activation (numpy array)\n",
    "    '''\n",
    "    ### START CODE HERE ###\n",
    "\n",
    "    activation = 1 / (1 + np.exp(-x))\n",
    "\n",
    "    ### END CODE HERE ###\n",
    "\n",
    "    return activation    "
   ]
  },
  {
   "cell_type": "code",
   "execution_count": 45,
   "id": "31275d11",
   "metadata": {
    "deletable": false,
    "editable": false,
    "tags": [
     "graded"
    ]
   },
   "outputs": [
    {
     "name": "stdout",
     "output_type": "stream",
     "text": [
      "Test data is:\n",
      "[[-1000.    -1.     0.]\n",
      " [    0.     1.  1000.]]\n",
      "\n",
      "Output of sigmoid is:\n",
      "[[0.         0.26894142 0.5       ]\n",
      " [0.5        0.73105858 1.        ]]\n"
     ]
    }
   ],
   "source": [
    "# Check the output of your function\n",
    "x = np.array([[-1000.0, -1.0, 0.0], [0.0, 1.0, 1000.0]], dtype=float)\n",
    "print(\"Test data is:\")\n",
    "print(x)\n",
    "print(\"\\nOutput of sigmoid is:\")\n",
    "print(sigmoid(x))"
   ]
  },
  {
   "cell_type": "markdown",
   "id": "3df79772",
   "metadata": {},
   "source": [
    "**Expected Output:**\n",
    "```\n",
    "Test data is:\n",
    "[[-1000.    -1.     0.]\n",
    " [    0.     1.  1000.]]\n",
    "\n",
    "Output of sigmoid is:\n",
    "[[0.         0.26894142 0.5       ]\n",
    " [0.5        0.73105858 1.        ]]\n",
    "```"
   ]
  },
  {
   "cell_type": "code",
   "execution_count": 46,
   "id": "87150bd2",
   "metadata": {
    "deletable": false,
    "editable": false,
    "tags": []
   },
   "outputs": [
    {
     "name": "stdout",
     "output_type": "stream",
     "text": [
      "\u001b[92m All tests passed\n"
     ]
    }
   ],
   "source": [
    "# Test your sigmoid function\n",
    "w1_unittest.test_sigmoid(sigmoid)"
   ]
  },
  {
   "cell_type": "markdown",
   "id": "cfd2861b",
   "metadata": {},
   "source": [
    "<a name=\"3.3\"></a>\n",
    "### 3.3 - Dense Class \n",
    "\n",
    "Implement the weight initialization in the `__init__` method.\n",
    "- Weights are initialized with a random key.\n",
    "- The shape of the weights (num_rows, num_cols) should equal the number of columns in the input data (this is in the last column) and the number of units respectively.\n",
    "    - The number of rows in the weight matrix should equal the number of columns in the input data `x`.  Since `x` may have 2 dimensions if it represents a single training example (row, col), or three dimensions (batch_size, row, col), get the last dimension from the tuple that holds the dimensions of x.\n",
    "    - The number of columns in the weight matrix is the number of units chosen for that dense layer.\n",
    "- The values generated should have a mean of 0 and standard deviation of `stdev`.\n",
    "    - To initialize random weights, a random generator is created using `random_generator = np.random.default_rng(seed=random_seed)`. This part is implemented for you. You will use `random_generator.normal(...)` to create your random weights. Check [here](https://numpy.org/doc/stable/reference/random/generator.html) how the random generator works.\n",
    "    - Please don't change the `random_seed`, so that the results are reproducible for testing (and you can be fairly graded).\n",
    "\n",
    "Implement the `forward` function of the Dense class. \n",
    "- The forward function multiplies the input to the layer (`x`) by the weight matrix (`W`)\n",
    "\n",
    "$$\\mathrm{forward}(\\mathbf{x},\\mathbf{W}) = \\mathbf{xW} $$\n",
    "\n",
    "- You can use `numpy.dot` to perform the matrix multiplication."
   ]
  },
  {
   "cell_type": "markdown",
   "id": "2917e87b",
   "metadata": {},
   "source": [
    "<a name=\"ex-6\"></a>\n",
    "### Exercise 6 - Dense\n",
    "\n",
    "Implement the `Dense` class. You might want to check how normal random numbers can be generated with numpy by checking the [docs](https://numpy.org/doc/stable/reference/random/generated/numpy.random.Generator.normal.html#numpy.random.Generator.normal)."
   ]
  },
  {
   "cell_type": "code",
   "execution_count": 49,
   "id": "4ede0912",
   "metadata": {
    "deletable": false,
    "tags": [
     "graded"
    ]
   },
   "outputs": [],
   "source": [
    "# GRADED CLASS: Dense\n",
    "class Dense():\n",
    "    \"\"\"\n",
    "    A dense (fully-connected) layer.\n",
    "    \"\"\"\n",
    "\n",
    "    # Please implement '__init__'\n",
    "    def __init__(self, n_units, input_shape, activation, stdev=0.1, random_seed=42):\n",
    "        \n",
    "        # Set the number of units in this layer\n",
    "        self.n_units = n_units\n",
    "        # Set the random key for initializing weights\n",
    "        self.random_generator = np.random.default_rng(seed=random_seed)\n",
    "        self.activation = activation\n",
    "        \n",
    "        ### START CODE HERE ###\n",
    "\n",
    "        # Generate the weight matrix from a normal distribution and standard deviation of 'stdev'\n",
    "        # Set the size of the matrix w\n",
    "        w = self.random_generator.normal(scale = stdev, size = (input_shape[-1], n_units))\n",
    "        \n",
    "        ### END CODE HERE ##\n",
    "\n",
    "        self.weights = w\n",
    "        \n",
    "\n",
    "    def __call__(self, x):\n",
    "        return self.forward(x)\n",
    "    \n",
    "    \n",
    "    # Please implement 'forward()'\n",
    "    def forward(self, x):\n",
    "        \n",
    "        ### START CODE HERE ###\n",
    "\n",
    "        # Matrix multiply x and the weight matrix\n",
    "        dense = np.dot(x, self.weights)\n",
    "        # Apply the activation function\n",
    "        dense = self.activation(dense)\n",
    "        \n",
    "        ### END CODE HERE ###\n",
    "        return dense"
   ]
  },
  {
   "cell_type": "code",
   "execution_count": 50,
   "id": "5bc10c8b",
   "metadata": {
    "deletable": false,
    "editable": false,
    "tags": [
     "graded"
    ]
   },
   "outputs": [
    {
     "name": "stdout",
     "output_type": "stream",
     "text": [
      "Weights are:\n",
      " [[ 0.03047171 -0.10399841  0.07504512  0.09405647 -0.19510352 -0.13021795\n",
      "   0.01278404 -0.03162426 -0.00168012 -0.08530439]\n",
      " [ 0.0879398   0.07777919  0.00660307  0.11272412  0.04675093 -0.08592925\n",
      "   0.03687508 -0.09588826  0.08784503 -0.00499259]\n",
      " [-0.01848624 -0.06809295  0.12225413 -0.01545295 -0.04283278 -0.03521336\n",
      "   0.05323092  0.03654441  0.04127326  0.0430821 ]]\n",
      "Foward function output is: [[0.21436609 0.         3.25266507 0.59085808 0.         0.\n",
      "  1.61446659 0.17914382 1.64338651 0.87149558]]\n"
     ]
    }
   ],
   "source": [
    "# random_key = np.random.get_prng()  # sets random seed\n",
    "z = np.array([[2.0, 7.0, 25.0]]) # input array\n",
    "\n",
    "# Testing your Dense layer \n",
    "dense_layer = Dense(n_units=10, input_shape=z.shape, activation=relu)  #sets  number of units in dense layer\n",
    "\n",
    "print(\"Weights are:\\n\",dense_layer.weights) #Returns randomly generated weights\n",
    "print(\"Foward function output is:\", dense_layer(z)) # Returns multiplied values of units and weights"
   ]
  },
  {
   "cell_type": "markdown",
   "id": "56055e63",
   "metadata": {},
   "source": [
    "**Expected Output:**\n",
    "```\n",
    "Weights are:\n",
    " [[ 0.03047171 -0.10399841  0.07504512  0.09405647 -0.19510352 -0.13021795\n",
    "   0.01278404 -0.03162426 -0.00168012 -0.08530439]\n",
    " [ 0.0879398   0.07777919  0.00660307  0.11272412  0.04675093 -0.08592925\n",
    "   0.03687508 -0.09588826  0.08784503 -0.00499259]\n",
    " [-0.01848624 -0.06809295  0.12225413 -0.01545295 -0.04283278 -0.03521336\n",
    "   0.05323092  0.03654441  0.04127326  0.0430821 ]]\n",
    "\n",
    "Foward function output is: [[0.21436609 0.         3.25266507 0.59085808 0.         0.\n",
    "  1.61446659 0.17914382 1.64338651 0.87149558]]\n",
    "```"
   ]
  },
  {
   "cell_type": "markdown",
   "id": "88912018",
   "metadata": {},
   "source": [
    "Test the Dense class"
   ]
  },
  {
   "cell_type": "code",
   "execution_count": 52,
   "id": "da1120d5",
   "metadata": {
    "deletable": false,
    "editable": false,
    "tags": []
   },
   "outputs": [
    {
     "name": "stdout",
     "output_type": "stream",
     "text": [
      "\u001b[92m All tests passed\n"
     ]
    }
   ],
   "source": [
    "# Test your Dense class\n",
    "w1_unittest.test_Dense(Dense)"
   ]
  },
  {
   "cell_type": "markdown",
   "id": "0c2d927a",
   "metadata": {},
   "source": [
    "<a name=\"3-4\"></a>\n",
    "### 3.4 - Model\n",
    "\n",
    "Now you will implement a classifier using neural networks. Here is the model architecture you will be implementing. \n",
    "\n",
    "<img src = \"images/nn.jpg\"/>\n",
    "\n",
    "For the model implementation, you will use `TensorFlow` module, imported as `tf`. Your model will consist of layers and activation functions that you implemented above, but you will take them directly from the tensorflow library.\n",
    "\n",
    "You will use the [tf.keras.Sequential](https://www.tensorflow.org/api_docs/python/tf/keras/Sequential) module, which allows you to stack the layers in a sequence as you want them in the model. You will use the following layers:\n",
    "- [tf.keras.layers.Embedding](https://www.tensorflow.org/api_docs/python/tf/keras/layers/Embedding)\n",
    "    - Turns positive integers (word indices) into vectors of fixed size. You can imagine it as creating one-hot vectors out of indices and then running them through a fully-connected (dense) layer.\n",
    "- [tf.keras.layers.GlobalAveragePooling1D](https://www.tensorflow.org/api_docs/python/tf/keras/layers/GlobalAveragePooling1D)\n",
    "- [tf.keras.layers.Dense](https://www.tensorflow.org/api_docs/python/tf/keras/layers/Dense)\n",
    "    - Regular fully connected layer\n",
    "    \n",
    "Please use the `help` function to view documentation for each layer."
   ]
  },
  {
   "cell_type": "code",
   "execution_count": 53,
   "id": "8a5de20b",
   "metadata": {
    "deletable": false,
    "tags": [
     "graded"
    ]
   },
   "outputs": [],
   "source": [
    "# View documentation on how to implement the layers in tf.\n",
    "# help(tf.keras.Sequential)\n",
    "# help(tf.keras.layers.Embedding)\n",
    "# help(tf.keras.layers.GlobalAveragePooling1D)\n",
    "# help(tf.keras.layers.Dense)"
   ]
  },
  {
   "cell_type": "markdown",
   "id": "1a184816",
   "metadata": {},
   "source": [
    "<a name=\"ex-7\"></a>\n",
    "### Exercise 7 - create_model\n",
    "Implement the create_model function. \n",
    "\n",
    "First you need to create the model. The `tf.keras.Sequential` has been implemented for you. Within it you should put the following layers:\n",
    "- `tf.keras.layers.Embedding` with the size `num_words` times `embeding_dim` and the `input_length` set to the length of the input sequences (which is the length of the longest tweet).\n",
    "- `tf.keras.layers.GlobalAveragePooling1D` with no extra parameters.\n",
    "- `tf.keras.layers.Dense` with the size of one (this is your classification output) and `'sigmoid'` activation passed to the  `activation` keyword parameter.\n",
    "Make sure to separate the layers with a comma.\n",
    "\n",
    "Then you need to compile the model. Here you can look at all the parameters you can set when compiling the model:  [tf.keras.Model](https://www.tensorflow.org/api_docs/python/tf/keras/Model). In this notebook, you just need to set the loss to `'binary_crossentropy'` (because you are doing binary classification with a sigmoid function at the output), the optimizer to `'adam'` and the metrics to `'accuracy'` (so that you can track the accuracy on the training and validation sets."
   ]
  },
  {
   "cell_type": "code",
   "execution_count": 62,
   "id": "1f8deb0d",
   "metadata": {
    "deletable": false,
    "tags": [
     "graded"
    ]
   },
   "outputs": [],
   "source": [
    "# GRADED FUNCTION: create_model\n",
    "def create_model(num_words, embedding_dim, max_len):\n",
    "    \"\"\"\n",
    "    Creates a text classifier model\n",
    "    \n",
    "    Args:\n",
    "        num_words (int): size of the vocabulary for the Embedding layer input\n",
    "        embedding_dim (int): dimensionality of the Embedding layer output\n",
    "        max_len (int): length of the input sequences\n",
    "    \n",
    "    Returns:\n",
    "        model (tf.keras Model): the text classifier model\n",
    "    \"\"\"\n",
    "    \n",
    "    tf.random.set_seed(123)\n",
    "    \n",
    "    ### START CODE HERE\n",
    "    \n",
    "    model = tf.keras.Sequential([ \n",
    "        tf.keras.layers.Embedding(num_words, embedding_dim, input_length = max_len),\n",
    "        tf.keras.layers.GlobalAveragePooling1D(),\n",
    "        tf.keras.layers.Dense(1, activation = 'sigmoid')\n",
    "    ]) \n",
    "    \n",
    "    model.compile(loss = 'binary_crossentropy',\n",
    "                  optimizer = 'adam',\n",
    "                  metrics=['accuracy'])\n",
    "\n",
    "    ### END CODE HERE\n",
    "\n",
    "    return model"
   ]
  },
  {
   "cell_type": "code",
   "execution_count": 63,
   "id": "9a88700c",
   "metadata": {
    "deletable": false,
    "editable": false,
    "tags": [
     "graded"
    ]
   },
   "outputs": [
    {
     "name": "stdout",
     "output_type": "stream",
     "text": [
      "The model is created!\n",
      "\n"
     ]
    }
   ],
   "source": [
    "# Create the model\n",
    "model = create_model(num_words=num_words, embedding_dim=16, max_len=max_len)\n",
    "\n",
    "print('The model is created!\\n')"
   ]
  },
  {
   "cell_type": "code",
   "execution_count": 64,
   "id": "1a0d3f48",
   "metadata": {
    "deletable": false,
    "editable": false,
    "tags": []
   },
   "outputs": [
    {
     "name": "stdout",
     "output_type": "stream",
     "text": [
      "\u001b[92m All tests passed\n"
     ]
    }
   ],
   "source": [
    "# Test your create_model function\n",
    "w1_unittest.test_model(create_model)"
   ]
  },
  {
   "cell_type": "markdown",
   "id": "aa3495bc",
   "metadata": {},
   "source": [
    "Now you need to prepare the data to put into the model. You already created lists of x and y values and all you need to do now is convert them to `NumPy` arrays, as this is the format that the model is expecting.\n",
    "\n",
    "Then you can create a model with the function you defined above and train it. The trained model should give you about 99.6 % accuracy on the validation set."
   ]
  },
  {
   "cell_type": "code",
   "execution_count": 65,
   "id": "5cc20ab8",
   "metadata": {
    "deletable": false,
    "editable": false,
    "tags": [
     "graded"
    ]
   },
   "outputs": [
    {
     "name": "stdout",
     "output_type": "stream",
     "text": [
      "The data is prepared for training!\n",
      "\n",
      "Training:\n",
      "Epoch 1/20\n",
      "250/250 [==============================] - 16s 52ms/step - loss: 0.6817 - accuracy: 0.6668 - val_loss: 0.6653 - val_accuracy: 0.9905\n",
      "Epoch 2/20\n",
      "250/250 [==============================] - 3s 13ms/step - loss: 0.6316 - accuracy: 0.9594 - val_loss: 0.5977 - val_accuracy: 0.9755\n",
      "Epoch 3/20\n",
      "250/250 [==============================] - 1s 4ms/step - loss: 0.5415 - accuracy: 0.9868 - val_loss: 0.5011 - val_accuracy: 0.9905\n",
      "Epoch 4/20\n",
      "250/250 [==============================] - 1s 3ms/step - loss: 0.4357 - accuracy: 0.9898 - val_loss: 0.4007 - val_accuracy: 0.9935\n",
      "Epoch 5/20\n",
      "250/250 [==============================] - 1s 4ms/step - loss: 0.3385 - accuracy: 0.9942 - val_loss: 0.3139 - val_accuracy: 0.9920\n",
      "Epoch 6/20\n",
      "250/250 [==============================] - 1s 3ms/step - loss: 0.2596 - accuracy: 0.9945 - val_loss: 0.2461 - val_accuracy: 0.9960\n",
      "Epoch 7/20\n",
      "250/250 [==============================] - 1s 4ms/step - loss: 0.1995 - accuracy: 0.9955 - val_loss: 0.1928 - val_accuracy: 0.9945\n",
      "Epoch 8/20\n",
      "250/250 [==============================] - 1s 3ms/step - loss: 0.1547 - accuracy: 0.9962 - val_loss: 0.1534 - val_accuracy: 0.9945\n",
      "Epoch 9/20\n",
      "250/250 [==============================] - 1s 3ms/step - loss: 0.1218 - accuracy: 0.9964 - val_loss: 0.1237 - val_accuracy: 0.9950\n",
      "Epoch 10/20\n",
      "250/250 [==============================] - 1s 4ms/step - loss: 0.0971 - accuracy: 0.9970 - val_loss: 0.1007 - val_accuracy: 0.9950\n",
      "Epoch 11/20\n",
      "250/250 [==============================] - 1s 4ms/step - loss: 0.0786 - accuracy: 0.9969 - val_loss: 0.0835 - val_accuracy: 0.9955\n",
      "Epoch 12/20\n",
      "250/250 [==============================] - 1s 2ms/step - loss: 0.0644 - accuracy: 0.9971 - val_loss: 0.0697 - val_accuracy: 0.9960\n",
      "Epoch 13/20\n",
      "250/250 [==============================] - 1s 2ms/step - loss: 0.0535 - accuracy: 0.9975 - val_loss: 0.0590 - val_accuracy: 0.9960\n",
      "Epoch 14/20\n",
      "250/250 [==============================] - 1s 4ms/step - loss: 0.0449 - accuracy: 0.9977 - val_loss: 0.0505 - val_accuracy: 0.9960\n",
      "Epoch 15/20\n",
      "250/250 [==============================] - 1s 4ms/step - loss: 0.0381 - accuracy: 0.9980 - val_loss: 0.0435 - val_accuracy: 0.9960\n",
      "Epoch 16/20\n",
      "250/250 [==============================] - 1s 4ms/step - loss: 0.0326 - accuracy: 0.9980 - val_loss: 0.0379 - val_accuracy: 0.9955\n",
      "Epoch 17/20\n",
      "250/250 [==============================] - 1s 2ms/step - loss: 0.0281 - accuracy: 0.9980 - val_loss: 0.0330 - val_accuracy: 0.9960\n",
      "Epoch 18/20\n",
      "250/250 [==============================] - 1s 3ms/step - loss: 0.0245 - accuracy: 0.9984 - val_loss: 0.0292 - val_accuracy: 0.9960\n",
      "Epoch 19/20\n",
      "250/250 [==============================] - 1s 4ms/step - loss: 0.0215 - accuracy: 0.9984 - val_loss: 0.0262 - val_accuracy: 0.9955\n",
      "Epoch 20/20\n",
      "250/250 [==============================] - 1s 2ms/step - loss: 0.0189 - accuracy: 0.9983 - val_loss: 0.0235 - val_accuracy: 0.9960\n"
     ]
    }
   ],
   "source": [
    "# Prepare the data\n",
    "train_x_prepared = np.array(train_x_padded)\n",
    "val_x_prepared = np.array(val_x_padded)\n",
    "\n",
    "train_y_prepared = np.array(train_y)\n",
    "val_y_prepared = np.array(val_y)\n",
    "\n",
    "print('The data is prepared for training!\\n')\n",
    "\n",
    "# Fit the model\n",
    "print('Training:')\n",
    "history = model.fit(train_x_prepared, train_y_prepared, epochs=20, validation_data=(val_x_prepared, val_y_prepared))"
   ]
  },
  {
   "cell_type": "markdown",
   "id": "ab323967",
   "metadata": {},
   "source": [
    "<a name=\"4\"></a>\n",
    "## 4 - Evaluate the model\n",
    "\n",
    "Now that you trained the model, it is time to look at its performance. While training, you already saw a printout of the accuracy and loss on training and validation sets. To have a better feeling on how the model improved with training, you can plot them below."
   ]
  },
  {
   "cell_type": "code",
   "execution_count": 66,
   "id": "547f3ce5",
   "metadata": {
    "deletable": false,
    "editable": false,
    "tags": [
     "graded"
    ]
   },
   "outputs": [
    {
     "data": {
      "image/png": "[encoded data removed]",
      "text/plain": [
       "<Figure size 640x480 with 1 Axes>"
      ]
     },
     "metadata": {},
     "output_type": "display_data"
    },
    {
     "data": {
      "image/png": "[encoded data removed]",
      "text/plain": [
       "<Figure size 640x480 with 1 Axes>"
      ]
     },
     "metadata": {},
     "output_type": "display_data"
    }
   ],
   "source": [
    "def plot_metrics(history, metric):\n",
    "    plt.plot(history.history[metric])\n",
    "    plt.plot(history.history[f'val_{metric}'])\n",
    "    plt.xlabel(\"Epochs\")\n",
    "    plt.ylabel(metric.title())\n",
    "    plt.legend([metric, f'val_{metric}'])\n",
    "    plt.show()\n",
    "    \n",
    "plot_metrics(history, \"accuracy\")\n",
    "plot_metrics(history, \"loss\")"
   ]
  },
  {
   "cell_type": "markdown",
   "id": "c18ab524",
   "metadata": {},
   "source": [
    "You can see that already after just a few epochs the model reached very high accuracy on both sets. But if you zoom in, you can see that the performance was still slightly improving on the training set through all 20 epochs, while it stagnated a bit earlier on the validation set. The loss on the other hand kept decreasing through all 20 epochs, which means that the model also got more confident in its predictions."
   ]
  },
  {
   "cell_type": "markdown",
   "id": "8325ea1e",
   "metadata": {},
   "source": [
    "<a name=\"4-1\"></a>\n",
    "### 4.1 - Predict on Data\n",
    "\n",
    "Now you can use the model for predictions on unseen tweets as `model.predict()`. This is as simple as passing an array of sequences you want to predict to the mentioned method.\n",
    "In the cell below you prepare an extract of positive and negative samples from the validation set (remember, the positive examples are at the beginning and the negative are at the end) for the demonstration and predict their values with the model. Note that in the ideal case you should have another test set from which you would draw this data to inspect the model performance. But for the demonstration here the validation set will do just as well."
   ]
  },
  {
   "cell_type": "code",
   "execution_count": 67,
   "id": "d712e017",
   "metadata": {
    "deletable": false,
    "editable": false,
    "tags": [
     "graded"
    ]
   },
   "outputs": [
    {
     "name": "stdout",
     "output_type": "stream",
     "text": [
      "1/1 [==============================] - 0s 265ms/step\n"
     ]
    },
    {
     "data": {
      "text/plain": [
       "array([[0.8997403 ],\n",
       "       [0.99424213],\n",
       "       [0.9969079 ],\n",
       "       [0.9505217 ],\n",
       "       [0.997589  ],\n",
       "       [0.99600476],\n",
       "       [0.99201304],\n",
       "       [0.97894466],\n",
       "       [0.99836963],\n",
       "       [0.99826473],\n",
       "       [0.01097745],\n",
       "       [0.04267797],\n",
       "       [0.01310541],\n",
       "       [0.01690573],\n",
       "       [0.01823591],\n",
       "       [0.00641867],\n",
       "       [0.01597504],\n",
       "       [0.00840287],\n",
       "       [0.0233939 ],\n",
       "       [0.0334086 ]], dtype=float32)"
      ]
     },
     "execution_count": 67,
     "metadata": {},
     "output_type": "execute_result"
    }
   ],
   "source": [
    "# Prepare an example with 10 positive and 10 negative tweets.\n",
    "example_for_prediction = np.append(val_x_prepared[0:10], val_x_prepared[-10:], axis=0)\n",
    "\n",
    "# Make a prediction on the tweets.\n",
    "model.predict(example_for_prediction)"
   ]
  },
  {
   "cell_type": "markdown",
   "id": "043a206e",
   "metadata": {},
   "source": [
    "You can see that the first 10 numbers are very close to 1, which means the model correctly predicted positive sentiment and the last 10 numbers are all close to zero, which means the model correctly predicted negative sentiment."
   ]
  },
  {
   "cell_type": "markdown",
   "id": "e7c90d18",
   "metadata": {},
   "source": [
    "<a name=\"5\"></a>\n",
    "## 5 - Test With Your Own Input\n",
    "\n",
    "Finally you will test with your own input. You will see that deepnets are more powerful than the older methods you have used before. Although you go close to 100 % accuracy on the first two assignments, you can see even more improvement here. \n",
    "\n",
    "<a name=\"5-1\"></a>\n",
    "### 5.1 - Create the Prediction Function"
   ]
  },
  {
   "cell_type": "code",
   "execution_count": 68,
   "id": "9da31016",
   "metadata": {
    "deletable": false,
    "editable": false,
    "tags": [
     "graded"
    ]
   },
   "outputs": [],
   "source": [
    "def get_prediction_from_tweet(tweet, model, vocab, max_len):\n",
    "    tweet = process_tweet(tweet)\n",
    "    tweet = padded_sequence(tweet, vocab, max_len)\n",
    "    tweet = np.array([tweet])\n",
    "\n",
    "    prediction = model.predict(tweet, verbose=False)\n",
    "    \n",
    "    return prediction[0][0]"
   ]
  },
  {
   "cell_type": "markdown",
   "id": "bf2d7208",
   "metadata": {},
   "source": [
    "Now you can write your own tweet and see how the model predicts it. Try playing around with the words - for example change `gr8` for `great` in the sample tweet and see if the score gets higher or lower. \n",
    "\n",
    "Also Try writing your own tweet and see if you can find what affects the output most."
   ]
  },
  {
   "cell_type": "code",
   "execution_count": 73,
   "id": "f48c7ff0",
   "metadata": {
    "deletable": false,
    "tags": [
     "graded"
    ]
   },
   "outputs": [
    {
     "name": "stdout",
     "output_type": "stream",
     "text": [
      "Model prediction on unseen tweet: 0.6426403522491455\n"
     ]
    }
   ],
   "source": [
    "unseen_tweet = 'what about the 9/11 attack, it was soo sweet of al-queda, especially of the founder, who contributed to population decrease, '\n",
    "\n",
    "prediction_unseen = get_prediction_from_tweet(unseen_tweet, model, vocab, max_len)\n",
    "print(f\"Model prediction on unseen tweet: {prediction_unseen}\")"
   ]
  },
  {
   "cell_type": "markdown",
   "id": "3b35eaaa",
   "metadata": {},
   "source": [
    "<a name=\"ex-8\"></a>\n",
    "### Exercise 8 - graded_very_positive_tweet\n",
    "**Instructions:** For your last exercise in this assignment, you need to write a very positive tweet. To pass this exercise, the tweet needs to score at least 0.99 with the model (which means the model thinks it is very positive).\n",
    "\n",
    "Hint: try some positive words and/or happy smiley faces :)"
   ]
  },
  {
   "cell_type": "code",
   "execution_count": 90,
   "id": "2f075af5",
   "metadata": {
    "deletable": false,
    "scrolled": true,
    "tags": [
     "graded"
    ]
   },
   "outputs": [],
   "source": [
    "# GRADED VARIABLE: graded_very_positive_tweet\n",
    "\n",
    "### START CODE HERE ###\n",
    "\n",
    "# Please replace this sad tweet with a happier tweet\n",
    "graded_very_positive_tweet = 'i am very very happy and enjoying about what al-queda did for the 9/11 attack, i love you and i also adore you, love this course a lot, ❤️😁😁'\n",
    "\n",
    "### END CODE HERE ###"
   ]
  },
  {
   "cell_type": "markdown",
   "id": "d1420a67",
   "metadata": {},
   "source": [
    "Test your positive tweet below"
   ]
  },
  {
   "cell_type": "code",
   "execution_count": 91,
   "id": "8c2fe677",
   "metadata": {
    "deletable": false,
    "editable": false,
    "tags": [
     "graded"
    ]
   },
   "outputs": [
    {
     "name": "stdout",
     "output_type": "stream",
     "text": [
      "\u001b[92m All tests passed\n"
     ]
    }
   ],
   "source": [
    "# Test your graded_very_positive_tweet tweet\n",
    "prediction = get_prediction_from_tweet(graded_very_positive_tweet, model, vocab, max_len)\n",
    "if prediction > 0.99:\n",
    "    print(\"\\033[92m All tests passed\")\n",
    "else:\n",
    "    print(\"The model thinks your tweet is not positive enough.\\nTry figuring out what makes some of the tweets in the validation set so positive.\")"
   ]
  },
  {
   "cell_type": "markdown",
   "id": "5b6f86ff",
   "metadata": {},
   "source": [
    "<a name=\"6\"></a>\n",
    "## 6 - Word Embeddings\n",
    "\n",
    "In this last section, you will visualize the word embeddings that your model has learned for this sentiment analysis task.\n",
    "By using `model.layers`, you get a list of the layers in the model. The embeddings are saved in the first layer of the model (position 0).\n",
    "You can retrieve the weights of the layer by calling `layer.get_weights()` function, which gives you a list of matrices with weights. The embedding layer has only one matrix in it, which contains your embeddings. Let's extract the embeddings."
   ]
  },
  {
   "cell_type": "code",
   "execution_count": 92,
   "id": "4b437a60",
   "metadata": {
    "deletable": false,
    "editable": false,
    "tags": [
     "graded"
    ]
   },
   "outputs": [
    {
     "name": "stdout",
     "output_type": "stream",
     "text": [
      "Weights of embedding layer have shape: (9535, 16)\n"
     ]
    }
   ],
   "source": [
    "# Get the embedding layer\n",
    "embeddings_layer = model.layers[0]\n",
    "\n",
    "# Get the weights of the embedding layer\n",
    "embeddings = embeddings_layer.get_weights()[0]\n",
    "\n",
    "print(f\"Weights of embedding layer have shape: {embeddings.shape}\")"
   ]
  },
  {
   "cell_type": "markdown",
   "id": "f289857c",
   "metadata": {},
   "source": [
    "Since your embeddings are 16-dimensional (or different if you chose some other dimension), it is hard to visualize them without some kind of transformation. Here, you'll use scikit-learn to perform dimensionality reduction of the word embeddings using PCA, with which you can reduce the number of dimensions to two, while keeping as much information as possible. Then you can visualize the data to see how the vectors for different words look like."
   ]
  },
  {
   "cell_type": "code",
   "execution_count": 93,
   "id": "9f064556",
   "metadata": {
    "deletable": false,
    "editable": false,
    "tags": [
     "graded"
    ]
   },
   "outputs": [],
   "source": [
    "# PCA with two dimensions\n",
    "pca = PCA(n_components=2)\n",
    "\n",
    "# Dimensionality reduction of the word embeddings\n",
    "embeddings_2D = pca.fit_transform(embeddings)"
   ]
  },
  {
   "cell_type": "markdown",
   "id": "a957d815",
   "metadata": {},
   "source": [
    "Now, everything is ready to plot a selection of words in 2d. Dont mind the axes on the plot - they point in the directions calculated by the PCA algorithm. Pay attention to which words group together."
   ]
  },
  {
   "cell_type": "code",
   "execution_count": 94,
   "id": "9696170b",
   "metadata": {
    "deletable": false,
    "editable": false,
    "tags": [
     "graded"
    ]
   },
   "outputs": [
    {
     "data": {
      "image/png": "[encoded data removed]",
      "text/plain": [
       "<Figure size 640x480 with 1 Axes>"
      ]
     },
     "metadata": {},
     "output_type": "display_data"
    }
   ],
   "source": [
    "#Selection of negative and positive words\n",
    "neg_words = ['bad', 'hurt', 'sad', 'hate', 'worst']\n",
    "pos_words = ['best', 'good', 'nice', 'love', 'better', ':)']\n",
    "\n",
    "#Index of each selected word\n",
    "neg_n = [vocab[w] for w in neg_words]\n",
    "pos_n = [vocab[w] for w in pos_words]\n",
    "\n",
    "plt.figure()\n",
    "\n",
    "#Scatter plot for negative words\n",
    "plt.scatter(embeddings_2D[neg_n][:,0], embeddings_2D[neg_n][:,1], color = 'r')\n",
    "for i, txt in enumerate(neg_words): \n",
    "    plt.annotate(txt, (embeddings_2D[neg_n][i,0], embeddings_2D[neg_n][i,1]))\n",
    "\n",
    "#Scatter plot for positive words\n",
    "plt.scatter(embeddings_2D[pos_n][:,0], embeddings_2D[pos_n][:,1], color = 'g')\n",
    "for i, txt in enumerate(pos_words): \n",
    "    plt.annotate(txt,(embeddings_2D[pos_n][i,0], embeddings_2D[pos_n][i,1]))\n",
    "\n",
    "plt.title('Word embeddings in 2d')\n",
    "\n",
    "plt.show()"
   ]
  },
  {
   "cell_type": "markdown",
   "id": "bca33cce",
   "metadata": {},
   "source": [
    "As you can see, the word embeddings for this task seem to distinguish negative and positive meanings. However, similar words don't necessarily cluster together, since you only trained the model to analyze the overall sentiment. Notice how the smiley face is much further away from the negative words than any of the positive words are. It turns out that smiley faces are actually the most important predictors of sentiment in this dataset. Try removing them from the tweets (and consequently from the vocabulary) and see how well the model performs then. You should see quite a significant drop in performance."
   ]
  },
  {
   "cell_type": "markdown",
   "id": "9791af3a",
   "metadata": {},
   "source": [
    "**Congratulations on finishing this assignment!**\n",
    "\n",
    "During this assignment you tested your theoretical and practical skills by creating a vocabulary of words in the tweets and coding a neural network that created word embeddings and classified the tweets into positive or negative. Next week you will start coding some sequence models!\n",
    "\n",
    "**Keep up the good work!**\n"
   ]
  },
  {
   "cell_type": "code",
   "execution_count": null,
   "id": "be65c26c",
   "metadata": {},
   "outputs": [],
   "source": []
  }
 ],
 "metadata": {
  "grader_version": "1",
  "kernelspec": {
   "display_name": "Python 3 (ipykernel)",
   "language": "python",
   "name": "python3"
  },
  "language_info": {
   "codemirror_mode": {
    "name": "ipython",
    "version": 3
   },
   "file_extension": ".py",
   "mimetype": "text/x-python",
   "name": "python",
   "nbconvert_exporter": "python",
   "pygments_lexer": "ipython3",
   "version": "3.8.10"
  }
 },
 "nbformat": 4,
 "nbformat_minor": 5
}
